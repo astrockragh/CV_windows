{
 "cells": [
  {
   "cell_type": "code",
   "execution_count": 1,
   "metadata": {
    "ExecuteTime": {
     "end_time": "2020-10-06T13:55:50.536432Z",
     "start_time": "2020-10-06T13:55:49.706055Z"
    }
   },
   "outputs": [],
   "source": [
    "import numpy as np\n",
    "import matplotlib.pyplot as plt"
   ]
  },
  {
   "cell_type": "code",
   "execution_count": 2,
   "metadata": {
    "ExecuteTime": {
     "end_time": "2020-10-06T13:55:50.544408Z",
     "start_time": "2020-10-06T13:55:50.538424Z"
    }
   },
   "outputs": [],
   "source": [
    "def depth(dmag, pointings=1, t0=int(1e4), time=int(1e6)):\n",
    "    return 10**(dmag/1.25)*pointings*t0"
   ]
  },
  {
   "cell_type": "code",
   "execution_count": 3,
   "metadata": {
    "ExecuteTime": {
     "end_time": "2020-10-06T13:55:50.556375Z",
     "start_time": "2020-10-06T13:55:50.546405Z"
    }
   },
   "outputs": [
    {
     "name": "stdout",
     "output_type": "stream",
     "text": [
      "1 pointing with 1 Ms results in a depth of 32.22 AB\n"
     ]
    }
   ],
   "source": [
    "T=0\n",
    "maxT=1e6\n",
    "dmag=0\n",
    "while T<maxT:\n",
    "    T=depth(dmag, 1)\n",
    "    dmag+=0.01\n",
    "print(f\"1 pointing with 1 Ms results in a depth of {np.round(dmag+29.8, 4)} AB\")"
   ]
  },
  {
   "cell_type": "code",
   "execution_count": 4,
   "metadata": {
    "ExecuteTime": {
     "end_time": "2020-10-06T13:55:50.564356Z",
     "start_time": "2020-10-06T13:55:50.559369Z"
    }
   },
   "outputs": [
    {
     "name": "stdout",
     "output_type": "stream",
     "text": [
      "20 pointing with 1 Ms results in a depth of 30.69 AB\n"
     ]
    }
   ],
   "source": [
    "T=0\n",
    "maxT=1e6\n",
    "dmag=0\n",
    "while T<maxT:\n",
    "    T=depth(dmag, 20)\n",
    "    dmag+=0.01\n",
    "print(f\"20 pointing with 1 Ms results in a depth of {np.round(dmag+29.8, 4)} AB\")"
   ]
  },
  {
   "cell_type": "code",
   "execution_count": 5,
   "metadata": {
    "ExecuteTime": {
     "end_time": "2020-10-06T13:55:50.574331Z",
     "start_time": "2020-10-06T13:55:50.566351Z"
    }
   },
   "outputs": [
    {
     "name": "stdout",
     "output_type": "stream",
     "text": [
      "100 pointings with 1 Ms results in a depth of 29.801 AB\n"
     ]
    }
   ],
   "source": [
    "T=0\n",
    "maxT=1e6\n",
    "dmag=0\n",
    "while abs(T-maxT)>100:\n",
    "    T=depth(dmag, 100)\n",
    "    if T>maxT:\n",
    "        dmag-=0.001\n",
    "    else:\n",
    "        dmag+=0.001\n",
    "print(f\"100 pointings with 1 Ms results in a depth of {np.round(dmag+29.8, 4)} AB\")"
   ]
  },
  {
   "cell_type": "code",
   "execution_count": 6,
   "metadata": {
    "ExecuteTime": {
     "end_time": "2020-10-06T13:55:50.582311Z",
     "start_time": "2020-10-06T13:55:50.576324Z"
    }
   },
   "outputs": [
    {
     "name": "stdout",
     "output_type": "stream",
     "text": [
      "1000 pointing with 1 Ms results in a depth of 28.549 AB\n"
     ]
    }
   ],
   "source": [
    "T=0\n",
    "maxT=1e6\n",
    "dmag=0\n",
    "while abs(T-maxT)>100:\n",
    "    T=depth(dmag, 1000)\n",
    "    if T>maxT:\n",
    "        dmag-=0.001\n",
    "    else:\n",
    "        dmag+=0.001\n",
    "print(f\"1000 pointing with 1 Ms results in a depth of {np.round(dmag+29.8, 4)} AB\")"
   ]
  },
  {
   "cell_type": "code",
   "execution_count": 7,
   "metadata": {
    "ExecuteTime": {
     "end_time": "2020-10-08T16:10:42.736287Z",
     "start_time": "2020-10-08T16:10:42.644317Z"
    }
   },
   "outputs": [
    {
     "name": "stdout",
     "output_type": "stream",
     "text": [
      "1.0 0.0\n",
      "0.5000000000000001 0.8660254037844386\n",
      "-0.4999999999999998 0.8660254037844387\n",
      "-1.0 1.2246467991473532e-16\n",
      "-0.5000000000000004 -0.8660254037844385\n",
      "0.5000000000000001 -0.8660254037844386\n"
     ]
    }
   ],
   "source": [
    "for i in range(6):\n",
    "    print(np.cos(i*np.pi/3),np.sin(i*np.pi/3))"
   ]
  },
  {
   "cell_type": "code",
   "execution_count": null,
   "metadata": {},
   "outputs": [],
   "source": []
  }
 ],
 "metadata": {
  "hide_input": false,
  "kernelspec": {
   "display_name": "Python 3",
   "language": "python",
   "name": "python3"
  },
  "language_info": {
   "codemirror_mode": {
    "name": "ipython",
    "version": 3
   },
   "file_extension": ".py",
   "mimetype": "text/x-python",
   "name": "python",
   "nbconvert_exporter": "python",
   "pygments_lexer": "ipython3",
   "version": "3.7.4"
  }
 },
 "nbformat": 4,
 "nbformat_minor": 4
}
