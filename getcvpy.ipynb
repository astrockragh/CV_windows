{
 "cells": [
  {
   "cell_type": "code",
   "execution_count": 1,
   "metadata": {
    "ExecuteTime": {
     "end_time": "2020-07-23T10:18:10.548790Z",
     "start_time": "2020-07-23T10:18:08.667013Z"
    }
   },
   "outputs": [],
   "source": [
    "import numpy as np\n",
    "import scipy as sc\n",
    "import math"
   ]
  },
  {
   "cell_type": "code",
   "execution_count": 65,
   "metadata": {
    "ExecuteTime": {
     "end_time": "2020-07-23T11:04:20.417543Z",
     "start_time": "2020-07-23T11:04:20.397601Z"
    }
   },
   "outputs": [],
   "source": [
    "def Dlin(Omega_0, z, h0=70):\n",
    "#assumes a flat cosmology\n",
    "  Omega = Omega_0*(1+z)**3/(1+Omega_0*((1+z)**3-1)) #omega_0 here is matter\n",
    "  gz = 2.5*Omega/(h0**-1 + 209.0*Omega/140. + Omega**(4./7.)) #not sure it should be h0^-1 here but 1/70?\n",
    "  g0 = 2.5*Omega_0/(1./70. + 209.0*Omega_0/140. + Omega_0**(4./7.))\n",
    "  D = gz/(g0*(1+z))\n",
    "  return D\n",
    "\n",
    "def pofk(karr, ns=0.96, h=0.678, omega0=0.308, omegaB=0.022, sigma8 = 0.82):\n",
    "    assert(type(karr)==np.ndarray)\n",
    "    omegaB=omegaB/h**2\n",
    "    gamma=omega0*h*np.exp(-omegaB*(1.+np.sqrt(2*h)/omega0))\n",
    "\n",
    "# determine sigma8 from model\n",
    "# following Peacock, p. 528\n",
    "\n",
    "    keff=(0.172+0.011*(np.log(gamma/0.34))**2)\n",
    "    q=keff/(h*gamma)\n",
    "    tk=np.log(1+2.34*q)/(2.34*q)*(1+3.89*q+(16.1*q)**2+(5.46*q)**3+(6.71*q)**4)**(-0.25)\n",
    "    sigma8squn=keff**(3.0+ns)*tk**2\n",
    "\n",
    "    q=karr/(h*gamma)   # k/h Gamma\n",
    "    tk=np.log(1+2.34*q)/(2.34*q)*(1+3.89*q+(16.1*q)**2+(5.46*q)**3+(6.71*q)**4)**(-0.25) #any idea where the constants come from?\n",
    "    delsq=karr**ns*tk**2       #; took out factor of k^3\n",
    "    delsq=delsq*(sigma8)**2/sigma8squn        #normalize to Borgani et al. sigma 8, omegam=0.31,omegal=0.69\n",
    "\n",
    "    pofk=2*np.pi**2*delsq\n",
    "\n",
    "    return pofk"
   ]
  },
  {
   "cell_type": "code",
   "execution_count": 70,
   "metadata": {
    "ExecuteTime": {
     "end_time": "2020-07-23T12:54:51.444831Z",
     "start_time": "2020-07-23T12:54:51.425883Z"
    }
   },
   "outputs": [
    {
     "ename": "SyntaxError",
     "evalue": "invalid syntax (<ipython-input-70-a5ca58e1b33b>, line 65)",
     "output_type": "error",
     "traceback": [
      "\u001b[1;36m  File \u001b[1;32m\"<ipython-input-70-a5ca58e1b33b>\"\u001b[1;36m, line \u001b[1;32m65\u001b[0m\n\u001b[1;33m    ind2=((lindgen(nsteps+1,nsteps+1)) mod (nsteps+1))\u001b[0m\n\u001b[1;37m                                         ^\u001b[0m\n\u001b[1;31mSyntaxError\u001b[0m\u001b[1;31m:\u001b[0m invalid syntax\n"
     ]
    }
   ],
   "source": [
    "def intpk4(nsteps=200, rangemul=1.0, nmc=math.floor(nsteps/3.),x1=(20.20)/2, x2=(80.78)/2, x3=(1301.4)/2.):\n",
    "\n",
    "# \t;print,'in intpk4: ', x1,x2,x3\n",
    "\n",
    "    k1max=(0.4+16/x1)*1.25*rangemul\n",
    "    k2max=(0.4+16/x2)*1.25*rangemul\n",
    "    k3max=(0.4+16/x3)*1.25*rangemul\n",
    "\n",
    "# ; sufficient to encompass entire region where sin^2=1/2 not adequate:\n",
    "    k1maxb=4.*np.pi/x1\n",
    "    k2maxb=4.*np.pi/x2\n",
    "    k3maxb=4.*np.pi/x3\n",
    "\n",
    "    nstep2=nmc\n",
    "# ;floor(nsteps/5)\n",
    "\n",
    "    dk1=(k1max-k1maxb)/(nstep2-1)\n",
    "    dk2=(k2max-k2maxb)/(nstep2-1)\n",
    "    dk3=(k3max-k3maxb)/(nstep2-1)\n",
    "\n",
    "    dk1b=k1maxb/(nsteps-1)\n",
    "    dk2b=k2maxb/(nsteps-1)\n",
    "    dk3b=k3maxb/(nsteps-1)\n",
    "\n",
    "    k1arr=np.arange(1,nsteps+1) #watch out here, findgen originally\n",
    "    k1arr=k1arr*dk1b\n",
    "    k2arr=k1arr*dk2b\n",
    "    k3arr=k1arr*dk3b\n",
    "\n",
    "    w1=np.sin(k1arr*x1)/k1arr/x1\n",
    "#     w1(where(finite(w1) eq 0))=1.\n",
    "\n",
    "    w2=np.sin(k2arr*x2)/k2arr/x2\n",
    "#     w2(where(finite(w2) eq 0))=1.\n",
    "\n",
    "    w3=np.sin(k3arr*x3)/k3arr/x3\n",
    "#     w3(where(finite(w3) eq 0))=1.\n",
    "\n",
    "    w1=w1**2\n",
    "    w2=w2**2\n",
    "    w3=w3**2\n",
    "\n",
    "    k1b=np.exp(np.log(k1max/k1maxb)/nstep2*(findgen(nstep2)+1.))*k1maxb\n",
    "    k1arr=[k1arr,k1b]\n",
    "    w1=[w1,(0.5)/x1**2/k1b**2]\n",
    "    k2b=np.exp(np.log(k2max/k2maxb)/nstep2*(findgen(nstep2)+1.))*k2maxb\n",
    "    k2arr=[k2arr,k2b]\n",
    "    w2=[w2,(0.5)/x2**2/k2b**2]\n",
    "    k3b=np.exp(np.log(k3max/k3maxb)/nstep2*(findgen(nstep2)+1.))*k3maxb\n",
    "    k3arr=[k3arr,k3b]\n",
    "    w3=[w1,(0.5)/x3**2/k3b**2]\n",
    "\n",
    "    integral=0.\n",
    "\n",
    "    nsteps=nsteps+nstep2\n",
    "# ;plot,k3arr\n",
    "\n",
    "    for i in np.arange(0,nsteps):\n",
    "        k1=k1arr[i]\n",
    "        windowf=w1[i]\n",
    "        dk1=(k1arr([i]<nsteps)-k1arr([i-1]>0))/2.\n",
    "# ;\t\tif i eq 0 or i eq nsteps then dk1=dk1*2.\n",
    "        ktot=k1**2\n",
    "\n",
    "        ind2=((lindgen(nsteps+1,nsteps+1)) mod (nsteps+1))\n",
    "        dk2=(k2arr((ind2+1)<nsteps)-k2arr((ind2-1)>0))/2.\n",
    "# ;\t\twh=where(ind2 eq 0 or ind2 eq nsteps)\n",
    "# ;\t\tdk2(wh)=dk2(wh)*2.\n",
    "        ktot=ktot+k2arr(ind2)**2\n",
    "        windowf=windowf*w2(ind2)\n",
    "        ind2=1.\n",
    "        \n",
    "        ind3=(lindgen(nsteps+1,nsteps+1) / (nsteps+1))\n",
    "        dk3=(k3arr((ind3+1)<nsteps)-k3arr((ind3-1)>0))/2.\n",
    "# ;\t\twh=where(ind3 eq 0 or ind3 eq nsteps)\n",
    "# ;\t\tdk3(wh)=dk3(wh)*2.\n",
    "        ktot=ktot+k3arr(ind3)^2\n",
    "        windowf=windowf*w3(ind3)\n",
    "        ind3=1.\n",
    "        ktot=sqrt(ktot)\n",
    "\n",
    "        pk=pofk(ktot)\n",
    "        if i eq 0 then pk(0,0)=0.\n",
    "        integral+=total(double(pk*windowf*dk1*dk2*dk3))\n",
    "\treturn integral*1/!pi^3"
   ]
  },
  {
   "cell_type": "code",
   "execution_count": null,
   "metadata": {},
   "outputs": [],
   "source": [
    "np.arange(1)"
   ]
  }
 ],
 "metadata": {
  "hide_input": false,
  "kernelspec": {
   "display_name": "Python 3",
   "language": "python",
   "name": "python3"
  },
  "language_info": {
   "codemirror_mode": {
    "name": "ipython",
    "version": 3
   },
   "file_extension": ".py",
   "mimetype": "text/x-python",
   "name": "python",
   "nbconvert_exporter": "python",
   "pygments_lexer": "ipython3",
   "version": "3.7.4"
  }
 },
 "nbformat": 4,
 "nbformat_minor": 2
}
