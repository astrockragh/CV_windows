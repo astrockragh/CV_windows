{
 "cells": [
  {
   "cell_type": "code",
   "execution_count": 1,
   "metadata": {
    "ExecuteTime": {
     "end_time": "2020-07-26T14:10:22.762215Z",
     "start_time": "2020-07-26T14:10:20.793488Z"
    }
   },
   "outputs": [],
   "source": [
    "import matplotlib.pyplot as plt\n",
    "%matplotlib inline\n",
    "import numpy as np\n",
    "from scipy.stats import gamma\n",
    "import scipy.integrate\n",
    "import pandas\n",
    "import math\n",
    "\n",
    "# TO DO: Update to most recent Planck results\n",
    "from astropy.cosmology import Planck18_arXiv_v2 as cosmo"
   ]
  },
  {
   "cell_type": "code",
   "execution_count": 2,
   "metadata": {
    "ExecuteTime": {
     "end_time": "2020-07-26T14:10:22.778806Z",
     "start_time": "2020-07-26T14:10:22.763190Z"
    }
   },
   "outputs": [],
   "source": [
    "# Path to tables of cosmic variance values\n",
    "path = \"../CV_Vals/\"\n",
    "\n",
    "# Get young, blue galaxy spectrum\n",
    "data = np.loadtxt(\"erb2010_continuum.dat\")\n",
    "x = data[:,0]\n",
    "y = data[:,1] * x**2 / 3e18 # Convert to correct flux values\n",
    "\n",
    "# Constants\n",
    "tot_sky = 41253. # Total degrees on the sky\n",
    "masses = np.array([7.0, 7.5, 8.0, 8.5, 9.0, 9.5, 10.0, 10.5, 11.0]) # Mass bins in log(M/Msun)\n",
    "\n",
    "# TO DO: Modify cosmic variance values from the tables such that masses <= 8 use the same cosmic variance values as 8.5\n",
    "# Currently the CV values are incorrectly extrapolated to lower masses from a mass of 8.5\n",
    "# The code used to calculated the CV values is called \"getcv\" and is included with the CV value files\n",
    "\n",
    "trials = 10000 # Number of trials for calculating median from gamma function"
   ]
  },
  {
   "cell_type": "code",
   "execution_count": 3,
   "metadata": {
    "ExecuteTime": {
     "end_time": "2020-07-26T14:10:22.784663Z",
     "start_time": "2020-07-26T14:10:22.780759Z"
    }
   },
   "outputs": [],
   "source": [
    "# Function to find closest wavelength in measured galaxy spectrum compared to given value\n",
    "def nearest_wavelength(x, val):\n",
    "    i = (np.abs(x - val)).argmin()\n",
    "    return x[i]"
   ]
  },
  {
   "cell_type": "code",
   "execution_count": 4,
   "metadata": {
    "ExecuteTime": {
     "end_time": "2020-07-26T14:10:22.792472Z",
     "start_time": "2020-07-26T14:10:22.786615Z"
    }
   },
   "outputs": [],
   "source": [
    "# Define a class for different survey designs\n",
    "class survey:\n",
    "    def __init__(self, ABmax, area, cv_file, wavelength = 0, num_pointings = 1):\n",
    "        self.ABmax = ABmax # Limiting AB magnitude of the survey\n",
    "        self.area = area # Survey area\n",
    "        self.file = cv_file # Name of cosmic variance table file\n",
    "        self.point = num_pointings # Number of independent pointings\n",
    "        self.wavelength = wavelength # Center wavelength for the chosen filter"
   ]
  },
  {
   "cell_type": "code",
   "execution_count": 5,
   "metadata": {
    "ExecuteTime": {
     "end_time": "2020-07-26T14:10:22.801255Z",
     "start_time": "2020-07-26T14:10:22.794424Z"
    }
   },
   "outputs": [],
   "source": [
    "# Method to take one trial of a gamma distribution with a given variance and mean\n",
    "# This should be double-checked\n",
    "def trial(sig_v, mean, trials=1):\n",
    "    var = sig_v**2*mean**2\n",
    "    k = mean**2/var\n",
    "    t = var/mean\n",
    "    rand = np.rint(np.random.gamma(k, scale=t, size=trials))\n",
    "    return rand"
   ]
  },
  {
   "cell_type": "code",
   "execution_count": 6,
   "metadata": {
    "ExecuteTime": {
     "end_time": "2020-07-26T14:10:23.454366Z",
     "start_time": "2020-07-26T14:10:22.802230Z"
    }
   },
   "outputs": [
    {
     "name": "stdout",
     "output_type": "stream",
     "text": [
      "10.0257 29.270685668600247 29.854648729904394\n"
     ]
    },
    {
     "data": {
      "image/png": "[encoded data removed]",
      "text/plain": [
       "<Figure size 864x648 with 1 Axes>"
      ]
     },
     "metadata": {
      "needs_background": "light"
     },
     "output_type": "display_data"
    }
   ],
   "source": [
    "n=int(10e3)\n",
    "sig=2.9854648729904394\n",
    "mean=10\n",
    "trials=trial(sig, mean, n)\n",
    "fig, ax=plt.subplots(figsize=(12,9))\n",
    "xmax=max(trials)\n",
    "b=100\n",
    "if xmax-1<100:\n",
    "    b=math.ceil(xmax-1)\n",
    "ax.hist(trials, bins=b, range=(0,xmax), histtype='step', density=0)\n",
    "ax.set(xlim=(0,xmax),yscale='log')\n",
    "print(np.mean(trials),np.std(trials),(sig*mean))"
   ]
  },
  {
   "cell_type": "code",
   "execution_count": 14,
   "metadata": {
    "ExecuteTime": {
     "end_time": "2020-07-26T14:11:48.179238Z",
     "start_time": "2020-07-26T14:11:48.153897Z"
    }
   },
   "outputs": [],
   "source": [
    "# Find mean, median number of galaxies found for a given survey design\n",
    "def mean_median(survey, trial=10000, correction = True):\n",
    "        \n",
    "    # Get survey information\n",
    "    point = survey.point\n",
    "    survey_area = survey.area * point\n",
    "    ABmax = survey.ABmax \n",
    "    \n",
    "    # Absolute magnitude range over which to integrate\n",
    "    # Range is larger than necessary to include all galaxies\n",
    "    M = np.linspace(-30, 0, 1000)\n",
    "    \n",
    "    # Redshift values from CV calculations \n",
    "    df = pandas.read_csv(path+survey.file)\n",
    "    z_vals = df[\"z\"].values\n",
    "    z_vals = z_vals[::-1]\n",
    "\n",
    "    all_mean = []\n",
    "    all_sig_v = []\n",
    "    \n",
    "    # Loop over z values\n",
    "    for z in z_vals:\n",
    "        \n",
    "        # Correct magnitude to account for choice of telescope filter\n",
    "        if(correction):\n",
    "            # Get observed wavelength for a rest frame of 1600 Angstroms\n",
    "            # Find closest wavelength to this value in the observed galaxy spectrum\n",
    "            wl_obs = nearest_wavelength(x, 1600 * (1 + z))\n",
    "            # Account for difference in observed magnitude due to difference in wavelength \n",
    "            # of the survey and the wavelength of the observed?\n",
    "            ABmax_new = ABmax + 2.5 * np.log10(y[x==survey.wavelength]/y[x==wl_obs])\n",
    "        else:\n",
    "            ABmax_new = ABmax\n",
    "        \n",
    "        # Find volume of space within redshift bin\n",
    "        dz = df.loc[df['z'] == z][[\"dz\"]].values[0][0]\n",
    "        vol = cosmo.comoving_volume(z + dz/2).value - cosmo.comoving_volume(z - dz/2).value\n",
    "\n",
    "        # Apparent magnitude range over which to integrate\n",
    "        m = M + cosmo.distmod(z).value\n",
    "        \n",
    "        # Schechter Extrapolation (Bouwens et al. 2015)\n",
    "        Ms = -20.95 + 0.01 * (z - 6)\n",
    "        p = 0.47 * 10**(-0.27 * (z - 6)) * 10**(-3)\n",
    "        a = -1.87 - 0.1 * (z - 6)\n",
    "        LF_center = np.log(10)/2.5 * p * (10**(0.4 * (Ms - M)))**(a+1) * np.exp(-10**(0.4 * (Ms - M)))\n",
    "            # TO DO: Update so that redshifts >= 8 use the same mass-luminosity relation\n",
    "            # but for z < 8 use mass-luminosity relation (all relations given in Song et al. 2016)\n",
    "            #Done\n",
    "        if z>=8:\n",
    "            Ms = -20.95 + 0.01 * (8 - 6)\n",
    "            p = 0.47 * 10**(-0.27 * (8 - 6)) * 10**(-3)\n",
    "            a = -1.87 - 0.1 * (8 - 6)\n",
    "            LF_center = np.log(10)/2.5 * p * (10**(0.4 * (Ms - M)))**(a+1) * np.exp(-10**(0.4 * (Ms - M)))\n",
    "\n",
    "        means = []\n",
    "        meds = []\n",
    "        sigs = []\n",
    "        max_mass=np.max(masses)\n",
    "        # Loop over all mass bins\n",
    "        for mass in masses:\n",
    "            \n",
    "            # Account for difference between Song and Bouwens wavelength\n",
    "            diff = 2.5 * np.log10(y[x==nearest_wavelength(x,1500)]/y[x==nearest_wavelength(x,1600)])\n",
    "           \n",
    "            # Apparent magnitude limits for given mass bin using Song et al. 2016\n",
    "            \n",
    "            u_lim = 2. * (-1.56 - mass) + cosmo.distmod(z).value + diff # Dimmest object\n",
    "            l_lim = 2. * (-1.56 - (mass + 0.5)) + cosmo.distmod(z).value + diff # Brightest object\n",
    "            u_lim = min(u_lim, ABmax_new) # Compare dimmest object to telescope limit  \n",
    "            \n",
    "            # Find where apparent magnitude is within limits\n",
    "            if mass == max_mass:\n",
    "                index = np.where(m <= u_lim)\n",
    "            else:   \n",
    "                index = np.where((m >= l_lim) & (m <= u_lim))\n",
    "\n",
    "            # Modify index for integration\n",
    "            if index[0].size != 0:\n",
    "                index[0][-1] = index[0][-1] + 1\n",
    "\n",
    "            # Integrate luminosity function over apparent magnitude to get number density\n",
    "            int_center = np.trapz(LF_center[index], m[index])\n",
    "            \n",
    "            # Multiply by volume to get number\n",
    "            means.append(int_center * vol * survey_area / tot_sky)\n",
    "            \n",
    "            # Get cosmic variance value for this z value and mass bin\n",
    "            # CV values calculated as in Moster et al. 2010\n",
    "            sig_v = df.loc[df['z'] == z][[str(mass)]].values[0][0] / np.sqrt(point) #discuss this with charles\n",
    "            sigs.append(sig_v)\n",
    "\n",
    "        # Append mean and variance values of all masses for this redshift \n",
    "        all_mean.append(means)\n",
    "        all_sig_v.append(sigs)\n",
    "        \n",
    "    all_tot_mean = []\n",
    "    all_med = []\n",
    "    \n",
    "    # Loop over all z values (high to low)\n",
    "    for i in range(len(z_vals)):\n",
    "        tot_mean = 0\n",
    "        tot_trials = np.zeros((trials,), dtype=int)\n",
    "        # Find cumulative mean and median number of observed galaxies up to z\n",
    "        for j in range(i+1):\n",
    "            means = all_mean[j]\n",
    "            sigs = all_sig_v[j]\n",
    "            # Run trials of gamma distribution to find median\n",
    "            for k in range(len(masses)):\n",
    "                if means[k] != 0:\n",
    "                    one_trial = trial(sigs[k], means[k])\n",
    "                    tot_trials += one_trial\n",
    "                    tot_mean += means[k]\n",
    "        all_tot_mean.append(tot_mean)\n",
    "        med = np.median(tot_trials)\n",
    "        all_med.append(med)\n",
    "        \n",
    "    return np.array(all_tot_mean), np.array(all_med), z_vals"
   ]
  },
  {
   "cell_type": "markdown",
   "metadata": {},
   "source": [
    "# Plots"
   ]
  },
  {
   "cell_type": "code",
   "execution_count": 15,
   "metadata": {
    "ExecuteTime": {
     "end_time": "2020-07-26T14:11:49.569547Z",
     "start_time": "2020-07-26T14:11:48.595398Z"
    }
   },
   "outputs": [
    {
     "ename": "ValueError",
     "evalue": "maximum supported dimension for an ndarray is 32, found 10000",
     "output_type": "error",
     "traceback": [
      "\u001b[1;31m---------------------------------------------------------------------------\u001b[0m",
      "\u001b[1;31mValueError\u001b[0m                                Traceback (most recent call last)",
      "\u001b[1;32m<ipython-input-15-7ad16cbfca9e>\u001b[0m in \u001b[0;36m<module>\u001b[1;34m\u001b[0m\n\u001b[0;32m      3\u001b[0m \u001b[1;33m\u001b[0m\u001b[0m\n\u001b[0;32m      4\u001b[0m \u001b[0mmashian\u001b[0m \u001b[1;33m=\u001b[0m \u001b[0msurvey\u001b[0m\u001b[1;33m(\u001b[0m\u001b[1;36m31.5\u001b[0m\u001b[1;33m,\u001b[0m \u001b[1;36m200.\u001b[0m\u001b[1;33m/\u001b[0m\u001b[1;36m3600\u001b[0m\u001b[1;33m,\u001b[0m \u001b[1;34m\"cv_mashian.csv\"\u001b[0m\u001b[1;33m)\u001b[0m\u001b[1;33m\u001b[0m\u001b[1;33m\u001b[0m\u001b[0m\n\u001b[1;32m----> 5\u001b[1;33m \u001b[0mmean_mashian\u001b[0m\u001b[1;33m,\u001b[0m \u001b[0mmed_mashian\u001b[0m\u001b[1;33m,\u001b[0m \u001b[0mz_vals_mashian\u001b[0m \u001b[1;33m=\u001b[0m \u001b[0mmean_median\u001b[0m\u001b[1;33m(\u001b[0m\u001b[0mmashian\u001b[0m\u001b[1;33m,\u001b[0m \u001b[0mcorrection\u001b[0m \u001b[1;33m=\u001b[0m \u001b[1;32mFalse\u001b[0m\u001b[1;33m)\u001b[0m\u001b[1;33m\u001b[0m\u001b[1;33m\u001b[0m\u001b[0m\n\u001b[0m",
      "\u001b[1;32m<ipython-input-14-32a8c392e2af>\u001b[0m in \u001b[0;36mmean_median\u001b[1;34m(survey, correction)\u001b[0m\n\u001b[0;32m    101\u001b[0m     \u001b[1;32mfor\u001b[0m \u001b[0mi\u001b[0m \u001b[1;32min\u001b[0m \u001b[0mrange\u001b[0m\u001b[1;33m(\u001b[0m\u001b[0mlen\u001b[0m\u001b[1;33m(\u001b[0m\u001b[0mz_vals\u001b[0m\u001b[1;33m)\u001b[0m\u001b[1;33m)\u001b[0m\u001b[1;33m:\u001b[0m\u001b[1;33m\u001b[0m\u001b[1;33m\u001b[0m\u001b[0m\n\u001b[0;32m    102\u001b[0m         \u001b[0mtot_mean\u001b[0m \u001b[1;33m=\u001b[0m \u001b[1;36m0\u001b[0m\u001b[1;33m\u001b[0m\u001b[1;33m\u001b[0m\u001b[0m\n\u001b[1;32m--> 103\u001b[1;33m         \u001b[0mtot_trials\u001b[0m \u001b[1;33m=\u001b[0m \u001b[0mnp\u001b[0m\u001b[1;33m.\u001b[0m\u001b[0mzeros\u001b[0m\u001b[1;33m(\u001b[0m\u001b[0mshape\u001b[0m\u001b[1;33m=\u001b[0m\u001b[0mtrials\u001b[0m\u001b[1;33m)\u001b[0m\u001b[1;33m\u001b[0m\u001b[1;33m\u001b[0m\u001b[0m\n\u001b[0m\u001b[0;32m    104\u001b[0m         \u001b[1;31m# Find cumulative mean and median number of observed galaxies up to z\u001b[0m\u001b[1;33m\u001b[0m\u001b[1;33m\u001b[0m\u001b[1;33m\u001b[0m\u001b[0m\n\u001b[0;32m    105\u001b[0m         \u001b[1;32mfor\u001b[0m \u001b[0mj\u001b[0m \u001b[1;32min\u001b[0m \u001b[0mrange\u001b[0m\u001b[1;33m(\u001b[0m\u001b[0mi\u001b[0m\u001b[1;33m+\u001b[0m\u001b[1;36m1\u001b[0m\u001b[1;33m)\u001b[0m\u001b[1;33m:\u001b[0m\u001b[1;33m\u001b[0m\u001b[1;33m\u001b[0m\u001b[0m\n",
      "\u001b[1;31mValueError\u001b[0m: maximum supported dimension for an ndarray is 32, found 10000"
     ]
    }
   ],
   "source": [
    "# %%timeit\n",
    "# Survey design matching the idealized survey from Mashian et al. 2015\n",
    "\n",
    "mashian = survey(31.5, 200./3600, \"cv_mashian.csv\")\n",
    "mean_mashian, med_mashian, z_vals_mashian = mean_median(mashian, correction = False)"
   ]
  },
  {
   "cell_type": "code",
   "execution_count": null,
   "metadata": {
    "ExecuteTime": {
     "end_time": "2020-07-26T14:10:24.583368Z",
     "start_time": "2020-07-26T14:10:20.812Z"
    }
   },
   "outputs": [],
   "source": [
    "fig = plt.figure(figsize = (8, 6))\n",
    "plt.rcParams.update({'font.size': 20})\n",
    "plt.rc('font', family='serif')\n",
    "plt.rc('text', usetex=True)\n",
    "\n",
    "plt.plot(z_vals_mashian, mean_mashian, label = \"Mean\")\n",
    "plt.plot(z_vals_mashian, med_mashian, label = \"Median\")\n",
    "\n",
    "plt.xlabel(\"z\")\n",
    "plt.ylabel(\"Number of Galaxies\"r\" ($>$z)\")\n",
    "plt.yscale(\"Log\")\n",
    "\n",
    "plt.legend()\n",
    "\n",
    "plt.ylim(0.9, 50)\n",
    "plt.xlim(10, 16)\n",
    "\n",
    "plt.title(\"Mashian\")\n",
    "\n",
    "#plt.savefig(\"Plots/ideal_highmass_fix.pdf\")"
   ]
  },
  {
   "cell_type": "code",
   "execution_count": null,
   "metadata": {
    "ExecuteTime": {
     "end_time": "2020-07-26T14:10:24.584304Z",
     "start_time": "2020-07-26T14:10:20.814Z"
    }
   },
   "outputs": [],
   "source": [
    "# Survey design matching the JADES Deep survey from Williams et al. 2018 (pg. 36)\n",
    "\n",
    "deep = survey(30.7, 46./3600, \"cv_jades_deep.csv\", nearest_wavelength(x,14873.4))\n",
    "mean_deep, med_deep, z_vals_deep = mean_median(deep)"
   ]
  },
  {
   "cell_type": "code",
   "execution_count": null,
   "metadata": {
    "ExecuteTime": {
     "end_time": "2020-07-26T14:10:24.585283Z",
     "start_time": "2020-07-26T14:10:20.817Z"
    }
   },
   "outputs": [],
   "source": [
    "fig = plt.figure(figsize = (8, 6))\n",
    "plt.rcParams.update({'font.size': 20})\n",
    "plt.rc('font', family='serif')\n",
    "plt.rc('text', usetex=True)\n",
    "\n",
    "plt.plot(z_vals_deep, mean_deep, label = \"Mean\")\n",
    "plt.plot(z_vals_deep, med_deep, label = \"Median\")\n",
    "\n",
    "plt.xlabel(\"z\")\n",
    "plt.ylabel(\"Number of Galaxies\"r\" ($>$z)\")\n",
    "plt.yscale(\"Log\")\n",
    "\n",
    "plt.legend()\n",
    "\n",
    "plt.ylim(0.5, 100)\n",
    "plt.xlim(6,15)\n",
    "\n",
    "plt.title(\"JADES Deep\")\n",
    "\n",
    "#plt.savefig(\"Plots/deep_highmass_fix.pdf\")"
   ]
  },
  {
   "cell_type": "code",
   "execution_count": null,
   "metadata": {
    "ExecuteTime": {
     "end_time": "2020-07-26T14:10:24.586258Z",
     "start_time": "2020-07-26T14:10:20.819Z"
    }
   },
   "outputs": [],
   "source": [
    "# Survey design matching the JADES Wide survey from Williams et al. 2018 (pg. 36)\n",
    "\n",
    "wide = survey(29.8, 190./3600, \"cv_jades_wide.csv\", nearest_wavelength(x,14873.4))\n",
    "mean_wide, med_wide, z_vals_wide = mean_median(wide)"
   ]
  },
  {
   "cell_type": "code",
   "execution_count": null,
   "metadata": {
    "ExecuteTime": {
     "end_time": "2020-07-26T14:10:24.588210Z",
     "start_time": "2020-07-26T14:10:20.822Z"
    }
   },
   "outputs": [],
   "source": [
    "fig = plt.figure(figsize = (8, 6))\n",
    "plt.rcParams.update({'font.size': 20})\n",
    "plt.rc('font', family='serif')\n",
    "plt.rc('text', usetex=True)\n",
    "\n",
    "plt.plot(z_vals_wide, mean_wide, label = \"Mean\")\n",
    "plt.plot(z_vals_wide, med_wide, label = \"Median\")\n",
    "\n",
    "plt.xlabel(\"z\")\n",
    "plt.ylabel(\"Number of Galaxies\"r\" ($>$z)\")\n",
    "plt.yscale(\"Log\")\n",
    "\n",
    "plt.legend()\n",
    "\n",
    "plt.ylim(0.5, 100)\n",
    "plt.xlim(8,14)\n",
    "\n",
    "plt.title(\"JADES Wide\")\n",
    "\n",
    "#plt.savefig(\"Plots/wide_highmass_fix.pdf\")"
   ]
  },
  {
   "cell_type": "code",
   "execution_count": null,
   "metadata": {
    "ExecuteTime": {
     "end_time": "2020-07-26T14:10:24.589186Z",
     "start_time": "2020-07-26T14:10:20.825Z"
    }
   },
   "outputs": [],
   "source": [
    "# Survey design assuming 35 parallel pointings of JWST\n",
    "# Uses limiting magnitude from JADES Deep, area of one JWST pointing\n",
    "\n",
    "parallel_35 = survey(30.7, 4.84/3600, \"cv_one_pointing.csv\", nearest_wavelength(x,14873.4), 35)\n",
    "mean_35, med_35, z_vals_35 = mean_median(parallel_35)"
   ]
  },
  {
   "cell_type": "code",
   "execution_count": null,
   "metadata": {
    "ExecuteTime": {
     "end_time": "2020-07-26T14:10:24.590161Z",
     "start_time": "2020-07-26T14:10:20.827Z"
    }
   },
   "outputs": [],
   "source": [
    "fig = plt.figure(figsize = (8, 6))\n",
    "plt.rcParams.update({'font.size': 20})\n",
    "plt.rc('font', family='serif')\n",
    "plt.rc('text', usetex=True)\n",
    "\n",
    "plt.plot(z_vals_35, mean_35, label = \"Mean\")\n",
    "plt.plot(z_vals_35, med_35, label = \"Median\")\n",
    "\n",
    "plt.xlabel(\"z\")\n",
    "plt.ylabel(\"Number of Galaxies\"r\" ($>$z)\")\n",
    "plt.yscale(\"Log\")\n",
    "\n",
    "plt.legend()\n",
    "\n",
    "plt.ylim(0.9, 100)\n",
    "plt.xlim(10,16)\n",
    "\n",
    "plt.title(\"35 Pointings\")\n",
    "\n",
    "# Survey design assuming 35 parallel pointings of JWST#plt.savefig(\"35.pdf\")"
   ]
  },
  {
   "cell_type": "code",
   "execution_count": null,
   "metadata": {
    "ExecuteTime": {
     "end_time": "2020-07-26T14:10:24.591138Z",
     "start_time": "2020-07-26T14:10:20.831Z"
    }
   },
   "outputs": [],
   "source": [
    "# Survey design assuming 200 parallel pointings of JWST\n",
    "\n",
    "parallel_200 = survey(30.7, 4.84/3600, \"cv_one_pointing.csv\", nearest_wavelength(x,14873.4), 200)\n",
    "mean_200, med_200, z_vals_200 = mean_median(parallel_200)"
   ]
  },
  {
   "cell_type": "code",
   "execution_count": null,
   "metadata": {
    "ExecuteTime": {
     "end_time": "2020-07-26T14:10:24.593090Z",
     "start_time": "2020-07-26T14:10:20.833Z"
    }
   },
   "outputs": [],
   "source": [
    "fig = plt.figure(figsize = (8, 6))\n",
    "plt.rcParams.update({'font.size': 20})\n",
    "plt.rc('font', family='serif')\n",
    "plt.rc('text', usetex=True)\n",
    "\n",
    "plt.plot(z_vals_200, mean_200, label = \"Mean\")\n",
    "plt.plot(z_vals_200, med_200, label = \"Median\")\n",
    "\n",
    "plt.xlabel(\"z\")\n",
    "plt.ylabel(\"Number of Galaxies\"r\" ($>$z)\")\n",
    "plt.yscale(\"Log\")\n",
    "\n",
    "plt.legend()\n",
    "\n",
    "plt.ylim(0.5, 250)\n",
    "plt.xlim(12,max(z_vals_200)+0.5)\n",
    "\n",
    "plt.title(\"200 Pointings\")\n",
    "\n",
    "#plt.savefig(\"200.pdf\")"
   ]
  },
  {
   "cell_type": "code",
   "execution_count": null,
   "metadata": {
    "ExecuteTime": {
     "end_time": "2020-07-26T14:10:24.594066Z",
     "start_time": "2020-07-26T14:10:20.835Z"
    }
   },
   "outputs": [],
   "source": [
    "# Survey design assuming 2000 parallel pointings of JWST\n",
    "\n",
    "parallel_2000 = survey(30.7, 4.84/3600, \"cv_one_pointing.csv\", nearest_wavelength(x,14873.4), 2000)\n",
    "mean_2000, med_2000, z_vals_2000 = mean_median(parallel_2000)"
   ]
  },
  {
   "cell_type": "code",
   "execution_count": null,
   "metadata": {
    "ExecuteTime": {
     "end_time": "2020-07-26T14:10:24.596017Z",
     "start_time": "2020-07-26T14:10:20.837Z"
    }
   },
   "outputs": [],
   "source": [
    "fig = plt.figure(figsize = (8, 6))\n",
    "ax = plt.axes()\n",
    "plt.rcParams.update({'font.size': 20})\n",
    "plt.rc('font', family='serif')\n",
    "plt.rc('text', usetex=True)\n",
    "\n",
    "plt.plot(z_vals_2000, mean_2000, label = \"Mean\")\n",
    "plt.plot(z_vals_2000, med_2000, label = \"Median\")\n",
    "\n",
    "plt.xlabel(\"z\")\n",
    "plt.ylabel(\"Number of Galaxies\"r\" ($>$z)\")\n",
    "plt.yscale(\"Log\")\n",
    "\n",
    "plt.legend()\n",
    "\n",
    "plt.ylim(0.9, 3000)\n",
    "plt.xlim(10, max(z_vals_2000))\n",
    "\n",
    "plt.title(\"2000 Pointings\")\n",
    "\n",
    "#plt.savefig(\"Cumulative_Plots/2000.pdf\")"
   ]
  },
  {
   "cell_type": "code",
   "execution_count": null,
   "metadata": {
    "ExecuteTime": {
     "end_time": "2020-07-26T14:10:24.596993Z",
     "start_time": "2020-07-26T14:10:20.839Z"
    }
   },
   "outputs": [],
   "source": [
    "# Survey design modeling the effect of lensing by increasing limiting magnitude of JADES Deep survey by 2\n",
    "# Assumes this is over one JWST pointing\n",
    "\n",
    "lensing_2 = survey(30.7 + 2, 4.84/3600, \"cv_one_pointing.csv\", nearest_wavelength(x,14873.4), 1)\n",
    "mean_lens, med_lens, z_vals_lens = mean_median(lensing_2)"
   ]
  },
  {
   "cell_type": "code",
   "execution_count": null,
   "metadata": {
    "ExecuteTime": {
     "end_time": "2020-07-26T14:10:24.598944Z",
     "start_time": "2020-07-26T14:10:20.842Z"
    }
   },
   "outputs": [],
   "source": [
    "fig = plt.figure(figsize = (8, 6))\n",
    "plt.rcParams.update({'font.size': 20})\n",
    "plt.rc('font', family='serif')\n",
    "plt.rc('text', usetex=True)\n",
    "\n",
    "plt.plot(z_vals_lens, mean_lens, label = \"Mean\")\n",
    "plt.plot(z_vals_lens, med_lens, label = \"Median\")\n",
    "\n",
    "plt.xlabel(\"z\")\n",
    "plt.ylabel(\"Number of Galaxies\"r\" ($>$z)\")\n",
    "plt.yscale(\"Log\")\n",
    "\n",
    "plt.legend()\n",
    "\n",
    "plt.ylim(0.9, 30)\n",
    "plt.xlim(10, max(z_vals_lens)+0.5)\n",
    "\n",
    "plt.title(\"Lensing, +2 Mag\")\n",
    "\n",
    "#plt.savefig(\"Cumulative_Plots/lensing.pdf\")"
   ]
  },
  {
   "cell_type": "code",
   "execution_count": null,
   "metadata": {},
   "outputs": [],
   "source": []
  }
 ],
 "metadata": {
  "hide_input": false,
  "kernelspec": {
   "display_name": "Python 3",
   "language": "python",
   "name": "python3"
  },
  "language_info": {
   "codemirror_mode": {
    "name": "ipython",
    "version": 3
   },
   "file_extension": ".py",
   "mimetype": "text/x-python",
   "name": "python",
   "nbconvert_exporter": "python",
   "pygments_lexer": "ipython3",
   "version": "3.7.4"
  }
 },
 "nbformat": 4,
 "nbformat_minor": 2
}
