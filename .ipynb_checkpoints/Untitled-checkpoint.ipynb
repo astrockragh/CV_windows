{
 "cells": [
  {
   "cell_type": "code",
   "execution_count": 1,
   "metadata": {
    "ExecuteTime": {
     "end_time": "2020-07-24T09:31:46.500141Z",
     "start_time": "2020-07-24T09:31:46.196785Z"
    }
   },
   "outputs": [
    {
     "name": "stdout",
     "output_type": "stream",
     "text": [
      "Cosmological parameters (Default: BlueTides cosmology. Edit 'cosmology.txt' to change)\n",
      "\n",
      "om0=0.2814\t\t#Matter content\n",
      "\n",
      "oml=0.7186\t\t#Dark energy content\n",
      "\n",
      "H0=100.\t\t\t#Hubble parameter in km/sec/Mpc h\n",
      "\n",
      "h=0.697\t\t\t#hubble parameter\n",
      "\n",
      "c=3e5\t\t\t#speed of light in km/sec\n",
      "\n",
      "\n",
      "\n"
     ]
    }
   ],
   "source": [
    "import numpy\n",
    "import pickle\n",
    "import scipy.optimize\n",
    "import scipy.interpolate\n",
    "import scipy.integrate\n",
    "\n",
    "\n",
    "def linear(x,m,c):\n",
    "    return m*x+c\n",
    "#--------------------------------------------------------------------------------------------------------------\n",
    "# This function takes the input parameters and computes the comving dimensions of the survey in units of Mpc/h\n",
    "def get_survey_dimensions(central_redshift,survey_length_in_arc_sec,survey_aspect_ratio): # Calculates the survey dimensions in cMpc/h for a given field of view (in arc-sec) and redshift width \n",
    "    distance_to_central_redshift=comoving_distance(0,central_redshift)\n",
    "    #print \"comoving_distance:\",distance_to_central_redshift/h\n",
    "    survey_length_in_radians=survey_length_in_arc_sec*arc_sec_to_radians\n",
    "    survey_length_in_cmpc_h=survey_length_in_radians*distance_to_central_redshift\n",
    "    survey_dimensions=numpy.array([survey_length_in_cmpc_h,survey_length_in_cmpc_h*survey_aspect_ratio])\n",
    "    return survey_dimensions\n",
    "#---------------------------------------------------------------------------------------------------------------\n",
    "# This function computes the comoving distance between two redshifts\n",
    "def comoving_distance(z_low,z_up): # Calculates the comoving distance between two redshifts \n",
    "    box_size=scipy.integrate.quad(lambda z:c/H(z),z_low,z_up)[0]\n",
    "    return box_size\n",
    "#---------------------------------------------------------------------------------------------------------------\n",
    "\n",
    "arc_sec_to_radians=1./(180/3.14)*(1./3600.)\n",
    "\n",
    "f=open('./COSMIC_VARIANCE_AT_HIGHZ/cosmology.txt')\n",
    "lines=f.readlines()\n",
    "print(\"Cosmological parameters (Default: BlueTides cosmology. Edit 'cosmology.txt' to change)\\n\")\n",
    "for line in lines:\n",
    "    if ('-------' not in line):\n",
    "        #line= line.replace('=',' ')\n",
    "        #line=line.split()\n",
    "        print(line)\n",
    "        exec(line)\n",
    "        \n",
    "H = lambda z: H0*(om0*(1+z)**(3) + oml)**0.5\n",
    "\n",
    "\n",
    "def get_cosmic_variance(H_band_threshold,redshift,redshift_width,survey_length_in_arc_sec,survey_aspect_ratio):\n",
    "    import numpy\n",
    "    import pickle\n",
    "    import scipy.optimize\n",
    "    import scipy.interpolate\n",
    "    import scipy.integrate\n",
    "    dimensions=get_survey_dimensions(redshift,survey_length_in_arc_sec,survey_aspect_ratio)\n",
    "    length_in_Mpc=numpy.sqrt(dimensions[0]*dimensions[1]) \n",
    "    if (length_in_Mpc>400):\n",
    "        print(\"Warning!!! Comoving dimensions of the survey is \",length_in_Mpc,\"Mpc/h, greater than the BlueTides box length 400 Mpc/h. Do not trust the estimate\")\n",
    "    if (length_in_Mpc<0.01):\n",
    "        print(\"Warning!!! Comoving dimensions of the survey is \",length_in_Mpc,\"Mpc/h, less than the typical galaxy size 0.01 Mpc/h. Do not trust the estimate\")\n",
    "    \n",
    "    reference_redshift_width=0.1\n",
    "    redshift_space=[7.5,8.0,9.0,10.0]\n",
    "    mUV_space=[25.,26.,28.0,29,30.0]\n",
    "    sigma_space_redshift=[]\n",
    "    for redshift_temp in redshift_space:\n",
    "        sigma_space_mUV=[]\n",
    "        for mUV_temp in mUV_space:\n",
    "            fit=numpy.load('./COSMIC_VARIANCE_AT_HIGHZ/requirements/galaxy_cosmic_variance_fit_parameters_redshift_%.2f_stellar_mass_cut_%.2f_redshift_width_%.2f_aspect_ratio_1.00_log_no_of_points_7.npy'%(redshift_temp,mUV_temp,reference_redshift_width))\n",
    "            sigma_space_mUV.append(10**linear(numpy.log10(length_in_Mpc),fit[0],fit[1]))           \n",
    "        sigma_space_mUV=numpy.array(sigma_space_mUV)\n",
    "        dat=scipy.interpolate.interp1d(mUV_space,numpy.log10(sigma_space_mUV),fill_value='extrapolate')\n",
    "        sigma_space_redshift.append(10**dat(H_band_threshold))\n",
    "    dat=scipy.interpolate.interp1d(redshift_space,numpy.log10(sigma_space_redshift),fill_value='extrapolate')\n",
    "    \n",
    "    fit=numpy.load('./COSMIC_VARIANCE_AT_HIGHZ/requirements/fit_params_redshift_width_dependence.npy')\n",
    "    \n",
    "    correction_for_redshift_width=10**linear(numpy.log10(redshift_width/reference_redshift_width),fit[0],fit[1])    \n",
    "    return 10**dat(redshift)*correction_for_redshift_width\n",
    "\n"
   ]
  },
  {
   "cell_type": "code",
   "execution_count": null,
   "metadata": {},
   "outputs": [],
   "source": [
    "for i in range()"
   ]
  }
 ],
 "metadata": {
  "hide_input": false,
  "kernelspec": {
   "display_name": "Python 3",
   "language": "python",
   "name": "python3"
  },
  "language_info": {
   "codemirror_mode": {
    "name": "ipython",
    "version": 3
   },
   "file_extension": ".py",
   "mimetype": "text/x-python",
   "name": "python",
   "nbconvert_exporter": "python",
   "pygments_lexer": "ipython3",
   "version": "3.7.4"
  }
 },
 "nbformat": 4,
 "nbformat_minor": 4
}
