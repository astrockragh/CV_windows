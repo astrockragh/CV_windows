{
 "cells": [
  {
   "cell_type": "code",
   "execution_count": 2,
   "metadata": {
    "ExecuteTime": {
     "end_time": "2020-08-07T14:45:49.226783Z",
     "start_time": "2020-08-07T14:45:48.380049Z"
    }
   },
   "outputs": [],
   "source": [
    "import hmf\n",
    "from hmf import functional\n",
    "import matplotlib.pyplot as plt\n",
    "%matplotlib inline\n",
    "plt.rc('text', usetex=True)\n",
    "import numpy as np\n",
    "import scipy.integrate\n",
    "import astropy\n",
    "from astropy.cosmology import LambdaCDM, Planck18_arXiv_v2"
   ]
  },
  {
   "cell_type": "code",
   "execution_count": 3,
   "metadata": {
    "ExecuteTime": {
     "end_time": "2020-08-07T14:45:49.268951Z",
     "start_time": "2020-08-07T14:45:49.228778Z"
    }
   },
   "outputs": [],
   "source": [
    "z = 15 # Redshift value to plot\n",
    "mmin = 8 # Minimum halo mass for HMF\n",
    "mmax = 15 # Maximum halo mass for HMF\n",
    "ABmax = 31.5 # Max magnitude JWST can see\n",
    "\n",
    "cosmo = Planck18_arXiv_v2 # Define temporary cosmology for volume calculation\n",
    "vol = cosmo.comoving_volume(z + 0.5).value - cosmo.comoving_volume(z - 0.5).value\n",
    "tot_sky = 41253. # Total square degrees in the sky\n",
    "survey_area = 0.05556 # Survey area in square degrees\n",
    "num_gal = 1 # Minimum number of galaxies needed within the survey area\n",
    "\n",
    "# Find number density that would be visible to JWST\n",
    "nmin = tot_sky / vol / survey_area\n",
    "\n",
    "# All HMFCalc fitting function models\n",
    "fitting_models = [\"Angulo\",\"AnguloBound\",\"Behroozi\",\"Bhattacharya\",\\\n",
    "              \"Courtin\",\"Crocce\",\"Ishiyama\",\"Jenkins\",\\\n",
    "              \"Manera\",\"PS\",\"Peacock\",\"Pillepich\",\"Reed03\",\"Reed07\",\"SMT\",\\\n",
    "              \"Tinker08\",\"Tinker10\",\"Warren\",\"Watson\",\"Watson_FoF\"]\n",
    "\n",
    "# Values for the stellar baryon fraction\n",
    "# Rough estimate of 1/70 and extrapolation from Finkelstein\n",
    "# sbf_vals = [1./70, 0.051 + 0.024 * (z - 4)]\n",
    "sbf_vals = [0.018, 0.051 + 0.024 * (z - 4), 0.051 + 0.031 * (z - 4), 0.051 + 0.017 * (z - 4)]\n",
    "\n",
    "# Calculating change in magnitude due to wavelength\n",
    "# Uses 1505 and 1605 because values at 1500 and 1600 Å are not in the continuum data\n",
    "w_original = 1500 + 5 # From the Song 2016 M*-MUV relation\n",
    "w_new = 1600 + 5\n",
    "\n",
    "# Load spectrum\n",
    "data = np.loadtxt(\"erb2010_continuum.dat\")\n",
    "x = data[:,0]\n",
    "y = data[:,1] * x**2 / 3.e18\n",
    "\n",
    "# Shift luminosity using spectrum assumption\n",
    "shift = 2.5 * np.log10(y[x==w_original]/y[x==w_new])"
   ]
  },
  {
   "cell_type": "code",
   "execution_count": 4,
   "metadata": {
    "ExecuteTime": {
     "end_time": "2020-08-07T14:46:01.013259Z",
     "start_time": "2020-08-07T14:45:52.257144Z"
    }
   },
   "outputs": [
    {
     "name": "stderr",
     "output_type": "stream",
     "text": [
      "C:\\Users\\chris\\Anaconda3\\lib\\site-packages\\hmf\\mass_function\\integrate_hmf.py:68: RuntimeWarning: divide by zero encountered in log\n",
      "  mf_func = _spline(np.log(m), np.log(dndlnm), k=1)\n",
      "C:\\Users\\chris\\Anaconda3\\lib\\site-packages\\hmf\\mass_function\\integrate_hmf.py:68: RuntimeWarning: divide by zero encountered in log\n",
      "  mf_func = _spline(np.log(m), np.log(dndlnm), k=1)\n",
      "C:\\Users\\chris\\Anaconda3\\lib\\site-packages\\hmf\\mass_function\\integrate_hmf.py:68: RuntimeWarning: divide by zero encountered in log\n",
      "  mf_func = _spline(np.log(m), np.log(dndlnm), k=1)\n",
      "C:\\Users\\chris\\Anaconda3\\lib\\site-packages\\hmf\\mass_function\\integrate_hmf.py:68: RuntimeWarning: divide by zero encountered in log\n",
      "  mf_func = _spline(np.log(m), np.log(dndlnm), k=1)\n"
     ]
    },
    {
     "data": {
      "image/png": "[encoded data removed]",
      "text/plain": [
       "<Figure size 576x432 with 1 Axes>"
      ]
     },
     "metadata": {
      "needs_background": "light"
     },
     "output_type": "display_data"
    }
   ],
   "source": [
    "plt.figure(figsize = (8, 6))\n",
    "plt.rcParams.update({'font.size': 20})\n",
    "\n",
    "colors = [\"C1\",\"C0\", \"C0\", \"C0\"]\n",
    "i = 0\n",
    "\n",
    "# For each stellar baryon fraction and HMF model plot luminosity function\n",
    "for sbf in sbf_vals:\n",
    "    first = True\n",
    "    for quants, h, l in functional.get_hmf(['dndm','m'],z=z,Mmin=mmin,Mmax=mmax, hmf_model=fitting_models):\n",
    "            if not first:\n",
    "                nold = n\n",
    "            mass_func = h.dndm\n",
    "            mass = h.m\n",
    "            n = hmf.integrate_hmf.hmf_integral_gtm(mass, mass_func)\n",
    "\n",
    "            little_h = h.cosmo_model.h\n",
    "            mass = mass * little_h\n",
    "            n = n / little_h**3\n",
    "\n",
    "            stellar_mass = mass * sbf\n",
    "            \n",
    "            # Extrapolation of M*-MUV relation from Song 2016 to z = 15\n",
    "            M_vals = [-2.*(1.8 + np.log10(stellar_mass)), -2.*(1.6 + np.log10(stellar_mass)), \\\n",
    "                      -2.*(2. + np.log10(stellar_mass))]\n",
    "            \n",
    "            for M in M_vals:\n",
    "                m = M + cosmo.distmod(z).value+ shift\n",
    "                if first:\n",
    "                    plt.plot(m, n, color = colors[i], rasterized = True)\n",
    "                else:\n",
    "                    plt.fill_between(m, n, nold, color = colors[i], rasterized = True)\n",
    "            first = False\n",
    "    i+=1\n",
    "    \n",
    "plt.yscale(\"Log\")\n",
    "plt.xlabel(r'$m_{UV}$', fontsize = 24);\n",
    "plt.ylabel(r\"$number \\ (< m) \\ Mpc^{-3}$\", fontsize = 24);\n",
    "\n",
    "# Visible bounds for JWST\n",
    "# High enough magnitude and number density\n",
    "xl = 28\n",
    "xu = 32\n",
    "yl = 10**-12\n",
    "yu = 10**-2\n",
    "\n",
    "plt.xlim(xl, xu)\n",
    "plt.ylim(yl, yu)\n",
    "\n",
    "# Plot box indicating visible points\n",
    "plt.axhline(y = nmin, color = 'k', xmin = 0, xmax = (ABmax - xl)/(xu-xl))\n",
    "plt.axvline(x = ABmax, color = 'k', ymin = (np.log10(nmin)-np.log10(yl))/(np.log10(yu)-np.log10(yl)), ymax = 1)\n",
    "\n",
    "from matplotlib.lines import Line2D\n",
    "custom_lines = [Line2D([0], [0], color=\"C1\", lw=4),Line2D([0], [0], color=\"C0\", lw=4)]\n",
    "plt.legend(custom_lines, ['SBF = 1/70', 'SBF = Finkelstein'])\n",
    "\n",
    "plt.tight_layout()\n",
    "\n",
    "plt.rc('font', family='serif')\n",
    "plt.rc('text', usetex=True)\n",
    "\n",
    "plt.savefig(\"HF1600.pdf\")"
   ]
  },
  {
   "cell_type": "code",
   "execution_count": null,
   "metadata": {},
   "outputs": [],
   "source": []
  }
 ],
 "metadata": {
  "hide_input": false,
  "kernelspec": {
   "display_name": "Python 3",
   "language": "python",
   "name": "python3"
  },
  "language_info": {
   "codemirror_mode": {
    "name": "ipython",
    "version": 3
   },
   "file_extension": ".py",
   "mimetype": "text/x-python",
   "name": "python",
   "nbconvert_exporter": "python",
   "pygments_lexer": "ipython3",
   "version": "3.7.4"
  }
 },
 "nbformat": 4,
 "nbformat_minor": 2
}
