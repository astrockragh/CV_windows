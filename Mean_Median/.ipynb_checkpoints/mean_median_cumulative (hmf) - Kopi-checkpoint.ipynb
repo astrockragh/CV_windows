{
 "cells": [
  {
   "cell_type": "code",
   "execution_count": 1,
   "metadata": {
    "ExecuteTime": {
     "end_time": "2020-08-06T15:12:04.053201Z",
     "start_time": "2020-08-06T15:12:02.714608Z"
    }
   },
   "outputs": [],
   "source": [
    "import matplotlib.pyplot as plt\n",
    "%matplotlib inline\n",
    "import numpy as np\n",
    "from scipy.stats import gamma\n",
    "import scipy.integrate\n",
    "import pandas\n",
    "from hmf import MassFunction     # The main hmf class\n",
    "# TO DO: Update to most recent Planck results\n",
    "from astropy.cosmology import Planck18_arXiv_v2 as cosmo\n",
    "import hmf\n",
    "from hmf import functional"
   ]
  },
  {
   "cell_type": "code",
   "execution_count": 2,
   "metadata": {
    "ExecuteTime": {
     "end_time": "2020-08-06T10:05:25.449644Z",
     "start_time": "2020-08-06T10:05:25.431683Z"
    }
   },
   "outputs": [],
   "source": [
    "# Path to tables of cosmic variance values\n",
    "path = \"../CV_Vals/\"\n",
    "file='hmf'\n",
    "save=0\n",
    "# Get young, blue galaxy spectrum\n",
    "data = np.loadtxt(\"erb2010_continuum.dat\")\n",
    "x = data[:,0]\n",
    "y = data[:,1] * x**2 / 3.e18 # Convert to correct flux values\n",
    "\n",
    "# Constants\n",
    "tot_sky = 41253. # Total degrees on the sky\n",
    "masses = np.array([7.0, 7.5, 8.0, 8.5, 9.0, 9.5, 10.0, 10.5, 11.0]) # Mass bins in log(M/Msun)\n",
    "\n",
    "# TO DO: Modify cosmic variance values from the tables such that masses <= 8 use the same cosmic variance values as 8.5\n",
    "# Currently the CV values are incorrectly extrapolated to lower masses from a mass of 8.5\n",
    "# The code used to calculated the CV values is called \"getcv\" and is included with the CV value files\n",
    "#Done\n",
    "\n",
    "trials = 10000 # Number of trials for calculating median from gamma function\n",
    "mmin = 9 # Minimum halo mass for HMF\n",
    "mmax = 13.5 # Maximum halo mass for HMF"
   ]
  },
  {
   "cell_type": "code",
   "execution_count": 3,
   "metadata": {
    "ExecuteTime": {
     "end_time": "2020-08-06T10:05:25.458614Z",
     "start_time": "2020-08-06T10:05:25.454632Z"
    }
   },
   "outputs": [],
   "source": [
    "# Function to find closest wavelength in measured galaxy spectrum compared to given value\n",
    "def nearest_wavelength(x, val):\n",
    "    i = (np.abs(x - val)).argmin()\n",
    "    return x[i]"
   ]
  },
  {
   "cell_type": "code",
   "execution_count": 4,
   "metadata": {
    "ExecuteTime": {
     "end_time": "2020-08-06T10:05:25.467587Z",
     "start_time": "2020-08-06T10:05:25.460607Z"
    }
   },
   "outputs": [],
   "source": [
    "# Define a class for different survey designs\n",
    "class survey:\n",
    "    def __init__(self, ABmax, area, cv_file, wavelength = 0, num_pointings = 1):\n",
    "        self.ABmax = ABmax # Limiting AB magnitude of the survey\n",
    "        self.area = area # Survey area\n",
    "        self.file = cv_file # Name of cosmic variance table file\n",
    "        self.point = num_pointings # Number of independent pointings\n",
    "        self.wavelength = wavelength # Center wavelength for the chosen filter"
   ]
  },
  {
   "cell_type": "code",
   "execution_count": 5,
   "metadata": {
    "ExecuteTime": {
     "end_time": "2020-08-06T10:05:25.476564Z",
     "start_time": "2020-08-06T10:05:25.469583Z"
    }
   },
   "outputs": [],
   "source": [
    "# Method to take one trial of a gamma distribution with a given variance and mean\n",
    "def trial(sig_v, mean, trials=10000):\n",
    "    var = sig_v**2*mean**2\n",
    "    k = mean**2/var\n",
    "    t = var/mean\n",
    "    rand = np.rint(np.random.gamma(k, scale=t, size=trials))\n",
    "    return rand"
   ]
  },
  {
   "cell_type": "code",
   "execution_count": 39,
   "metadata": {
    "ExecuteTime": {
     "end_time": "2020-08-06T14:58:12.393358Z",
     "start_time": "2020-08-06T14:58:12.372412Z"
    }
   },
   "outputs": [],
   "source": [
    "# Find mean, median number of galaxies found for a given survey design\n",
    "def mean_median(survey, correction = True):\n",
    "    # Get survey information\n",
    "    point = survey.point\n",
    "    survey_area = survey.area * point\n",
    "    ABmax = survey.ABmax \n",
    "    \n",
    "    # Absolute magnitude range over which to integrate\n",
    "    # Range is larger than necessary to include all galaxies\n",
    "    \n",
    "    # Redshift values from CV calculations \n",
    "    df = pandas.read_csv(path+survey.file)\n",
    "    z_vals = df[\"z\"].values\n",
    "    z_vals = z_vals[::-1]\n",
    "\n",
    "    all_mean = []\n",
    "    all_sig_v = []\n",
    "    \n",
    "    # Loop over z values\n",
    "    for z in z_vals:\n",
    "        # Get observed wavelength for a rest frame of 1600 Angstroms\n",
    "        # Find closest wavelength to this value in the observed galaxy spectrum\n",
    "        wl_obs = nearest_wavelength(x, 1600 * (1 + z))\n",
    "        # Account for difference in observed magnitude due to difference in wavelength \n",
    "        # of the survey and the wavelength of the \n",
    "        shift=2.5 * np.log10(y[x==survey.wavelength]/y[x==wl_obs])\n",
    "        ABmax_new = ABmax + shift\n",
    "#         print(2.5 * np.log10(y[x==survey.wavelength]/y[x==wl_obs]))\n",
    "        masses = np.array([7.0, 7.5, 8.0, 8.5, 9.0, 9.5, 10.0, 10.5, 11.0])    \n",
    "        for quants, h, l in functional.get_hmf(['dndm','m'],z=z,Mmin=mmin,Mmax=mmax, hmf_model='SMT'):\n",
    "            mass_func = h.dndm\n",
    "            mass = h.m\n",
    "            n = hmf.integrate_hmf.hmf_integral_gtm(mass, mass_func)\n",
    "\n",
    "            little_h = h.cosmo_model.h\n",
    "            mass = mass / little_h\n",
    "            n = n * little_h**3\n",
    "\n",
    "            stellar_mass = mass * 0.018\n",
    "        dz = df.loc[df['z'] == z][[\"dz\"]].values[0][0]\n",
    "        vol = cosmo.comoving_volume(z + dz/2).value - cosmo.comoving_volume(z - dz/2).value\n",
    "        M_vals=-2.*(1.56 + np.log10(stellar_mass))\n",
    "        m = np.array(M_vals + cosmo.distmod(z).value)+shift\n",
    "        u_lim = max(m)\n",
    "        l_lim = min(m)\n",
    "        u_lim = min(u_lim, ABmax_new) # Compare dimmest object to telescope limit\n",
    "\n",
    "        index= m<=u_lim\n",
    "        stellar_mass=stellar_mass[index]\n",
    "        mass_bin=[]\n",
    "        masks=[]\n",
    "        for i in range(len(masses)):\n",
    "            mask=np.log10(stellar_mass)<masses[i]\n",
    "            masks.append(mask)\n",
    "            mass_bin.append(stellar_mass[mask])\n",
    "        integral=np.zeros(len(masses))\n",
    "        for i in range(len(masses)):\n",
    "            if i==0:\n",
    "                integral[i]=np.trapz(0.5*dndm[:len(mass_bin[i])],mass_bin[i])\n",
    "            else:\n",
    "                integral[i]=np.trapz(0.5*dndm[:len(mass_bin[i])],mass_bin[i])-sum(integral)\n",
    "\n",
    "        means=[]\n",
    "        sigs=[]\n",
    "        for i in range(len(masses)):\n",
    "            means.append(integral[i] * vol * survey_area / tot_sky)\n",
    "            \n",
    "            # Get cosmic variance value for this z value and mass bin\n",
    "            # CV values calculated as in Moster et al. 2010\n",
    "            sig_v = float(df.loc[df['z'] == z][[str(masses[i])]].values[0][0]) / np.sqrt(int(point))\n",
    "            sigs.append(sig_v)\n",
    "\n",
    "        # Append mean and variance values of all masses for this redshift \n",
    "        all_mean.append(means)\n",
    "        all_sig_v.append(sigs)\n",
    "        \n",
    "    all_tot_mean = []\n",
    "    all_med = []\n",
    "    \n",
    "    # Loop over all z values (high to low)\n",
    "    for i in range(len(z_vals)):\n",
    "        tot_mean = 0\n",
    "        tot_trials = np.zeros(trials)\n",
    "        # Find cumulative mean and median number of observed galaxies up to z\n",
    "        for j in range(i+1):\n",
    "            means = all_mean[j]\n",
    "            sigs = all_sig_v[j]\n",
    "            # Run trials of gamma distribution to find median\n",
    "            for k in range(len(masses)):\n",
    "                if means[k] != 0:\n",
    "                    one_trial = trial(sigs[k], means[k])\n",
    "                    tot_trials = tot_trials + one_trial\n",
    "                    tot_mean += means[k]\n",
    "        all_tot_mean.append(tot_mean)\n",
    "        med = np.median(tot_trials)\n",
    "        all_med.append(med)\n",
    "        \n",
    "    return np.array(all_tot_mean), np.array(all_med), z_vals"
   ]
  },
  {
   "cell_type": "markdown",
   "metadata": {},
   "source": [
    "# Plots"
   ]
  },
  {
   "cell_type": "code",
   "execution_count": 40,
   "metadata": {
    "ExecuteTime": {
     "end_time": "2020-08-06T14:59:15.811871Z",
     "start_time": "2020-08-06T14:58:13.250959Z"
    }
   },
   "outputs": [],
   "source": [
    "# Survey design matching the idealized survey from Mashian et al. 2015\n",
    "\n",
    "mashian = survey(31.5, 200./3600, \"cv_mashian.csv\", nearest_wavelength(x,14873.4))\n",
    "mean_mashian, med_mashian, z_vals_mashian = mean_median(mashian)\n",
    "z_vals=z_vals_mashian"
   ]
  },
  {
   "cell_type": "code",
   "execution_count": 41,
   "metadata": {
    "ExecuteTime": {
     "end_time": "2020-08-06T14:59:16.114421Z",
     "start_time": "2020-08-06T14:59:15.811871Z"
    }
   },
   "outputs": [
    {
     "data": {
      "image/png": "[encoded data removed]",
      "text/plain": [
       "<Figure size 576x432 with 1 Axes>"
      ]
     },
     "metadata": {
      "needs_background": "light"
     },
     "output_type": "display_data"
    }
   ],
   "source": [
    "fig = plt.figure(figsize = (8, 6))\n",
    "plt.rcParams.update({'font.size': 20})\n",
    "plt.rc('font', family='serif')\n",
    "plt.rc('text', usetex=True)\n",
    "\n",
    "plt.plot(z_vals_mashian, mean_mashian, label = \"Mean\")\n",
    "plt.plot(z_vals_mashian, med_mashian, label = \"Median\")\n",
    "\n",
    "plt.xlabel(\"z\")\n",
    "plt.ylabel(\"Number of Galaxies\"r\" ($>$z)\") #is this really z or above, i think it is just z\n",
    "plt.yscale(\"Log\")\n",
    "\n",
    "plt.legend()\n",
    "\n",
    "plt.ylim(0.9, 1e4)\n",
    "plt.xlim(10,max(z_vals)+1)\n",
    "\n",
    "plt.title(\"Mashian\")\n",
    "\n",
    "if save==1:\n",
    "    plt.savefig(\"figs/\"+file+\"/mashian.pdf\")"
   ]
  },
  {
   "cell_type": "code",
   "execution_count": 32,
   "metadata": {
    "ExecuteTime": {
     "end_time": "2020-08-06T10:33:41.941394Z",
     "start_time": "2020-08-06T10:33:41.932383Z"
    }
   },
   "outputs": [
    {
     "name": "stdout",
     "output_type": "stream",
     "text": [
      "[2.39445e+01 2.17400e+01 1.98155e+01 1.81260e+01 1.66345e+01 1.53110e+01\n",
      " 1.41315e+01 1.30755e+01 1.21260e+01 1.12695e+01 1.04945e+01 9.79050e+00\n",
      " 9.14900e+00 8.56300e+00 8.02600e+00 7.53300e+00 7.07950e+00 6.66100e+00\n",
      " 6.27400e+00 5.91550e+00 5.58250e+00 5.27250e+00 4.98400e+00 4.71500e+00\n",
      " 4.46350e+00 4.22800e+00 4.00700e+00 3.79950e+00 3.60450e+00 3.42100e+00\n",
      " 3.24800e+00 3.08450e+00 2.93000e+00 2.78400e+00 2.64550e+00 2.51400e+00\n",
      " 2.38900e+00 2.27000e+00 2.15700e+00 2.04950e+00 1.94700e+00 1.84900e+00\n",
      " 1.75550e+00 1.66650e+00 1.58100e+00 1.49900e+00 1.42050e+00 1.34500e+00\n",
      " 1.27250e+00 1.20300e+00 1.13600e+00 1.07150e+00 1.00950e+00 9.49500e-01\n",
      " 8.91500e-01 8.35500e-01 7.81500e-01 7.29000e-01 6.78000e-01 6.28500e-01\n",
      " 5.80500e-01 5.34000e-01 4.88500e-01 4.44000e-01 4.00500e-01 3.58000e-01\n",
      " 3.16500e-01 2.76000e-01 2.36500e-01 1.98000e-01 1.60500e-01 1.24000e-01\n",
      " 8.80000e-02 5.25000e-02 1.75000e-02]\n",
      "[23.9445 21.74   19.8155 18.126  16.6345 15.311  14.1315 13.0755 12.126\n",
      " 11.2695 10.4945  9.7905  9.149   8.563   8.026   7.533   7.0795  6.661\n",
      "  6.274   5.9155  5.5825]\n",
      "[23.9445 21.74   19.8155 18.126  16.6345 15.311  14.1315 13.0755 12.126\n",
      " 11.2695 10.4945  9.7905  9.149   8.563   8.026   7.533   7.0795  6.661\n",
      "  6.274 ]\n"
     ]
    },
    {
     "name": "stderr",
     "output_type": "stream",
     "text": [
      "C:\\Users\\chris\\Anaconda3\\lib\\site-packages\\ipykernel_launcher.py:1: RuntimeWarning: invalid value encountered in true_divide\n",
      "  \"\"\"Entry point for launching an IPython kernel.\n",
      "C:\\Users\\chris\\Anaconda3\\lib\\site-packages\\ipykernel_launcher.py:1: RuntimeWarning: invalid value encountered in less\n",
      "  \"\"\"Entry point for launching an IPython kernel.\n",
      "C:\\Users\\chris\\Anaconda3\\lib\\site-packages\\ipykernel_launcher.py:3: RuntimeWarning: invalid value encountered in true_divide\n",
      "  This is separate from the ipykernel package so we can avoid doing imports until\n",
      "C:\\Users\\chris\\Anaconda3\\lib\\site-packages\\ipykernel_launcher.py:3: RuntimeWarning: invalid value encountered in less\n",
      "  This is separate from the ipykernel package so we can avoid doing imports until\n",
      "C:\\Users\\chris\\Anaconda3\\lib\\site-packages\\ipykernel_launcher.py:5: RuntimeWarning: invalid value encountered in true_divide\n",
      "  \"\"\"\n",
      "C:\\Users\\chris\\Anaconda3\\lib\\site-packages\\ipykernel_launcher.py:5: RuntimeWarning: invalid value encountered in less\n",
      "  \"\"\"\n",
      "C:\\Users\\chris\\Anaconda3\\lib\\site-packages\\ipykernel_launcher.py:7: RuntimeWarning: invalid value encountered in true_divide\n",
      "  import sys\n"
     ]
    },
    {
     "data": {
      "text/plain": [
       "array([         nan,          nan,          nan,          nan,\n",
       "                nan,          nan,          nan,          nan,\n",
       "                nan,          nan,          nan,          nan,\n",
       "                nan,          nan,          nan, 392.63845659,\n",
       "        11.85119571,   3.67077154,   2.2365763 ,   1.84948783,\n",
       "         1.51618809,   1.40759889,   1.35016006,   1.31450642,\n",
       "         1.28636483,   1.2819999 ,   1.26729426,   1.24397614,\n",
       "         1.23796244,   1.25767672,   1.24866048,   1.24488797,\n",
       "         1.24429655,   1.24049584,   1.24147021,   1.24636094,\n",
       "         1.22893598,   1.23508774,   1.23467775,   1.22517717,\n",
       "         1.23312053,   1.24299195,   1.23766078,   1.23412396,\n",
       "         1.23075017,   1.23997219,   1.23251363,   1.23047046,\n",
       "         1.22807667,   1.24037238,   1.23328575,   1.23009245,\n",
       "         1.24005007,   1.24687792,   1.23351779,   1.24358839,\n",
       "         1.21399001,   1.22263397,   1.22526623,   1.24330295,\n",
       "         1.22738013,   1.23456384,   1.24303663,   1.23493733,\n",
       "         1.21622581,   1.23897885,   1.23318981,   1.24815046,\n",
       "         1.24048566,   1.22902761,   1.21254552,   1.21375377,\n",
       "         1.22472485,   1.22560574,   1.22568713])"
      ]
     },
     "execution_count": 32,
     "metadata": {},
     "output_type": "execute_result"
    }
   ],
   "source": [
    "mask=mean_mashian/med_mashian<1.1\n",
    "print(z_vals_mashian[~mask])\n",
    "mask=mean_mashian/med_mashian<1.5\n",
    "print(z_vals_mashian[~mask])\n",
    "mask=mean_mashian/med_mashian<2\n",
    "print(z_vals_mashian[~mask])\n",
    "mean_mashian/med_mashian"
   ]
  },
  {
   "cell_type": "code",
   "execution_count": 38,
   "metadata": {
    "ExecuteTime": {
     "end_time": "2020-08-06T13:41:59.934767Z",
     "start_time": "2020-08-06T13:41:59.929748Z"
    }
   },
   "outputs": [
    {
     "data": {
      "text/plain": [
       "array([0.00000000e+00, 0.00000000e+00, 0.00000000e+00, 0.00000000e+00,\n",
       "       0.00000000e+00, 0.00000000e+00, 0.00000000e+00, 0.00000000e+00,\n",
       "       0.00000000e+00, 0.00000000e+00, 0.00000000e+00, 0.00000000e+00,\n",
       "       0.00000000e+00, 0.00000000e+00, 0.00000000e+00, 5.26685226e+06,\n",
       "       1.76018107e+07, 3.27732044e+07, 4.80928699e+07, 6.22769011e+07,\n",
       "       7.47486173e+07, 8.55174656e+07, 9.43890981e+07, 1.01730055e+08,\n",
       "       1.07577974e+08, 1.12287997e+08, 1.16039821e+08, 1.19000961e+08,\n",
       "       1.21320379e+08, 1.23126083e+08, 1.24525218e+08, 1.25605619e+08,\n",
       "       1.26432513e+08, 1.27064260e+08, 1.27546638e+08, 1.27912310e+08,\n",
       "       1.28189773e+08, 1.28398935e+08, 1.28555570e+08, 1.28673199e+08,\n",
       "       1.28761009e+08, 1.28826842e+08, 1.28875402e+08, 1.28911403e+08,\n",
       "       1.28938260e+08, 1.28957501e+08, 1.28971382e+08, 1.28981574e+08,\n",
       "       1.28988847e+08, 1.28994007e+08, 1.28997617e+08, 1.29000523e+08,\n",
       "       1.29003173e+08, 1.29005575e+08, 1.29007737e+08, 1.29009671e+08,\n",
       "       1.29011389e+08, 1.29012930e+08, 1.29014276e+08, 1.29015464e+08,\n",
       "       1.29016481e+08, 1.29017361e+08, 1.29018112e+08, 1.29018744e+08,\n",
       "       1.29019266e+08, 1.29019690e+08, 1.29020025e+08, 1.29020283e+08,\n",
       "       1.29020473e+08, 1.29020607e+08, 1.29020696e+08, 1.29020749e+08,\n",
       "       1.29020777e+08, 1.29020787e+08, 1.29020788e+08])"
      ]
     },
     "execution_count": 38,
     "metadata": {},
     "output_type": "execute_result"
    }
   ],
   "source": [
    "mean_mashian"
   ]
  },
  {
   "cell_type": "code",
   "execution_count": 11,
   "metadata": {
    "ExecuteTime": {
     "end_time": "2020-08-03T14:16:40.066690Z",
     "start_time": "2020-08-03T14:15:18.857478Z"
    }
   },
   "outputs": [],
   "source": [
    "# Survey design matching the JADES Deep survey from Williams et al. 2018 (pg. 36)\n",
    "\n",
    "deep = survey(30.7, 46./3600, \"cv_jades_deep.csv\", nearest_wavelength(x,14873.4))\n",
    "mean_deep, med_deep, z_vals_deep = mean_median(deep)"
   ]
  },
  {
   "cell_type": "code",
   "execution_count": 12,
   "metadata": {
    "ExecuteTime": {
     "end_time": "2020-08-03T14:16:40.273155Z",
     "start_time": "2020-08-03T14:16:40.067714Z"
    }
   },
   "outputs": [
    {
     "data": {
      "image/png": "[encoded data removed]",
      "text/plain": [
       "<Figure size 576x432 with 1 Axes>"
      ]
     },
     "metadata": {
      "needs_background": "light"
     },
     "output_type": "display_data"
    }
   ],
   "source": [
    "fig = plt.figure(figsize = (8, 6))\n",
    "plt.rcParams.update({'font.size': 20})\n",
    "plt.rc('font', family='serif')\n",
    "plt.rc('text', usetex=True)\n",
    "\n",
    "plt.plot(z_vals_deep, mean_deep, label = \"Mean\")\n",
    "plt.plot(z_vals_deep, med_deep, label = \"Median\")\n",
    "\n",
    "plt.xlabel(\"z\")\n",
    "plt.ylabel(\"Number of Galaxies\"r\" ($>$z)\")\n",
    "plt.yscale(\"Log\")\n",
    "\n",
    "plt.legend()\n",
    "\n",
    "plt.ylim(0.9, 1e7)\n",
    "plt.xlim(10,max(z_vals)+1)\n",
    "\n",
    "\n",
    "plt.title(\"JADES Deep\")\n",
    "if save==1:\n",
    "    plt.savefig(\"figs/\"+file+\"/jadesdeep.pdf\")"
   ]
  },
  {
   "cell_type": "code",
   "execution_count": 13,
   "metadata": {
    "ExecuteTime": {
     "end_time": "2020-08-03T14:16:40.287120Z",
     "start_time": "2020-08-03T14:16:40.275151Z"
    }
   },
   "outputs": [
    {
     "name": "stdout",
     "output_type": "stream",
     "text": [
      "[23.9445 21.74   19.8155 18.126  16.6345 15.311  14.1315 13.0755 12.126\n",
      " 11.2695 10.4945]\n",
      "[23.9445 21.74   19.8155 18.126  16.6345 15.311  14.1315 13.0755]\n",
      "[23.9445 21.74   19.8155 18.126  16.6345 15.311  14.1315]\n"
     ]
    },
    {
     "name": "stderr",
     "output_type": "stream",
     "text": [
      "C:\\Users\\chris\\Anaconda3\\lib\\site-packages\\ipykernel_launcher.py:1: RuntimeWarning: divide by zero encountered in true_divide\n",
      "  \"\"\"Entry point for launching an IPython kernel.\n",
      "C:\\Users\\chris\\Anaconda3\\lib\\site-packages\\ipykernel_launcher.py:3: RuntimeWarning: divide by zero encountered in true_divide\n",
      "  This is separate from the ipykernel package so we can avoid doing imports until\n",
      "C:\\Users\\chris\\Anaconda3\\lib\\site-packages\\ipykernel_launcher.py:5: RuntimeWarning: divide by zero encountered in true_divide\n",
      "  \"\"\"\n",
      "C:\\Users\\chris\\Anaconda3\\lib\\site-packages\\ipykernel_launcher.py:7: RuntimeWarning: divide by zero encountered in true_divide\n",
      "  import sys\n"
     ]
    },
    {
     "data": {
      "text/plain": [
       "array([       inf,        inf,        inf,        inf, 6.26629302,\n",
       "       3.07198283, 2.14694625, 1.59172088, 1.31331042, 1.18020086,\n",
       "       1.11941199, 1.07860497, 1.06995402, 1.05239473, 1.04462245,\n",
       "       1.03239778, 1.03020164, 1.02455801, 1.02012346, 1.02527837,\n",
       "       1.01720362, 1.02031522, 1.01809894, 1.02085504, 1.01922766,\n",
       "       1.02495368, 1.01672902, 1.02094556, 1.01771538, 1.01689442,\n",
       "       1.01855766, 1.01379168, 1.01844991, 1.01587782, 1.01731584,\n",
       "       1.01335064, 1.01754112, 1.01555286, 1.01639515, 1.01419704,\n",
       "       1.01489126, 1.01637862, 1.01404666, 1.01268684, 1.01289968,\n",
       "       1.01417135, 1.0149445 , 1.01299323, 1.01458112, 1.01378797,\n",
       "       1.01483094, 1.01376812, 1.01515383, 1.0122808 , 1.01434097,\n",
       "       1.01234508, 1.01326636, 1.01439334, 1.0148804 , 1.01211243,\n",
       "       1.01459784, 1.01460074, 1.01214156, 1.01483863, 1.01436015,\n",
       "       1.01433979, 1.01553006, 1.01263175, 1.01303475, 1.00984225,\n",
       "       1.01613808, 1.01650564, 1.01580304, 1.01183987, 1.01213533])"
      ]
     },
     "execution_count": 13,
     "metadata": {},
     "output_type": "execute_result"
    }
   ],
   "source": [
    "mask=mean_deep/med_deep<1.1\n",
    "print(z_vals_deep[~mask])\n",
    "mask=mean_deep/med_deep<1.5\n",
    "print(z_vals_deep[~mask])\n",
    "mask=mean_deep/med_deep<2\n",
    "print(z_vals_deep[~mask])\n",
    "mean_deep/med_deep"
   ]
  },
  {
   "cell_type": "code",
   "execution_count": 14,
   "metadata": {
    "ExecuteTime": {
     "end_time": "2020-08-03T14:17:56.452075Z",
     "start_time": "2020-08-03T14:16:40.289114Z"
    }
   },
   "outputs": [],
   "source": [
    "# Survey design matching the JADES Wide survey from Williams et al. 2018 (pg. 36)\n",
    "\n",
    "wide = survey(29.9, 190./3600, \"cv_jades_wide.csv\", nearest_wavelength(x,14873.4))\n",
    "mean_wide, med_wide, z_vals_wide = mean_median(wide)"
   ]
  },
  {
   "cell_type": "code",
   "execution_count": 15,
   "metadata": {
    "ExecuteTime": {
     "end_time": "2020-08-03T14:17:56.827759Z",
     "start_time": "2020-08-03T14:17:56.455052Z"
    }
   },
   "outputs": [
    {
     "data": {
      "image/png": "[encoded data removed]",
      "text/plain": [
       "<Figure size 576x432 with 1 Axes>"
      ]
     },
     "metadata": {
      "needs_background": "light"
     },
     "output_type": "display_data"
    }
   ],
   "source": [
    "fig = plt.figure(figsize = (8, 6))\n",
    "plt.rcParams.update({'font.size': 20})\n",
    "plt.rc('font', family='serif')\n",
    "plt.rc('text', usetex=True)\n",
    "\n",
    "plt.plot(z_vals_wide, mean_wide, label = \"Mean\")\n",
    "plt.plot(z_vals_wide, med_wide, label = \"Median\")\n",
    "\n",
    "plt.xlabel(\"z\")\n",
    "plt.ylabel(\"Number of Galaxies\"r\" ($>$z)\")\n",
    "plt.yscale(\"Log\")\n",
    "\n",
    "plt.legend()\n",
    "\n",
    "plt.ylim(0.9, 1e7)\n",
    "plt.xlim(10,max(z_vals)+1)\n",
    "\n",
    "plt.title(\"JADES Wide\")\n",
    "\n",
    "if save==1:\n",
    "    plt.savefig(\"figs/\"+file+\"/jadeswide.pdf\")"
   ]
  },
  {
   "cell_type": "code",
   "execution_count": 16,
   "metadata": {
    "ExecuteTime": {
     "end_time": "2020-08-03T14:17:56.846710Z",
     "start_time": "2020-08-03T14:17:56.832748Z"
    }
   },
   "outputs": [
    {
     "name": "stdout",
     "output_type": "stream",
     "text": [
      "[23.9445 21.74   19.8155 18.126  16.6345 15.311  14.1315 13.0755 12.126\n",
      " 11.2695 10.4945  9.7905  9.149 ]\n",
      "[23.9445 21.74   19.8155 18.126  16.6345 15.311  14.1315 13.0755 12.126 ]\n",
      "[23.9445 21.74   19.8155 18.126  16.6345 15.311  14.1315 13.0755]\n"
     ]
    },
    {
     "name": "stderr",
     "output_type": "stream",
     "text": [
      "C:\\Users\\chris\\Anaconda3\\lib\\site-packages\\ipykernel_launcher.py:1: RuntimeWarning: divide by zero encountered in true_divide\n",
      "  \"\"\"Entry point for launching an IPython kernel.\n",
      "C:\\Users\\chris\\Anaconda3\\lib\\site-packages\\ipykernel_launcher.py:3: RuntimeWarning: divide by zero encountered in true_divide\n",
      "  This is separate from the ipykernel package so we can avoid doing imports until\n",
      "C:\\Users\\chris\\Anaconda3\\lib\\site-packages\\ipykernel_launcher.py:5: RuntimeWarning: divide by zero encountered in true_divide\n",
      "  \"\"\"\n",
      "C:\\Users\\chris\\Anaconda3\\lib\\site-packages\\ipykernel_launcher.py:7: RuntimeWarning: divide by zero encountered in true_divide\n",
      "  import sys\n"
     ]
    },
    {
     "data": {
      "text/plain": [
       "array([        inf,         inf,         inf,         inf, 81.26742028,\n",
       "       24.14574494,  7.68102044,  2.68550468,  1.72443134,  1.36822114,\n",
       "        1.2271376 ,  1.15035322,  1.11139044,  1.08379606,  1.07573825,\n",
       "        1.05288178,  1.04780302,  1.04760559,  1.04109652,  1.03967143,\n",
       "        1.03555806,  1.03696324,  1.03460169,  1.02670495,  1.02777809,\n",
       "        1.03227673,  1.02964919,  1.02980196,  1.02626708,  1.02595447,\n",
       "        1.03114509,  1.02917944,  1.02538594,  1.02569432,  1.02338075,\n",
       "        1.02420497,  1.02490362,  1.02643333,  1.02777686,  1.02729942,\n",
       "        1.02582928,  1.0270565 ,  1.02679637,  1.02714629,  1.02214004,\n",
       "        1.02638932,  1.02343027,  1.02520026,  1.02655454,  1.02510887,\n",
       "        1.02480253,  1.02448664,  1.02405864,  1.02441525,  1.02590743,\n",
       "        1.02276434,  1.02207928,  1.02596582,  1.02678923,  1.02376695,\n",
       "        1.02540075,  1.02405514,  1.01999353,  1.02472664,  1.02424549,\n",
       "        1.02287102,  1.02391613,  1.02578997,  1.02426275,  1.02430583,\n",
       "        1.02878148,  1.02386501,  1.02298379,  1.02491834,  1.02142824])"
      ]
     },
     "execution_count": 16,
     "metadata": {},
     "output_type": "execute_result"
    }
   ],
   "source": [
    "mask=mean_wide/med_wide<1.1\n",
    "print(z_vals_wide[~mask])\n",
    "mask=mean_wide/med_wide<1.5\n",
    "print(z_vals_wide[~mask])\n",
    "mask=mean_wide/med_wide<2\n",
    "print(z_vals_wide[~mask])\n",
    "mean_wide/med_wide"
   ]
  },
  {
   "cell_type": "code",
   "execution_count": 17,
   "metadata": {
    "ExecuteTime": {
     "end_time": "2020-08-03T14:19:12.012154Z",
     "start_time": "2020-08-03T14:17:56.851695Z"
    }
   },
   "outputs": [],
   "source": [
    "# Survey design assuming 35 parallel pointings of JWST\n",
    "# Uses limiting magnitude from JADES Deep, area of one JWST pointing\n",
    "\n",
    "parallel_35 = survey(30.7, 4.84/3600, \"cv_one_pointing.csv\", nearest_wavelength(x,14873.4), 35)\n",
    "mean_35, med_35, z_vals_35 = mean_median(parallel_35)"
   ]
  },
  {
   "cell_type": "code",
   "execution_count": 18,
   "metadata": {
    "ExecuteTime": {
     "end_time": "2020-08-03T14:19:12.241506Z",
     "start_time": "2020-08-03T14:19:12.014115Z"
    }
   },
   "outputs": [
    {
     "data": {
      "image/png": "[encoded data removed]",
      "text/plain": [
       "<Figure size 576x432 with 1 Axes>"
      ]
     },
     "metadata": {
      "needs_background": "light"
     },
     "output_type": "display_data"
    }
   ],
   "source": [
    "fig = plt.figure(figsize = (8, 6))\n",
    "plt.rcParams.update({'font.size': 20})\n",
    "plt.rc('font', family='serif')\n",
    "plt.rc('text', usetex=True)\n",
    "\n",
    "plt.plot(z_vals_35, mean_35, label = \"Mean\")\n",
    "plt.plot(z_vals_35, med_35, label = \"Median\")\n",
    "\n",
    "plt.xlabel(\"z\")\n",
    "plt.ylabel(\"Number of Galaxies\"r\" ($>$z)\")\n",
    "plt.yscale(\"Log\")\n",
    "\n",
    "plt.legend()\n",
    "\n",
    "plt.ylim(0.9, 1e7)\n",
    "plt.xlim(10,max(z_vals)+1)\n",
    "\n",
    "plt.title(\"35 Pointings\")\n",
    "\n",
    "# Survey design assuming 35 parallel pointings of JWST#plt.savefig(\"35.pdf\")\n",
    "if save==1:\n",
    "    plt.savefig(\"figs/\"+file+\"/35.pdf\")"
   ]
  },
  {
   "cell_type": "code",
   "execution_count": 19,
   "metadata": {
    "ExecuteTime": {
     "end_time": "2020-08-03T14:19:12.257463Z",
     "start_time": "2020-08-03T14:19:12.244498Z"
    }
   },
   "outputs": [
    {
     "name": "stdout",
     "output_type": "stream",
     "text": [
      "[23.9445 21.74   19.8155 18.126  16.6345]\n",
      "[23.9445 21.74   19.8155]\n",
      "[23.9445 21.74   19.8155]\n"
     ]
    },
    {
     "name": "stderr",
     "output_type": "stream",
     "text": [
      "C:\\Users\\chris\\Anaconda3\\lib\\site-packages\\ipykernel_launcher.py:1: RuntimeWarning: divide by zero encountered in true_divide\n",
      "  \"\"\"Entry point for launching an IPython kernel.\n",
      "C:\\Users\\chris\\Anaconda3\\lib\\site-packages\\ipykernel_launcher.py:3: RuntimeWarning: divide by zero encountered in true_divide\n",
      "  This is separate from the ipykernel package so we can avoid doing imports until\n",
      "C:\\Users\\chris\\Anaconda3\\lib\\site-packages\\ipykernel_launcher.py:5: RuntimeWarning: divide by zero encountered in true_divide\n",
      "  \"\"\"\n",
      "C:\\Users\\chris\\Anaconda3\\lib\\site-packages\\ipykernel_launcher.py:7: RuntimeWarning: divide by zero encountered in true_divide\n",
      "  import sys\n"
     ]
    },
    {
     "data": {
      "text/plain": [
       "array([       inf,        inf, 4.76307542, 1.47429337, 1.14239134,\n",
       "       1.0592613 , 1.03486426, 1.02426407, 1.01381756, 1.00765189,\n",
       "       1.00668653, 1.00204929, 1.00481668, 1.00191258, 1.0040541 ,\n",
       "       1.00210451, 1.00073715, 1.00115825, 1.00115133, 1.00021414,\n",
       "       1.00139842, 1.00019031, 1.00115844, 1.00164575, 1.00105089,\n",
       "       1.00009616, 1.00112383, 1.00143147, 1.00143592, 1.00051839,\n",
       "       1.00057348, 1.00047552, 1.00042102, 1.00097617, 1.00186131,\n",
       "       1.00130296, 1.00089329, 1.00115293, 1.00061311, 1.00080491,\n",
       "       1.00043432, 1.0006611 , 1.00098068, 1.00020178, 1.00044851,\n",
       "       1.00113502, 1.00084253, 1.00053006, 1.00146201, 1.00076154,\n",
       "       1.0007824 , 1.00145967, 1.00158475, 1.00133288, 1.00103772,\n",
       "       1.00110927, 1.00041583, 1.00063182, 1.00117519, 1.00123085,\n",
       "       1.00094061, 1.00117312, 1.00045166, 1.00129253, 1.00054165,\n",
       "       1.00161241, 1.00123726, 1.00138395, 1.00151986, 1.0012689 ,\n",
       "       1.00091853, 1.00126197, 1.00118162, 1.00189749, 1.00193849])"
      ]
     },
     "execution_count": 19,
     "metadata": {},
     "output_type": "execute_result"
    }
   ],
   "source": [
    "mask=mean_35/med_35<1.1\n",
    "print(z_vals_35[~mask])\n",
    "mask=mean_35/med_35<1.5\n",
    "print(z_vals_35[~mask])\n",
    "mask=mean_35/med_35<2\n",
    "print(z_vals_35[~mask])\n",
    "mean_35/med_35"
   ]
  },
  {
   "cell_type": "code",
   "execution_count": 20,
   "metadata": {
    "ExecuteTime": {
     "end_time": "2020-08-03T14:20:22.303173Z",
     "start_time": "2020-08-03T14:19:12.259458Z"
    }
   },
   "outputs": [],
   "source": [
    "# Survey design assuming 10 parallel pointings of JWST\n",
    "\n",
    "parallel_200 = survey(30.7, 4.84/3600, \"cv_one_pointing.csv\", nearest_wavelength(x,14873.4), 10)\n",
    "mean_200, med_200, z_vals_200 = mean_median(parallel_200)"
   ]
  },
  {
   "cell_type": "code",
   "execution_count": 21,
   "metadata": {
    "ExecuteTime": {
     "end_time": "2020-08-03T14:20:22.472887Z",
     "start_time": "2020-08-03T14:20:22.304914Z"
    }
   },
   "outputs": [
    {
     "data": {
      "image/png": "[encoded data removed]",
      "text/plain": [
       "<Figure size 576x432 with 1 Axes>"
      ]
     },
     "metadata": {
      "needs_background": "light"
     },
     "output_type": "display_data"
    }
   ],
   "source": [
    "fig = plt.figure(figsize = (8, 6))\n",
    "plt.rcParams.update({'font.size': 20})\n",
    "plt.rc('font', family='serif')\n",
    "plt.rc('text', usetex=True)\n",
    "\n",
    "plt.plot(z_vals_200, mean_200, label = \"Mean\")\n",
    "plt.plot(z_vals_200, med_200, label = \"Median\")\n",
    "\n",
    "plt.xlabel(\"z\")\n",
    "plt.ylabel(\"Number of Galaxies\"r\" ($>$z)\")\n",
    "plt.yscale(\"Log\")\n",
    "\n",
    "plt.legend()\n",
    "\n",
    "plt.ylim(0.9, 1e7)\n",
    "plt.xlim(10,max(z_vals_200)+1)\n",
    "\n",
    "plt.title(\"10 Pointings\")\n",
    "\n",
    "if save==1:\n",
    "    plt.savefig(\"figs/\"+file+\"/10.pdf\")"
   ]
  },
  {
   "cell_type": "code",
   "execution_count": 22,
   "metadata": {
    "ExecuteTime": {
     "end_time": "2020-08-03T14:20:22.481864Z",
     "start_time": "2020-08-03T14:20:22.473885Z"
    }
   },
   "outputs": [
    {
     "name": "stdout",
     "output_type": "stream",
     "text": [
      "[23.9445 21.74   19.8155 18.126  16.6345 15.311  14.1315]\n",
      "[23.9445 21.74   19.8155 18.126 ]\n",
      "[23.9445 21.74   19.8155 18.126 ]\n"
     ]
    },
    {
     "name": "stderr",
     "output_type": "stream",
     "text": [
      "C:\\Users\\chris\\Anaconda3\\lib\\site-packages\\ipykernel_launcher.py:1: RuntimeWarning: divide by zero encountered in true_divide\n",
      "  \"\"\"Entry point for launching an IPython kernel.\n",
      "C:\\Users\\chris\\Anaconda3\\lib\\site-packages\\ipykernel_launcher.py:3: RuntimeWarning: divide by zero encountered in true_divide\n",
      "  This is separate from the ipykernel package so we can avoid doing imports until\n",
      "C:\\Users\\chris\\Anaconda3\\lib\\site-packages\\ipykernel_launcher.py:5: RuntimeWarning: divide by zero encountered in true_divide\n",
      "  \"\"\"\n",
      "C:\\Users\\chris\\Anaconda3\\lib\\site-packages\\ipykernel_launcher.py:7: RuntimeWarning: divide by zero encountered in true_divide\n",
      "  import sys\n"
     ]
    },
    {
     "data": {
      "text/plain": [
       "array([       inf,        inf,        inf, 2.73797339, 1.49846137,\n",
       "       1.26260164, 1.12948042, 1.0927559 , 1.05364611, 1.03284807,\n",
       "       1.01961039, 1.01788628, 1.01466862, 1.01176527, 1.00828776,\n",
       "       1.00484812, 1.00418571, 1.00528772, 1.0030539 , 1.00555958,\n",
       "       1.0035041 , 1.00389838, 1.00401532, 1.00461662, 1.00464291,\n",
       "       1.00228323, 1.00418103, 1.00219146, 1.00328653, 1.00464104,\n",
       "       1.00297022, 1.00258627, 1.0015411 , 1.00299749, 1.00297367,\n",
       "       1.00434449, 1.00441264, 1.0039599 , 1.00312015, 1.00335138,\n",
       "       1.00262976, 1.00270875, 1.00197416, 1.00112295, 1.00257172,\n",
       "       1.00328818, 1.00380579, 1.00341284, 1.00355903, 1.00367756,\n",
       "       1.00299866, 1.00218202, 1.00361721, 1.00302799, 1.00386281,\n",
       "       1.00257589, 1.00377903, 1.00363293, 1.00322516, 1.00385007,\n",
       "       1.00369271, 1.00321465, 1.00394234, 1.00313444, 1.00300672,\n",
       "       1.00370828, 1.00278199, 1.00422273, 1.00337797, 1.00341956,\n",
       "       1.00326324, 1.00401983, 1.00433128, 1.00475692, 1.0029747 ])"
      ]
     },
     "execution_count": 22,
     "metadata": {},
     "output_type": "execute_result"
    }
   ],
   "source": [
    "mask=mean_200/med_200<1.1\n",
    "print(z_vals_200[~mask])\n",
    "mask=mean_200/med_200<1.5\n",
    "print(z_vals_200[~mask])\n",
    "mask=mean_200/med_200<2\n",
    "print(z_vals_200[~mask])\n",
    "mean_200/med_200"
   ]
  },
  {
   "cell_type": "code",
   "execution_count": 23,
   "metadata": {
    "ExecuteTime": {
     "end_time": "2020-08-03T14:21:29.186242Z",
     "start_time": "2020-08-03T14:20:22.485855Z"
    }
   },
   "outputs": [],
   "source": [
    "# Survey design assuming 200 parallel pointings of JWST\n",
    "\n",
    "parallel_200 = survey(30.7, 4.84/3600, \"cv_one_pointing.csv\", nearest_wavelength(x,14873.4), 200)\n",
    "mean_200, med_200, z_vals_200 = mean_median(parallel_200)"
   ]
  },
  {
   "cell_type": "code",
   "execution_count": 24,
   "metadata": {
    "ExecuteTime": {
     "end_time": "2020-08-03T14:21:29.366807Z",
     "start_time": "2020-08-03T14:21:29.188176Z"
    }
   },
   "outputs": [
    {
     "data": {
      "image/png": "[encoded data removed]",
      "text/plain": [
       "<Figure size 576x432 with 1 Axes>"
      ]
     },
     "metadata": {
      "needs_background": "light"
     },
     "output_type": "display_data"
    }
   ],
   "source": [
    "fig = plt.figure(figsize = (8, 6))\n",
    "plt.rcParams.update({'font.size': 20})\n",
    "plt.rc('font', family='serif')\n",
    "plt.rc('text', usetex=True)\n",
    "\n",
    "plt.plot(z_vals_200, mean_200, label = \"Mean\")\n",
    "plt.plot(z_vals_200, med_200, label = \"Median\")\n",
    "\n",
    "plt.xlabel(\"z\")\n",
    "plt.ylabel(\"Number of Galaxies\"r\" ($>$z)\")\n",
    "plt.yscale(\"Log\")\n",
    "\n",
    "plt.legend()\n",
    "\n",
    "plt.ylim(0.9, 1e7)\n",
    "plt.xlim(10,max(z_vals_200)+1)\n",
    "\n",
    "plt.title(\"200 Pointings\")\n",
    "\n",
    "if save==1:\n",
    "    plt.savefig(\"figs/\"+file+\"/10.pdf\")"
   ]
  },
  {
   "cell_type": "code",
   "execution_count": 25,
   "metadata": {
    "ExecuteTime": {
     "end_time": "2020-08-03T14:21:29.378734Z",
     "start_time": "2020-08-03T14:21:29.368763Z"
    }
   },
   "outputs": [
    {
     "name": "stdout",
     "output_type": "stream",
     "text": [
      "[23.9445 21.74   19.8155]\n",
      "[23.9445 21.74  ]\n",
      "[23.9445]\n"
     ]
    },
    {
     "name": "stderr",
     "output_type": "stream",
     "text": [
      "C:\\Users\\chris\\Anaconda3\\lib\\site-packages\\ipykernel_launcher.py:1: RuntimeWarning: divide by zero encountered in true_divide\n",
      "  \"\"\"Entry point for launching an IPython kernel.\n",
      "C:\\Users\\chris\\Anaconda3\\lib\\site-packages\\ipykernel_launcher.py:3: RuntimeWarning: divide by zero encountered in true_divide\n",
      "  This is separate from the ipykernel package so we can avoid doing imports until\n",
      "C:\\Users\\chris\\Anaconda3\\lib\\site-packages\\ipykernel_launcher.py:5: RuntimeWarning: divide by zero encountered in true_divide\n",
      "  \"\"\"\n",
      "C:\\Users\\chris\\Anaconda3\\lib\\site-packages\\ipykernel_launcher.py:7: RuntimeWarning: divide by zero encountered in true_divide\n",
      "  import sys\n"
     ]
    },
    {
     "data": {
      "text/plain": [
       "array([       inf, 1.91527196, 1.39577302, 1.08974065, 1.02698287,\n",
       "       1.01261284, 1.0045779 , 1.00589901, 1.00158458, 1.00083362,\n",
       "       1.00113815, 1.00089904, 1.00083126, 1.00040026, 1.00076528,\n",
       "       1.00026103, 1.00052729, 1.0005309 , 1.00025834, 1.00001991,\n",
       "       1.00034405, 1.00050135, 1.00018606, 1.00012101, 1.00042214,\n",
       "       1.00016845, 1.00008355, 0.99992016, 0.99977044, 0.99993112,\n",
       "       1.00013923, 1.00027703, 1.00010689, 1.00000602, 1.00034969,\n",
       "       1.00043392, 1.00034057, 1.00026733, 1.00029623, 1.00015405,\n",
       "       1.00014447, 1.00011594, 1.00008191, 1.00006062, 0.99999745,\n",
       "       0.99986508, 0.99993443, 1.00031146, 1.0000155 , 1.00008307,\n",
       "       1.00026049, 0.9999801 , 1.00017737, 1.00013481, 1.00029331,\n",
       "       0.99995683, 1.00009996, 1.00011044, 0.99994873, 1.00025217,\n",
       "       1.00006312, 1.00016036, 1.00027434, 1.00034922, 1.00028216,\n",
       "       1.00019971, 1.00034096, 0.99989514, 1.00015124, 1.00021017,\n",
       "       1.00041974, 1.0002414 , 1.00019288, 1.00017892, 1.0003614 ])"
      ]
     },
     "execution_count": 25,
     "metadata": {},
     "output_type": "execute_result"
    }
   ],
   "source": [
    "mask=mean_200/med_200<1.1\n",
    "print(z_vals_200[~mask])\n",
    "mask=mean_200/med_200<1.5\n",
    "print(z_vals_200[~mask])\n",
    "mask=mean_200/med_200<2\n",
    "print(z_vals_200[~mask])\n",
    "mean_200/med_200"
   ]
  },
  {
   "cell_type": "code",
   "execution_count": 26,
   "metadata": {
    "ExecuteTime": {
     "end_time": "2020-08-03T14:22:47.978384Z",
     "start_time": "2020-08-03T14:21:29.380777Z"
    }
   },
   "outputs": [],
   "source": [
    "# Survey design assuming 2000 parallel pointings of JWST\n",
    "\n",
    "parallel_2000 = survey(30.7, 4.84/3600, \"cv_one_pointing.csv\", nearest_wavelength(x,14873.4), 2000)\n",
    "mean_2000, med_2000, z_vals_2000 = mean_median(parallel_2000)"
   ]
  },
  {
   "cell_type": "code",
   "execution_count": 27,
   "metadata": {
    "ExecuteTime": {
     "end_time": "2020-08-03T14:22:48.194806Z",
     "start_time": "2020-08-03T14:22:47.980379Z"
    }
   },
   "outputs": [
    {
     "data": {
      "image/png": "[encoded data removed]",
      "text/plain": [
       "<Figure size 576x432 with 1 Axes>"
      ]
     },
     "metadata": {
      "needs_background": "light"
     },
     "output_type": "display_data"
    }
   ],
   "source": [
    "fig = plt.figure(figsize = (8, 6))\n",
    "ax = plt.axes()\n",
    "plt.rcParams.update({'font.size': 20})\n",
    "plt.rc('font', family='serif')\n",
    "plt.rc('text', usetex=True)\n",
    "\n",
    "plt.plot(z_vals_2000, mean_2000, label = \"Mean\")\n",
    "plt.plot(z_vals_2000, med_2000, label = \"Median\")\n",
    "\n",
    "plt.xlabel(\"z\")\n",
    "plt.ylabel(\"Number of Galaxies\"r\" ($>$z)\")\n",
    "plt.yscale(\"Log\")\n",
    "\n",
    "plt.legend()\n",
    "plt.ylim(0.9, 1e7)\n",
    "plt.xlim(10, 22)\n",
    "\n",
    "plt.title(\"2000 Pointings\")\n",
    "if save==1:\n",
    "    plt.savefig(\"figs/\"+file+\"/2000.pdf\")"
   ]
  },
  {
   "cell_type": "code",
   "execution_count": 28,
   "metadata": {
    "ExecuteTime": {
     "end_time": "2020-08-03T14:22:48.208768Z",
     "start_time": "2020-08-03T14:22:48.196802Z"
    }
   },
   "outputs": [
    {
     "name": "stdout",
     "output_type": "stream",
     "text": [
      "[23.9445]\n",
      "[]\n",
      "[]\n"
     ]
    },
    {
     "data": {
      "text/plain": [
       "array([1.13169039, 1.06403998, 1.0388387 , 1.01218979, 1.00330671,\n",
       "       1.00169214, 1.00060278, 1.00024235, 1.00046019, 1.0001531 ,\n",
       "       1.00013595, 1.00015014, 0.99984953, 1.0000151 , 0.99993334,\n",
       "       1.00008983, 0.99989   , 1.00010741, 1.00011164, 0.99998234,\n",
       "       0.99983904, 0.9999647 , 0.99999226, 0.99987021, 1.00003131,\n",
       "       0.99991308, 1.00009383, 0.99996905, 0.99988412, 1.0000457 ,\n",
       "       0.99993928, 1.00002595, 1.00002322, 0.99993474, 1.00006141,\n",
       "       0.99998245, 1.00012683, 1.00010669, 1.00010981, 1.00000269,\n",
       "       0.99997096, 0.99997679, 1.00003802, 1.00012429, 1.00004575,\n",
       "       1.0000382 , 0.99995916, 1.00001557, 0.999968  , 1.00008942,\n",
       "       0.99998469, 1.00001159, 1.00002117, 0.99996036, 1.0000313 ,\n",
       "       0.99999622, 1.00008547, 1.00003818, 1.00001432, 0.99997814,\n",
       "       1.00002065, 1.00006286, 1.00002928, 1.00002443, 1.00002689,\n",
       "       1.00001453, 0.99999867, 0.99990366, 1.00006743, 0.99997582,\n",
       "       1.0000433 , 0.99996657, 1.00002669, 1.00000184, 0.99999799])"
      ]
     },
     "execution_count": 28,
     "metadata": {},
     "output_type": "execute_result"
    }
   ],
   "source": [
    "mask=mean_2000/med_2000<1.1\n",
    "print(z_vals_2000[~mask])\n",
    "mask=mean_2000/med_2000<1.5\n",
    "print(z_vals_2000[~mask])\n",
    "mask=mean_2000/med_2000<2\n",
    "print(z_vals_2000[~mask])\n",
    "mean_2000/med_2000"
   ]
  },
  {
   "cell_type": "code",
   "execution_count": 29,
   "metadata": {
    "ExecuteTime": {
     "end_time": "2020-08-03T14:24:11.571729Z",
     "start_time": "2020-08-03T14:22:48.210764Z"
    }
   },
   "outputs": [],
   "source": [
    "# Survey design modeling the effect of lensing by increasing limiting magnitude of JADES Deep survey by 2\n",
    "# Assumes this is over one JWST pointing\n",
    "\n",
    "lensing_2 = survey(30.7 + 2, 4.84/3600, \"cv_jades_deep.csv\", nearest_wavelength(x,14873.4), 1)\n",
    "mean_lens, med_lens, z_vals_lens = mean_median(lensing_2)"
   ]
  },
  {
   "cell_type": "code",
   "execution_count": 30,
   "metadata": {
    "ExecuteTime": {
     "end_time": "2020-08-03T14:24:12.147212Z",
     "start_time": "2020-08-03T14:24:11.574722Z"
    }
   },
   "outputs": [
    {
     "data": {
      "image/png": "[encoded data removed]",
      "text/plain": [
       "<Figure size 576x432 with 1 Axes>"
      ]
     },
     "metadata": {
      "needs_background": "light"
     },
     "output_type": "display_data"
    }
   ],
   "source": [
    "fig = plt.figure(figsize = (8, 6))\n",
    "plt.rcParams.update({'font.size': 20})\n",
    "plt.rc('font', family='serif')\n",
    "plt.rc('text', usetex=True)\n",
    "\n",
    "plt.plot(z_vals_lens, mean_lens, label = \"Mean\")\n",
    "plt.plot(z_vals_lens, med_lens, label = \"Median\")\n",
    "\n",
    "plt.xlabel(\"z\")\n",
    "plt.ylabel(\"Number of Galaxies\"r\" ($>$z)\")\n",
    "plt.yscale(\"Log\")\n",
    "\n",
    "plt.legend()\n",
    "\n",
    "plt.ylim(0.9, 1e6)\n",
    "plt.xlim(10, 25)\n",
    "\n",
    "plt.title(\"Lensing, +2 Mag\")\n",
    "\n",
    "if save==1:\n",
    "    plt.savefig(\"figs/\"+file+\"/lensing.pdf\")"
   ]
  },
  {
   "cell_type": "code",
   "execution_count": 31,
   "metadata": {
    "ExecuteTime": {
     "end_time": "2020-08-03T14:24:12.163768Z",
     "start_time": "2020-08-03T14:24:12.150205Z"
    }
   },
   "outputs": [
    {
     "name": "stdout",
     "output_type": "stream",
     "text": [
      "[23.9445 21.74   19.8155 18.126  16.6345 15.311  14.1315 13.0755 12.126\n",
      " 11.2695 10.4945  9.7905  9.149   8.563 ]\n",
      "[23.9445 21.74   19.8155 18.126  16.6345 15.311  14.1315 13.0755 12.126 ]\n",
      "[23.9445 21.74   19.8155 18.126  16.6345 15.311 ]\n"
     ]
    },
    {
     "name": "stderr",
     "output_type": "stream",
     "text": [
      "C:\\Users\\chris\\Anaconda3\\lib\\site-packages\\ipykernel_launcher.py:1: RuntimeWarning: divide by zero encountered in true_divide\n",
      "  \"\"\"Entry point for launching an IPython kernel.\n",
      "C:\\Users\\chris\\Anaconda3\\lib\\site-packages\\ipykernel_launcher.py:3: RuntimeWarning: divide by zero encountered in true_divide\n",
      "  This is separate from the ipykernel package so we can avoid doing imports until\n",
      "C:\\Users\\chris\\Anaconda3\\lib\\site-packages\\ipykernel_launcher.py:5: RuntimeWarning: divide by zero encountered in true_divide\n",
      "  \"\"\"\n",
      "C:\\Users\\chris\\Anaconda3\\lib\\site-packages\\ipykernel_launcher.py:7: RuntimeWarning: divide by zero encountered in true_divide\n",
      "  import sys\n"
     ]
    },
    {
     "data": {
      "text/plain": [
       "array([       inf,        inf,        inf,        inf,        inf,\n",
       "              inf, 1.69422063, 1.54078581, 1.68583378, 1.26868171,\n",
       "       1.18501386, 1.18074809, 1.14046695, 1.11150813, 1.09153574,\n",
       "       1.07646846, 1.08966337, 1.07242393, 1.05542482, 1.05251408,\n",
       "       1.04404903, 1.04212266, 1.04309647, 1.03649147, 1.03984509,\n",
       "       1.03512804, 1.03056129, 1.03199235, 1.03188216, 1.03024713,\n",
       "       1.03250115, 1.02783346, 1.02653573, 1.03278435, 1.0279784 ,\n",
       "       1.0260246 , 1.03085154, 1.02967464, 1.02682783, 1.02640581,\n",
       "       1.02816107, 1.02851539, 1.02730094, 1.02830227, 1.0316114 ,\n",
       "       1.03011857, 1.03094044, 1.03067643, 1.03266046, 1.03686966,\n",
       "       1.03693512, 1.03605662, 1.03762077, 1.03842463, 1.03850926,\n",
       "       1.03791884, 1.0398321 , 1.03809217, 1.03890607, 1.04236754,\n",
       "       1.04221054, 1.04165668, 1.04694814, 1.04566247, 1.04717607,\n",
       "       1.04840283, 1.04937344, 1.05011905, 1.05067094, 1.05106013,\n",
       "       1.05131694, 1.0514707 , 1.05155075, 1.05157978, 1.05158401])"
      ]
     },
     "execution_count": 31,
     "metadata": {},
     "output_type": "execute_result"
    }
   ],
   "source": [
    "mask=mean_lens/med_lens<1.1\n",
    "print(z_vals_lens[~mask])\n",
    "mask=mean_lens/med_lens<1.5\n",
    "print(z_vals_lens[~mask])\n",
    "mask=mean_lens/med_lens<2\n",
    "print(z_vals_lens[~mask])\n",
    "mean_lens/med_lens"
   ]
  }
 ],
 "metadata": {
  "hide_input": false,
  "kernelspec": {
   "display_name": "Python 3",
   "language": "python",
   "name": "python3"
  },
  "language_info": {
   "codemirror_mode": {
    "name": "ipython",
    "version": 3
   },
   "file_extension": ".py",
   "mimetype": "text/x-python",
   "name": "python",
   "nbconvert_exporter": "python",
   "pygments_lexer": "ipython3",
   "version": "3.7.4"
  }
 },
 "nbformat": 4,
 "nbformat_minor": 2
}
