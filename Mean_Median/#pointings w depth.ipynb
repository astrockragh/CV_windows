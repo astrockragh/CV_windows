{
 "cells": [
  {
   "cell_type": "code",
   "execution_count": 1,
   "metadata": {
    "ExecuteTime": {
     "end_time": "2020-10-05T09:18:04.684491Z",
     "start_time": "2020-10-05T09:18:03.771827Z"
    }
   },
   "outputs": [],
   "source": [
    "import numpy as np\n",
    "import matplotlib.pyplot as plt"
   ]
  },
  {
   "cell_type": "code",
   "execution_count": 2,
   "metadata": {
    "ExecuteTime": {
     "end_time": "2020-10-05T09:24:59.374982Z",
     "start_time": "2020-10-05T09:24:59.370961Z"
    }
   },
   "outputs": [],
   "source": [
    "def depth(dmag, pointings=1, t0=int(1e4), time=int(1e6)):\n",
    "    return 10**(dmag/1.25)*pointings*t0"
   ]
  },
  {
   "cell_type": "code",
   "execution_count": 12,
   "metadata": {
    "ExecuteTime": {
     "end_time": "2020-10-05T09:33:49.414295Z",
     "start_time": "2020-10-05T09:33:49.409308Z"
    }
   },
   "outputs": [
    {
     "name": "stdout",
     "output_type": "stream",
     "text": [
      "1 pointing with 1 Ms results in a depth of 32.22 AB\n"
     ]
    }
   ],
   "source": [
    "T=0\n",
    "maxT=1e6\n",
    "dmag=0\n",
    "while T<maxT:\n",
    "    T=depth(dmag, 1)\n",
    "    dmag+=0.01\n",
    "print(f\"1 pointing with 1 Ms results in a depth of {np.round(dmag+29.7, 4)} AB\")"
   ]
  },
  {
   "cell_type": "code",
   "execution_count": 22,
   "metadata": {
    "ExecuteTime": {
     "end_time": "2020-10-05T09:37:00.431930Z",
     "start_time": "2020-10-05T09:37:00.426945Z"
    }
   },
   "outputs": [
    {
     "name": "stdout",
     "output_type": "stream",
     "text": [
      "20 pointing with 1 Ms results in a depth of 30.59 AB\n"
     ]
    }
   ],
   "source": [
    "T=0\n",
    "maxT=1e6\n",
    "dmag=0\n",
    "while T<maxT:\n",
    "    T=depth(dmag, 20)\n",
    "    dmag+=0.01\n",
    "print(f\"20 pointing with 1 Ms results in a depth of {np.round(dmag+29.7, 4)} AB\")"
   ]
  },
  {
   "cell_type": "code",
   "execution_count": 20,
   "metadata": {
    "ExecuteTime": {
     "end_time": "2020-10-05T09:36:52.265761Z",
     "start_time": "2020-10-05T09:36:52.260774Z"
    }
   },
   "outputs": [
    {
     "name": "stdout",
     "output_type": "stream",
     "text": [
      "100 pointings with 1 Ms results in a depth of 29.701 AB\n"
     ]
    }
   ],
   "source": [
    "T=0\n",
    "maxT=1e6\n",
    "dmag=0\n",
    "while abs(T-maxT)>100:\n",
    "    T=depth(dmag, 100)\n",
    "    if T>maxT:\n",
    "        dmag-=0.001\n",
    "    else:\n",
    "        dmag+=0.001\n",
    "print(f\"100 pointings with 1 Ms results in a depth of {np.round(dmag+29.7, 4)} AB\")"
   ]
  },
  {
   "cell_type": "code",
   "execution_count": 21,
   "metadata": {
    "ExecuteTime": {
     "end_time": "2020-10-05T09:36:57.180469Z",
     "start_time": "2020-10-05T09:36:57.173487Z"
    }
   },
   "outputs": [
    {
     "name": "stdout",
     "output_type": "stream",
     "text": [
      "1000 pointing with 1 Ms results in a depth of 28.449 AB\n"
     ]
    }
   ],
   "source": [
    "T=0\n",
    "maxT=1e6\n",
    "dmag=0\n",
    "while abs(T-maxT)>100:\n",
    "    T=depth(dmag, 1000)\n",
    "    if T>maxT:\n",
    "        dmag-=0.001\n",
    "    else:\n",
    "        dmag+=0.001\n",
    "print(f\"1000 pointing with 1 Ms results in a depth of {np.round(dmag+29.7, 4)} AB\")"
   ]
  },
  {
   "cell_type": "code",
   "execution_count": null,
   "metadata": {},
   "outputs": [],
   "source": []
  }
 ],
 "metadata": {
  "hide_input": false,
  "kernelspec": {
   "display_name": "Python 3",
   "language": "python",
   "name": "python3"
  },
  "language_info": {
   "codemirror_mode": {
    "name": "ipython",
    "version": 3
   },
   "file_extension": ".py",
   "mimetype": "text/x-python",
   "name": "python",
   "nbconvert_exporter": "python",
   "pygments_lexer": "ipython3",
   "version": "3.7.4"
  }
 },
 "nbformat": 4,
 "nbformat_minor": 4
}
