{
 "cells": [
  {
   "cell_type": "code",
   "execution_count": 1,
   "metadata": {
    "ExecuteTime": {
     "end_time": "2020-07-28T13:31:10.771810Z",
     "start_time": "2020-07-28T13:31:09.630516Z"
    }
   },
   "outputs": [],
   "source": [
    "import numpy as np\n",
    "from astropy.io import fits\n",
    "from scipy.stats import gamma\n",
    "import pandas\n",
    "import matplotlib.pyplot as plt\n",
    "%matplotlib inline\n",
    "plt.rcParams.update({'font.size': 25})\n",
    "plt.rc('font', family='serif')\n",
    "plt.rc('text', usetex=True)\n",
    "import sys\n",
    "sys.path.append('../../../2YR-UNI/Blok2/AppStat2019/External_Functions')\n",
    "from ExternalFunctions import nice_string_output, add_text_to_ax  \n",
    "import winsound"
   ]
  },
  {
   "cell_type": "code",
   "execution_count": null,
   "metadata": {},
   "outputs": [],
   "source": [
    "# Get COSMOS data\n",
    "file_name = 'cosmos2015_D17_v2.0_zmin-zmax.fits' #davidzon17 paper\n",
    "\n",
    "# Data for observed galaxies\n",
    "hdul = fits.open(file_name)\n",
    "ra = hdul[1].data[\"RA_J2000\"] # Right ascension\n",
    "dec = hdul[1].data[\"DEC_J2000\"] # Declination\n",
    "z = hdul[1].data[\"ZBEST\"] # Redshift\n",
    "mass = hdul[1].data[\"logMASS_MED\"] # Mass\n",
    "hdul.close()"
   ]
  },
  {
   "cell_type": "code",
   "execution_count": null,
   "metadata": {},
   "outputs": [],
   "source": [
    "# Get CV values from cosmic variance calculator \n",
    "# Currently the code is set up to compare to the JADES Deep survey\n",
    "path = \"../CV_Vals/cv_jades_deep.csv\"\n",
    "df = pandas.read_csv(path)\n",
    "z_vals = df[\"z\"].values\n",
    "dz_vals = df[\"dz\"].values"
   ]
  }
 ],
 "metadata": {
  "hide_input": false,
  "kernelspec": {
   "display_name": "Python 3",
   "language": "python",
   "name": "python3"
  },
  "language_info": {
   "codemirror_mode": {
    "name": "ipython",
    "version": 3
   },
   "file_extension": ".py",
   "mimetype": "text/x-python",
   "name": "python",
   "nbconvert_exporter": "python",
   "pygments_lexer": "ipython3",
   "version": "3.7.4"
  }
 },
 "nbformat": 4,
 "nbformat_minor": 4
}
