{
 "cells": [
  {
   "cell_type": "code",
   "execution_count": 3,
   "metadata": {
    "ExecuteTime": {
     "end_time": "2020-08-21T08:55:44.236351Z",
     "start_time": "2020-08-21T08:55:41.933865Z"
    }
   },
   "outputs": [],
   "source": [
    "import numpy as np\n",
    "import matplotlib.pyplot as plt\n",
    "from iminuit import Minuit\n",
    "from scipy import stats, optimize\n",
    "import os\n",
    "# import atpy\n",
    "def nice_string_output(d, extra_spacing=5, decimals=3):\n",
    "    \"\"\" \n",
    "    Takes a dictionary d consisting of names and values to be properly formatted.\n",
    "    Makes sure that the distance between the names and the values in the printed\n",
    "    output has a minimum distance of 'extra_spacing'. One can change the number\n",
    "    of decimals using the 'decimals' keyword.  \n",
    "    \"\"\"\n",
    "    \n",
    "    names = d.keys()\n",
    "    max_names = len_of_longest_string(names)\n",
    "    \n",
    "    values = values_to_string(d.values(), decimals=decimals)\n",
    "    max_values = len_of_longest_string(values)\n",
    "    \n",
    "    string = \"\"\n",
    "    for name, value in zip(names, values):\n",
    "        spacing = extra_spacing + max_values + max_names - len(name) - 1 \n",
    "        string += \"{name:s} {value:>{spacing}} \\n\".format(name=name, value=value, spacing=spacing)\n",
    "    return string[:-2]"
   ]
  },
  {
   "cell_type": "code",
   "execution_count": 4,
   "metadata": {
    "ExecuteTime": {
     "end_time": "2020-08-21T08:55:45.471596Z",
     "start_time": "2020-08-21T08:55:44.238109Z"
    }
   },
   "outputs": [],
   "source": [
    "from astropy import units as u\n",
    "from astropy.coordinates import SkyCoord, Distance\n",
    "from astropy.cosmology import Planck15\n",
    "\n",
    "# dist1 = Distance(unit=u.pc, z = z1, cosmology = Planck15)"
   ]
  },
  {
   "cell_type": "markdown",
   "metadata": {},
   "source": [
    "Random Line"
   ]
  },
  {
   "cell_type": "code",
   "execution_count": 29,
   "metadata": {
    "ExecuteTime": {
     "end_time": "2020-08-21T09:06:46.230782Z",
     "start_time": "2020-08-21T09:06:46.225802Z"
    }
   },
   "outputs": [],
   "source": [
    "def lin(x, k, a):\n",
    "    return k*x+a"
   ]
  },
  {
   "cell_type": "code",
   "execution_count": 30,
   "metadata": {
    "ExecuteTime": {
     "end_time": "2020-08-21T09:06:46.405468Z",
     "start_time": "2020-08-21T09:06:46.396496Z"
    }
   },
   "outputs": [],
   "source": [
    "x1=np.random.uniform(-10,10, 100)\n",
    "k, a = np.random.uniform(0,10), np.random.uniform(-5,5) \n",
    "y1=lin(x1, k, a)"
   ]
  },
  {
   "cell_type": "code",
   "execution_count": 31,
   "metadata": {
    "ExecuteTime": {
     "end_time": "2020-08-21T09:06:46.578973Z",
     "start_time": "2020-08-21T09:06:46.573987Z"
    }
   },
   "outputs": [],
   "source": [
    "val, cov=optimize.curve_fit(lin, x1, y1)"
   ]
  },
  {
   "cell_type": "code",
   "execution_count": 33,
   "metadata": {
    "ExecuteTime": {
     "end_time": "2020-08-21T09:07:10.814442Z",
     "start_time": "2020-08-21T09:07:10.658757Z"
    }
   },
   "outputs": [
    {
     "data": {
      "text/plain": [
       "[<matplotlib.lines.Line2D at 0x27e954cb8c8>]"
      ]
     },
     "execution_count": 33,
     "metadata": {},
     "output_type": "execute_result"
    },
    {
     "data": {
      "image/png": "[encoded data removed]",
      "text/plain": [
       "<Figure size 432x288 with 1 Axes>"
      ]
     },
     "metadata": {
      "needs_background": "light"
     },
     "output_type": "display_data"
    }
   ],
   "source": [
    "val, k,a\n",
    "plt.plot(x1,y1)\n",
    "plt.plot(x1, lin(x1, k, a))"
   ]
  },
  {
   "cell_type": "markdown",
   "metadata": {},
   "source": [
    "Line with errors"
   ]
  },
  {
   "cell_type": "code",
   "execution_count": 35,
   "metadata": {
    "ExecuteTime": {
     "end_time": "2020-08-21T09:07:50.912685Z",
     "start_time": "2020-08-21T09:07:50.908694Z"
    }
   },
   "outputs": [],
   "source": [
    "x2=x1+np.random.normal(0,np.std(x1), 100)\n",
    "y2=y1+np.random.normal(0,np.std(y1), 100)"
   ]
  },
  {
   "cell_type": "code",
   "execution_count": 53,
   "metadata": {
    "ExecuteTime": {
     "end_time": "2020-08-21T09:11:52.910233Z",
     "start_time": "2020-08-21T09:11:52.741062Z"
    }
   },
   "outputs": [
    {
     "data": {
      "image/png": "[encoded data removed]",
      "text/plain": [
       "<Figure size 432x288 with 1 Axes>"
      ]
     },
     "metadata": {
      "needs_background": "light"
     },
     "output_type": "display_data"
    }
   ],
   "source": [
    "for i in range(0,len(x1),10):\n",
    "    x2=x1+np.random.normal(0,i*np.std(x1)/len(x1), 100)\n",
    "    y2=y1+np.random.normal(0,i*np.std(y1)/len(y1), 100)\n",
    "#     y2=y1\n",
    "    x2=x1\n",
    "    val, cov=optimize.curve_fit(lin, x2, y2)\n",
    "    plt.plot(x2,y2, 'bo')\n",
    "    plt.plot(x1, lin(x1, k, a), 'r--')\n",
    "    plt.plot(x2, lin(x2, val[0], val[1]), 'y--')\n",
    "    val, k, a"
   ]
  },
  {
   "cell_type": "markdown",
   "metadata": {},
   "source": [
    "Random function"
   ]
  },
  {
   "cell_type": "code",
   "execution_count": 96,
   "metadata": {
    "ExecuteTime": {
     "end_time": "2020-08-21T09:20:29.807402Z",
     "start_time": "2020-08-21T09:20:29.803412Z"
    }
   },
   "outputs": [],
   "source": [
    "#Arbitrary function\n",
    "def rand(x,a,b,c):\n",
    "    return a*np.exp(x*b)+c"
   ]
  },
  {
   "cell_type": "code",
   "execution_count": 105,
   "metadata": {
    "ExecuteTime": {
     "end_time": "2020-08-21T09:22:22.490261Z",
     "start_time": "2020-08-21T09:22:22.358459Z"
    }
   },
   "outputs": [
    {
     "data": {
      "text/plain": [
       "array([0.99457982, 1.00291217, 1.00448133])"
      ]
     },
     "execution_count": 105,
     "metadata": {},
     "output_type": "execute_result"
    },
    {
     "data": {
      "image/png": "[encoded data removed]",
      "text/plain": [
       "<Figure size 432x288 with 1 Axes>"
      ]
     },
     "metadata": {
      "needs_background": "light"
     },
     "output_type": "display_data"
    }
   ],
   "source": [
    "x=np.random.uniform(-1,1, 100)\n",
    "yr=rand(x,2,2,3)\n",
    "x3=x+np.random.normal(0,np.std(x)/len(x), 100)\n",
    "y3=yr+np.random.normal(0,np.std(yr)/len(yr), 100)\n",
    "val, cov=optimize.curve_fit(rand, x3, y3)\n",
    "plt.plot(x,yr, 'bo')\n",
    "x=np.sort(x)\n",
    "x3=np.sort(x3)\n",
    "plt.plot(x, rand(x, 2,2,3), 'ro')\n",
    "plt.plot(x3, rand(x3, val[0], val[1], val[2]), 'y--')\n",
    "val/np.array([2,2,3])"
   ]
  },
  {
   "cell_type": "code",
   "execution_count": null,
   "metadata": {},
   "outputs": [],
   "source": []
  }
 ],
 "metadata": {
  "hide_input": false,
  "kernelspec": {
   "display_name": "Python 3",
   "language": "python",
   "name": "python3"
  },
  "language_info": {
   "codemirror_mode": {
    "name": "ipython",
    "version": 3
   },
   "file_extension": ".py",
   "mimetype": "text/x-python",
   "name": "python",
   "nbconvert_exporter": "python",
   "pygments_lexer": "ipython3",
   "version": "3.7.4"
  }
 },
 "nbformat": 4,
 "nbformat_minor": 2
}
