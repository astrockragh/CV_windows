{
 "cells": [
  {
   "cell_type": "code",
   "execution_count": 1,
   "metadata": {
    "ExecuteTime": {
     "end_time": "2020-08-06T13:31:29.668030Z",
     "start_time": "2020-08-06T13:31:28.233630Z"
    }
   },
   "outputs": [],
   "source": [
    "from hmf import MassFunction     # The main hmf class\n",
    "import matplotlib.pyplot as plt  # The necessary plotting library\n",
    "import numpy as np               # Numerical array library\n",
    "from astropy.cosmology import Planck18_arXiv_v2 as cosmo\n",
    "\n",
    "# This just serves to render plots inline in the notebook. Do not use in a script.\n",
    "%matplotlib inline"
   ]
  },
  {
   "cell_type": "code",
   "execution_count": 2,
   "metadata": {
    "ExecuteTime": {
     "end_time": "2020-08-06T13:31:29.675009Z",
     "start_time": "2020-08-06T13:31:29.669051Z"
    }
   },
   "outputs": [],
   "source": [
    "import hmf\n",
    "from hmf import functional\n",
    "import matplotlib.pyplot as plt\n",
    "%matplotlib inline\n",
    "plt.rc('text', usetex=True)\n",
    "import numpy as np\n",
    "import scipy.integrate\n",
    "import astropy\n",
    "from astropy.cosmology import LambdaCDM, Planck18_arXiv_v2"
   ]
  },
  {
   "cell_type": "code",
   "execution_count": 3,
   "metadata": {
    "ExecuteTime": {
     "end_time": "2020-08-06T13:31:29.686013Z",
     "start_time": "2020-08-06T13:31:29.677004Z"
    }
   },
   "outputs": [
    {
     "data": {
      "text/plain": [
       "{'cosmo_model': FlatLambdaCDM(name=\"Planck15\", H0=67.7 km / (Mpc s), Om0=0.307, Tcmb0=2.725 K, Neff=3.05, m_nu=[0.   0.   0.06] eV, Ob0=0.0486),\n",
       " 'cosmo_params': {},\n",
       " 'n': 0.9667,\n",
       " 'sigma_8': 0.8159,\n",
       " 'growth_params': {},\n",
       " 'lnk_min': -18.420680743952367,\n",
       " 'lnk_max': 9.903487552536127,\n",
       " 'dlnk': 0.05,\n",
       " 'z': 0.0,\n",
       " 'transfer_model': hmf.density_field.transfer_models.CAMB,\n",
       " 'transfer_params': {},\n",
       " 'takahashi': True,\n",
       " 'growth_model': hmf.cosmology.growth_factor.GrowthFactor,\n",
       " 'hmf_model': hmf.mass_function.fitting_functions.Tinker08,\n",
       " 'Mmin': 10,\n",
       " 'Mmax': 15,\n",
       " 'dlog10m': 0.01,\n",
       " 'mdef_model': None,\n",
       " 'mdef_params': {},\n",
       " 'delta_c': 1.686,\n",
       " 'hmf_params': {},\n",
       " 'filter_model': hmf.density_field.filters.TopHat,\n",
       " 'filter_params': {},\n",
       " 'disable_mass_conversion': True}"
      ]
     },
     "execution_count": 3,
     "metadata": {},
     "output_type": "execute_result"
    }
   ],
   "source": [
    "MassFunction.get_all_parameter_defaults(recursive=False)"
   ]
  },
  {
   "cell_type": "code",
   "execution_count": 142,
   "metadata": {
    "ExecuteTime": {
     "end_time": "2020-08-06T16:26:17.563442Z",
     "start_time": "2020-08-06T16:26:17.534068Z"
    }
   },
   "outputs": [
    {
     "name": "stdout",
     "output_type": "stream",
     "text": [
      "['_dlnsdlnm', '_growth_factor_fn', '_gtm', '_normalisation', '_power0', '_sigma_0', '_unn_sig8', '_unn_sigma0', '_unnormalised_lnT', '_unnormalised_power', 'cosmo', 'delta_k', 'dndlnm', 'dndlog10m', 'dndm', 'filter', 'fsigma', 'growth', 'growth_factor', 'halo_overdensity_crit', 'halo_overdensity_mean', 'hmf', 'how_big', 'k', 'lnsigma', 'm', 'mass_nonlinear', 'mdef', 'mean_density', 'mean_density0', 'n_eff', 'ngtm', 'nonlinear_delta_k', 'nonlinear_power', 'normalised_filter', 'nu', 'power', 'radii', 'rho_gtm', 'rho_ltm', 'sigma', 'transfer', 'transfer_function']\n"
     ]
    }
   ],
   "source": [
    "print(mf.quantities_available())"
   ]
  },
  {
   "cell_type": "code",
   "execution_count": 26,
   "metadata": {
    "ExecuteTime": {
     "end_time": "2020-08-06T14:19:46.333507Z",
     "start_time": "2020-08-06T14:19:46.206783Z"
    }
   },
   "outputs": [
    {
     "data": {
      "text/plain": [
       "15.311"
      ]
     },
     "execution_count": 26,
     "metadata": {},
     "output_type": "execute_result"
    }
   ],
   "source": [
    "import pandas\n",
    "df = pandas.read_csv('../CV_Vals/cv_mashian.csv')\n",
    "z_vals = df[\"z\"].values\n",
    "z_vals = z_vals[::-1]\n",
    "dz_vals = df[\"dz\"].values\n",
    "dz_vals = dz_vals[::-1]\n",
    "\n",
    "all_mean = []\n",
    "all_sig_v = []\n",
    "    \n",
    "# Loop over z values\n",
    "for z in z_vals:\n",
    "    masses = np.array([7.0, 7.5, 8.0, 8.5, 9.0, 9.5, 10.0, 10.5, 11.0])    \n",
    "    mf = MassFunction(cosmo_model=cosmo,z=z,Mmin=mmin,Mmax=mmax, hmf_model=\"SMT\")\n",
    "    # Find volume of space within redshift bin\n",
    "    dz = df.loc[df['z'] == z][[\"dz\"]].values[0][0]\n",
    "    vol = cosmo.comoving_volume(z + dz/2).value - cosmo.comoving_volume(z - dz/2).value\n",
    "#     print(vol* survey_area / tot_sky)\n",
    "z_vals[5]"
   ]
  },
  {
   "cell_type": "code",
   "execution_count": 76,
   "metadata": {
    "ExecuteTime": {
     "end_time": "2020-08-06T14:48:23.443090Z",
     "start_time": "2020-08-06T14:48:23.426175Z"
    }
   },
   "outputs": [],
   "source": [
    "z = z_vals[5] # Redshift value to plot\n",
    "mmin = 9 # Minimum halo mass for HMF\n",
    "mmax = 13.5 # Maximum halo mass for HMF\n",
    "ABmax = 31.5 # Max magnitude JWST can see\n",
    "\n",
    "cosmo = Planck18_arXiv_v2 # Define temporary cosmology for volume calculation\n",
    "vol = cosmo.comoving_volume(z + 0.5*dz_vals[5]).value - cosmo.comoving_volume(z - dz_vals[5]*0.5).value\n",
    "side1=10/60\n",
    "side2=19/60\n",
    "tot_sky = 41253. # Total square degrees in the sky\n",
    "survey_area = side1*side2 # Survey area in square degrees\n",
    "num_gal = 1 # Minimum number of galaxies needed within the survey area\n",
    "\n",
    "# Find number density that would be visible to JWST\n",
    "nmin = tot_sky / vol / survey_area\n",
    "\n",
    "# Values for the stellar baryon fraction\n",
    "# Rough estimate of 1/70 and extrapolation from Finkelstein\n",
    "# sbf_vals = [1./70, 0.051 + 0.024 * (z - 4)]\n",
    "sbf_vals = [0.018, 0.051 + 0.024 * (z - 4), 0.051 + 0.031 * (z - 4), 0.051 + 0.017 * (z - 4)]\n",
    "\n",
    "# Calculating change in magnitude due to wavelength\n",
    "# Uses 1505 and 1605 because values at 1500 and 1600 Å are not in the continuum data\n",
    "w_original = 1500 + 5 # From the Song 2016 M*-MUV relation\n",
    "w_new = 1600 + 5\n",
    "\n",
    "# Load spectrum\n",
    "data = np.loadtxt(\"erb2010_continuum.dat\")\n",
    "x = data[:,0]\n",
    "y = data[:,1] * x**2 / 3.e18\n",
    "\n",
    "# Shift luminosity using spectrum assumption\n",
    "shift = 2.5 * np.log10(y[x==w_original]/y[x==w_new])"
   ]
  },
  {
   "cell_type": "code",
   "execution_count": 99,
   "metadata": {
    "ExecuteTime": {
     "end_time": "2020-08-06T14:55:02.624207Z",
     "start_time": "2020-08-06T14:55:02.620216Z"
    }
   },
   "outputs": [],
   "source": [
    "mf = MassFunction(cosmo_model=cosmo,z=z,Mmin=mmin,Mmax=mmax, hmf_model=\"PS\")"
   ]
  },
  {
   "cell_type": "code",
   "execution_count": 137,
   "metadata": {
    "ExecuteTime": {
     "end_time": "2020-08-06T15:49:25.622897Z",
     "start_time": "2020-08-06T15:49:25.617909Z"
    }
   },
   "outputs": [],
   "source": [
    "little_h=mf.cosmo_model.h\n",
    "lnmass=np.log10(mf.m)\n",
    "dndm=mf.dndm\n",
    "dndm=dndm/little_h**3\n",
    "mass=mass*little_h\n",
    "stellar_mass=mass*0.018"
   ]
  },
  {
   "cell_type": "code",
   "execution_count": 141,
   "metadata": {
    "ExecuteTime": {
     "end_time": "2020-08-06T16:10:39.378423Z",
     "start_time": "2020-08-06T16:10:36.612275Z"
    }
   },
   "outputs": [
    {
     "data": {
      "image/png": "[encoded data removed]",
      "text/plain": [
       "<Figure size 432x288 with 1 Axes>"
      ]
     },
     "metadata": {
      "needs_background": "light"
     },
     "output_type": "display_data"
    }
   ],
   "source": [
    "plt.plot(np.log10(mf.m),mf.dndlnm)\n",
    "# plt.xscale('log')\n",
    "plt.yscale('log')\n",
    "\n",
    "plt.xlabel(r\"Mass, $[h^{-1}M_\\odot]$\")\n",
    "plt.ylabel(r\"$dn/dm$, $[h^{4}{\\rm Mpc}^{-3}M_\\odot^{-1}]$\");"
   ]
  },
  {
   "cell_type": "code",
   "execution_count": 56,
   "metadata": {
    "ExecuteTime": {
     "end_time": "2020-08-06T14:33:11.973119Z",
     "start_time": "2020-08-06T14:33:11.970094Z"
    }
   },
   "outputs": [],
   "source": [
    "hmf = functional.get_hmf(['dndm','m'],z=z,Mmin=mmin,Mmax=mmax, hmf_model='SMT')"
   ]
  },
  {
   "cell_type": "code",
   "execution_count": 122,
   "metadata": {
    "ExecuteTime": {
     "end_time": "2020-08-06T14:59:23.523429Z",
     "start_time": "2020-08-06T14:59:23.517390Z"
    }
   },
   "outputs": [],
   "source": [
    "k=50\n",
    "z = z_vals[k] # Redshift value to plot\n",
    "mmin = 8.5 # Minimum halo mass for HMF\n",
    "mmax = 13.5 # Maximum halo mass for HMF\n",
    "ABmax = 31.5 # Max magnitude JWST can see\n",
    "\n",
    "cosmo = Planck18_arXiv_v2 # Define temporary cosmology for volume calculation\n",
    "vol = cosmo.comoving_volume(z + 0.5*dz_vals[k]).value - cosmo.comoving_volume(z - dz_vals[k]*0.5).value\n",
    "side1=10/60\n",
    "side2=19/60\n",
    "tot_sky = 41253. # Total square degrees in the sky\n",
    "survey_area = side1*side2 # Survey area in square degrees\n",
    "num_gal = 1 # Minimum number of galaxies needed within the survey area"
   ]
  },
  {
   "cell_type": "code",
   "execution_count": 155,
   "metadata": {
    "ExecuteTime": {
     "end_time": "2020-08-06T17:36:42.708573Z",
     "start_time": "2020-08-06T17:36:42.182998Z"
    }
   },
   "outputs": [],
   "source": [
    "import hmf\n",
    "from hmf import functional\n",
    "for quants, h, l in functional.get_hmf(['dndm','m'],z=z,Mmin=mmin,Mmax=mmax, hmf_model='SMT'):\n",
    "    dndm = h.dndm\n",
    "    mass = h.m\n",
    "\n",
    "    little_h = h.cosmo_model.h\n",
    "    mass = mass * little_h\n",
    "    stellar_mass = mass * 0.018\n",
    "    \n",
    "M_vals=-2.*(1.56 + np.log10(stellar_mass))\n",
    "m = M_vals + cosmo.distmod(z).value+shift[0]\n",
    "u_lim = max(m)\n",
    "l_lim = min(m)\n",
    "u_lim = min(u_lim, ABmax) # Compare dimmest object to telescope limit \n",
    "index= m<=u_lim\n",
    "stellar_mass=stellar_mass[index]\n",
    "mass_bin=[]\n",
    "masks=[]\n",
    "masses = np.array([7.0, 7.5, 8.0, 8.5, 9.0, 9.5, 10.0, 10.5, 11.0]) \n",
    "for i in range(len(masses)):\n",
    "    mask=np.log10(stellar_mass)<masses[i]\n",
    "    masks.append(mask)\n",
    "    mass_bin.append(stellar_mass[mask])\n",
    "integral=np.zeros(len(masses))\n",
    "for i in range(len(masses)):\n",
    "    if i==0:\n",
    "        integral[i]=np.trapz(dndm[:len(mass_bin[i])],mass_bin[i])\n",
    "    else:\n",
    "        integral[i]=np.trapz(dndm[:len(mass_bin[i])],mass_bin[i])-sum(integral)"
   ]
  },
  {
   "cell_type": "code",
   "execution_count": 138,
   "metadata": {
    "ExecuteTime": {
     "end_time": "2020-08-06T15:50:30.561237Z",
     "start_time": "2020-08-06T15:50:29.976436Z"
    }
   },
   "outputs": [
    {
     "data": {
      "text/plain": [
       "Text(0, 0.5, 'n, $[{\\\\rm Mpc}^{-3}]$')"
      ]
     },
     "execution_count": 138,
     "metadata": {},
     "output_type": "execute_result"
    },
    {
     "data": {
      "image/png": "[encoded data removed]",
      "text/plain": [
       "<Figure size 432x288 with 1 Axes>"
      ]
     },
     "metadata": {
      "needs_background": "light"
     },
     "output_type": "display_data"
    }
   ],
   "source": [
    "plt.plot(stellar_mass,n)\n",
    "# plt.plot(stellar_mass,mass_func)\n",
    "plt.xscale('log')\n",
    "plt.yscale('log')\n",
    "\n",
    "plt.xlabel(r\"Stellar Mass, $[M_\\odot]$\")\n",
    "plt.ylabel(r\"n, $[{\\rm Mpc}^{-3}]$\")\n",
    "# plt.ylabel(r\"$dn/dm$, $[h^{4}{\\rm Mpc}^{-3}M_\\odot^{-1}]$\")"
   ]
  },
  {
   "cell_type": "code",
   "execution_count": 125,
   "metadata": {
    "ExecuteTime": {
     "end_time": "2020-08-06T14:59:25.152276Z",
     "start_time": "2020-08-06T14:59:25.142301Z"
    }
   },
   "outputs": [],
   "source": [
    "M_vals=-2.*(1.56 + np.log10(stellar_mass))\n",
    "m = M_vals + cosmo.distmod(z).value+shift[0]\n",
    "u_lim = max(m)\n",
    "l_lim = min(m)\n",
    "u_lim = min(u_lim, ABmax) # Compare dimmest object to telescope limit \n",
    "index= m<=u_lim\n",
    "stellar_mass=stellar_mass[index]\n",
    "mass_bin=[]\n",
    "masks=[]\n",
    "masses = np.array([7.0, 7.5, 8.0, 8.5, 9.0, 9.5, 10.0, 10.5, 11.0]) \n",
    "for i in range(len(masses)):\n",
    "    mask=np.log10(stellar_mass)<masses[i]\n",
    "    masks.append(mask)\n",
    "    mass_bin.append(stellar_mass[mask])\n",
    "integral=np.zeros(len(masses))\n",
    "for i in range(len(masses)):\n",
    "    if i==0:\n",
    "        integral[i]=np.trapz(dndm[:len(mass_bin[i])],mass_bin[i])\n",
    "    else:\n",
    "        integral[i]=np.trapz(dndm[:len(mass_bin[i])],mass_bin[i])-sum(integral)"
   ]
  },
  {
   "cell_type": "code",
   "execution_count": 126,
   "metadata": {
    "ExecuteTime": {
     "end_time": "2020-08-06T14:59:25.162249Z",
     "start_time": "2020-08-06T14:59:25.154269Z"
    }
   },
   "outputs": [],
   "source": [
    "inte=np.trapz(dndm[:len(stellar_mass)],stellar_mass)"
   ]
  },
  {
   "cell_type": "code",
   "execution_count": 127,
   "metadata": {
    "ExecuteTime": {
     "end_time": "2020-08-06T14:59:25.535475Z",
     "start_time": "2020-08-06T14:59:25.528458Z"
    }
   },
   "outputs": [
    {
     "data": {
      "text/plain": [
       "(0.0005765612758498375, 0.0005765612758498376)"
      ]
     },
     "execution_count": 127,
     "metadata": {},
     "output_type": "execute_result"
    }
   ],
   "source": [
    "sum(integral), inte"
   ]
  },
  {
   "cell_type": "code",
   "execution_count": 129,
   "metadata": {
    "ExecuteTime": {
     "end_time": "2020-08-06T14:59:26.133325Z",
     "start_time": "2020-08-06T14:59:26.127370Z"
    }
   },
   "outputs": [],
   "source": [
    "means=[]\n",
    "for i in range(len(masses)):\n",
    "    means.append(integral[i] * vol * survey_area / tot_sky)"
   ]
  },
  {
   "cell_type": "code",
   "execution_count": 130,
   "metadata": {
    "ExecuteTime": {
     "end_time": "2020-08-06T14:59:26.543397Z",
     "start_time": "2020-08-06T14:59:26.535450Z"
    }
   },
   "outputs": [
    {
     "data": {
      "text/plain": [
       "[6.635682713763919,\n",
       " 12.350440829250074,\n",
       " 0.45256157020821436,\n",
       " 0.007707448261856404,\n",
       " 4.576525033522542e-05,\n",
       " 6.180808456227905e-08,\n",
       " 9.814934068222152e-12,\n",
       " 3.65683087489648e-15,\n",
       " 0.0]"
      ]
     },
     "execution_count": 130,
     "metadata": {},
     "output_type": "execute_result"
    }
   ],
   "source": [
    "means"
   ]
  },
  {
   "cell_type": "code",
   "execution_count": 153,
   "metadata": {
    "ExecuteTime": {
     "end_time": "2020-08-06T16:42:21.456634Z",
     "start_time": "2020-08-06T16:42:21.443680Z"
    }
   },
   "outputs": [
    {
     "data": {
      "text/plain": [
       "array([1.11419223e-01, 1.09037118e-01, 1.06705981e-01, 1.04424738e-01,\n",
       "       1.02192263e-01, 1.00007391e-01, 9.78688733e-02, 9.57755493e-02,\n",
       "       9.37265567e-02, 9.17211780e-02, 8.97586735e-02, 8.78382647e-02,\n",
       "       8.59589863e-02, 8.41198386e-02, 8.23199728e-02, 8.05586318e-02,\n",
       "       7.88350065e-02, 7.71482450e-02, 7.54974699e-02, 7.38817392e-02,\n",
       "       7.23001704e-02, 7.07521063e-02, 6.92370037e-02, 6.77543041e-02,\n",
       "       6.63034221e-02, 6.48836318e-02, 6.34941762e-02, 6.21344098e-02,\n",
       "       6.08037612e-02, 5.95016208e-02, 5.82273446e-02, 5.69802709e-02,\n",
       "       5.57596892e-02, 5.45649292e-02, 5.33954898e-02, 5.22509596e-02,\n",
       "       5.11309170e-02, 5.00349215e-02, 4.89624277e-02, 4.79128621e-02,\n",
       "       4.68857341e-02, 4.58806122e-02, 4.48970375e-02, 4.39345227e-02,\n",
       "       4.29925690e-02, 4.20706405e-02, 4.11682283e-02, 4.02849503e-02,\n",
       "       3.94204947e-02, 3.85745434e-02, 3.77467651e-02, 3.69367495e-02,\n",
       "       3.61440628e-02, 3.53683317e-02, 3.46092308e-02, 3.38664141e-02,\n",
       "       3.31395132e-02, 3.24281522e-02, 3.17319266e-02, 3.10504506e-02,\n",
       "       3.03834324e-02, 2.97306357e-02, 2.90918209e-02, 2.84667382e-02,\n",
       "       2.78550796e-02, 2.72565165e-02, 2.66707653e-02, 2.60975802e-02,\n",
       "       2.55367007e-02, 2.49878481e-02, 2.44507391e-02, 2.39250686e-02,\n",
       "       2.34105439e-02, 2.29069424e-02, 2.24140851e-02, 2.19317912e-02,\n",
       "       2.14598726e-02, 2.09980978e-02, 2.05462184e-02, 2.01040187e-02,\n",
       "       1.96713131e-02, 1.92479053e-02, 1.88335848e-02, 1.84281377e-02,\n",
       "       1.80313341e-02, 1.76429522e-02, 1.72628219e-02, 1.68908077e-02,\n",
       "       1.65267731e-02, 1.61705765e-02, 1.58220442e-02, 1.54809879e-02,\n",
       "       1.51472439e-02, 1.48206721e-02, 1.45011245e-02, 1.41884419e-02,\n",
       "       1.38824632e-02, 1.35830150e-02, 1.32899293e-02, 1.30030761e-02,\n",
       "       1.27223528e-02, 1.24476565e-02, 1.21788805e-02, 1.19158942e-02,\n",
       "       1.16585554e-02, 1.14067396e-02, 1.11603411e-02, 1.09192482e-02,\n",
       "       1.06833407e-02, 1.04524972e-02, 1.02265870e-02, 1.00054826e-02,\n",
       "       9.78908506e-03, 9.57731643e-03, 9.37009919e-03, 9.16735288e-03,\n",
       "       8.96897954e-03, 8.77487160e-03, 8.58493451e-03, 8.39908832e-03,\n",
       "       8.21724897e-03, 8.03932565e-03, 7.86522679e-03, 7.69485388e-03,\n",
       "       7.52811040e-03, 7.36492089e-03, 7.20522615e-03, 7.04896777e-03,\n",
       "       6.89608511e-03, 6.74650466e-03, 6.60014510e-03, 6.45693461e-03,\n",
       "       6.31681280e-03, 6.17971631e-03, 6.04557656e-03, 5.91432453e-03,\n",
       "       5.78588600e-03, 5.66018788e-03, 5.53717259e-03, 5.41679527e-03,\n",
       "       5.29901186e-03, 5.18377664e-03, 5.07103447e-03, 4.96072389e-03,\n",
       "       4.85279039e-03, 4.74718831e-03, 4.64386990e-03, 4.54278340e-03,\n",
       "       4.44387679e-03, 4.34709414e-03, 4.25238014e-03, 4.15969088e-03,\n",
       "       4.06899231e-03, 3.98025124e-03, 3.89343319e-03, 3.80849680e-03,\n",
       "       3.72539566e-03, 3.64408837e-03, 3.56454042e-03, 3.48671583e-03,\n",
       "       3.41057555e-03, 3.33608036e-03, 3.26318814e-03, 3.19185704e-03,\n",
       "       3.12205359e-03, 3.05375195e-03, 2.98692710e-03, 2.92155304e-03,\n",
       "       2.85759876e-03, 2.79502923e-03, 2.73381302e-03, 2.67392403e-03,\n",
       "       2.61533516e-03, 2.55801695e-03, 2.50193985e-03, 2.44707213e-03,\n",
       "       2.39338216e-03, 2.34084441e-03, 2.28943929e-03, 2.23914792e-03,\n",
       "       2.18995071e-03, 2.14182442e-03, 2.09474260e-03, 2.04868140e-03,\n",
       "       2.00362110e-03, 1.95954127e-03, 1.91641969e-03, 1.87423412e-03,\n",
       "       1.83296066e-03, 1.79257538e-03, 1.75305886e-03, 1.71439622e-03,\n",
       "       1.67657324e-03, 1.63957512e-03, 1.60338447e-03, 1.56798134e-03,\n",
       "       1.53334762e-03, 1.49946840e-03, 1.46632830e-03, 1.43391058e-03,\n",
       "       1.40219845e-03, 1.37117397e-03, 1.34081903e-03, 1.31111885e-03,\n",
       "       1.28206213e-03, 1.25363817e-03, 1.22583579e-03, 1.19864197e-03,\n",
       "       1.17204166e-03, 1.14602114e-03, 1.12056912e-03, 1.09567404e-03,\n",
       "       1.07132325e-03, 1.04750415e-03, 1.02420321e-03, 1.00140676e-03,\n",
       "       9.79103561e-04, 9.57285044e-04, 9.35943118e-04, 9.15069371e-04,\n",
       "       8.94654037e-04, 8.74685786e-04, 8.55154222e-04, 8.36050799e-04,\n",
       "       8.17366806e-04, 7.99092731e-04, 7.81219076e-04, 7.63735674e-04,\n",
       "       7.46632208e-04, 7.29900117e-04, 7.13532912e-04, 6.97524488e-04,\n",
       "       6.81868498e-04, 6.66557631e-04, 6.51583357e-04, 6.36937798e-04,\n",
       "       6.22614493e-04, 6.08606880e-04, 5.94907802e-04, 5.81510109e-04,\n",
       "       5.68406161e-04, 5.55588172e-04, 5.43049636e-04, 5.30785633e-04,\n",
       "       5.18791556e-04, 5.07062618e-04, 4.95593344e-04, 4.84377318e-04,\n",
       "       4.73408577e-04, 4.62682231e-04, 4.52193343e-04, 4.41936525e-04,\n",
       "       4.31906402e-04, 4.22097233e-04, 4.12503146e-04, 4.03119202e-04,\n",
       "       3.93941668e-04, 3.84967070e-04, 3.76191797e-04, 3.67611750e-04,\n",
       "       3.59222105e-04, 3.51018353e-04, 3.42996792e-04, 3.35153709e-04,\n",
       "       3.27485053e-04, 3.19986782e-04, 3.12654582e-04, 3.05484034e-04,\n",
       "       2.98471386e-04, 2.91613810e-04, 2.84908683e-04, 2.78353284e-04,\n",
       "       2.71944542e-04, 2.65678835e-04, 2.59552755e-04, 2.53563502e-04,\n",
       "       2.47708282e-04, 2.41984051e-04, 2.36387770e-04, 2.30916203e-04,\n",
       "       2.25566023e-04, 2.20334385e-04, 2.15219145e-04, 2.10218325e-04,\n",
       "       2.05329873e-04, 2.00551489e-04, 1.95880457e-04, 1.91314202e-04,\n",
       "       1.86850606e-04, 1.82487567e-04, 1.78222801e-04, 1.74054024e-04,\n",
       "       1.69978810e-04, 1.65994656e-04, 1.62099408e-04, 1.58291439e-04,\n",
       "       1.54569258e-04, 1.50931318e-04, 1.47375899e-04, 1.43900962e-04,\n",
       "       1.40504566e-04, 1.37185108e-04, 1.33941009e-04, 1.30770556e-04,\n",
       "       1.27672032e-04, 1.24643621e-04, 1.21683440e-04, 1.18789861e-04,\n",
       "       1.15961651e-04, 1.13197685e-04, 1.10496796e-04, 1.07857698e-04,\n",
       "       1.05278865e-04, 1.02758832e-04, 1.00296388e-04, 9.78903466e-05,\n",
       "       9.55394235e-05, 9.32423304e-05, 9.09977062e-05, 8.88041401e-05,\n",
       "       8.66603998e-05, 8.45655516e-05, 8.25187472e-05, 8.05191076e-05,\n",
       "       7.85656710e-05, 7.66572942e-05, 7.47928758e-05, 7.29714999e-05,\n",
       "       7.11922753e-05, 6.94542407e-05, 6.77564296e-05, 6.60978238e-05,\n",
       "       6.44773660e-05, 6.28941259e-05, 6.13473965e-05, 5.98365378e-05,\n",
       "       5.83608880e-05, 5.69197279e-05, 5.55122029e-05, 5.41374851e-05,\n",
       "       5.27948823e-05, 5.14837257e-05, 5.02032964e-05, 4.89528696e-05,\n",
       "       4.77316847e-05, 4.65389503e-05, 4.53739651e-05, 4.42361940e-05,\n",
       "       4.31251543e-05, 4.20403479e-05, 4.09812371e-05, 3.99471840e-05,\n",
       "       3.89375668e-05, 3.79518631e-05, 3.69895712e-05, 3.60501539e-05,\n",
       "       3.51330683e-05, 3.42377467e-05, 3.33635978e-05, 3.25100938e-05,\n",
       "       3.16768298e-05, 3.08634420e-05, 3.00695555e-05, 2.92947686e-05,\n",
       "       2.85386055e-05, 2.78006003e-05, 2.70803588e-05, 2.63775050e-05,\n",
       "       2.56916378e-05, 2.50223511e-05, 2.43692217e-05, 2.37318088e-05,\n",
       "       2.31097155e-05, 2.25026358e-05, 2.19102956e-05, 2.13324128e-05,\n",
       "       2.07686876e-05, 2.02187655e-05, 1.96822979e-05, 1.91589878e-05,\n",
       "       1.86485536e-05, 1.81506963e-05, 1.76651123e-05, 1.71914867e-05,\n",
       "       1.67294913e-05, 1.62788285e-05, 1.58392672e-05, 1.54106010e-05,\n",
       "       1.49926177e-05, 1.45850935e-05, 1.41877649e-05, 1.38003715e-05,\n",
       "       1.34226898e-05, 1.30545092e-05, 1.26956069e-05, 1.23457564e-05,\n",
       "       1.20047238e-05, 1.16722652e-05, 1.13481580e-05, 1.10322279e-05,\n",
       "       1.07243194e-05, 1.04242733e-05, 1.01319223e-05, 9.84707107e-06,\n",
       "       9.56952540e-06, 9.29911754e-06, 9.03568998e-06, 8.77907706e-06,\n",
       "       8.52911009e-06, 8.28561563e-06, 8.04841302e-06, 7.81733603e-06,\n",
       "       7.59225338e-06, 7.37304809e-06, 7.15960063e-06, 6.95178640e-06,\n",
       "       6.74946070e-06, 6.55247903e-06, 6.36071573e-06, 6.17405327e-06,\n",
       "       5.99236862e-06, 5.81553641e-06, 5.64342832e-06, 5.47591087e-06,\n",
       "       5.31286040e-06, 5.15417823e-06, 4.99977640e-06, 4.84956535e-06,\n",
       "       4.70345227e-06, 4.56133026e-06, 4.42309220e-06, 4.28864418e-06,\n",
       "       4.15789865e-06, 4.03076445e-06, 3.90714862e-06, 3.78695651e-06,\n",
       "       3.67008986e-06, 3.55645700e-06, 3.44598395e-06, 3.33860469e-06,\n",
       "       3.23425223e-06, 3.13285756e-06, 3.03434197e-06, 2.93862632e-06,\n",
       "       2.84564067e-06, 2.75531999e-06, 2.66759691e-06, 2.58240276e-06,\n",
       "       2.49966795e-06, 2.41932046e-06, 2.34129266e-06, 2.26552930e-06,\n",
       "       2.19198095e-06, 2.12059763e-06, 2.05132819e-06, 1.98411489e-06,\n",
       "       1.91889954e-06, 1.85563031e-06, 1.79425906e-06, 1.73473620e-06,\n",
       "       1.67701123e-06, 1.62103325e-06, 1.56674976e-06, 1.51411116e-06,\n",
       "       1.46307638e-06, 1.41360859e-06, 1.36567065e-06, 1.31922481e-06,\n",
       "       1.27422895e-06, 1.23064056e-06, 1.18842145e-06, 1.14753619e-06,\n",
       "       1.10794850e-06, 1.06962146e-06, 1.03251807e-06, 9.96600345e-07,\n",
       "       9.61832208e-07, 9.28183356e-07, 8.95626496e-07, 8.64134244e-07,\n",
       "       8.33678900e-07, 8.04229967e-07, 7.75756663e-07, 7.48231096e-07,\n",
       "       7.21627394e-07, 6.95919211e-07, 6.71079826e-07, 6.47082578e-07,\n",
       "       6.23900239e-07, 6.01506850e-07, 5.79880277e-07, 5.59000495e-07,\n",
       "       5.38847505e-07, 5.19401185e-07, 5.00639686e-07, 4.82540969e-07,\n",
       "       4.65084914e-07, 4.48252838e-07, 4.32025837e-07, 4.16384801e-07])"
      ]
     },
     "execution_count": 153,
     "metadata": {},
     "output_type": "execute_result"
    }
   ],
   "source": []
  }
 ],
 "metadata": {
  "hide_input": false,
  "kernelspec": {
   "display_name": "Python 3",
   "language": "python",
   "name": "python3"
  },
  "language_info": {
   "codemirror_mode": {
    "name": "ipython",
    "version": 3
   },
   "file_extension": ".py",
   "mimetype": "text/x-python",
   "name": "python",
   "nbconvert_exporter": "python",
   "pygments_lexer": "ipython3",
   "version": "3.7.4"
  }
 },
 "nbformat": 4,
 "nbformat_minor": 4
}
