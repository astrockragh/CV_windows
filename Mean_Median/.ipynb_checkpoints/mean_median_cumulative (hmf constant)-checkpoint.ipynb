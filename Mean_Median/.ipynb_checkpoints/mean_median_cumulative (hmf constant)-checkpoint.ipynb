{
 "cells": [
  {
   "cell_type": "code",
   "execution_count": 1,
   "metadata": {
    "ExecuteTime": {
     "end_time": "2020-10-06T13:18:55.339139Z",
     "start_time": "2020-10-06T13:18:52.723646Z"
    }
   },
   "outputs": [],
   "source": [
    "import matplotlib.pyplot as plt\n",
    "%matplotlib inline\n",
    "import numpy as np\n",
    "from scipy.stats import gamma\n",
    "import scipy.integrate\n",
    "import pandas\n",
    "from hmf import MassFunction     # The main hmf class\n",
    "# TO DO: Update to most recent Planck results\n",
    "from astropy.cosmology import Planck18_arXiv_v2 as cosmo\n",
    "import hmf\n",
    "from hmf import functional\n",
    "import winsound"
   ]
  },
  {
   "cell_type": "code",
   "execution_count": 2,
   "metadata": {
    "ExecuteTime": {
     "end_time": "2020-10-06T13:18:55.358085Z",
     "start_time": "2020-10-06T13:18:55.340860Z"
    }
   },
   "outputs": [],
   "source": [
    "# Path to tables of cosmic variance values\n",
    "path = \"../../CV_Vals/\"\n",
    "file='hmf'\n",
    "save=1\n",
    "# Get young, blue galaxy spectrum\n",
    "data = np.loadtxt(\"erb2010_continuum.dat\")\n",
    "x = data[:,0]\n",
    "y = data[:,1] * x**2 / 3.e18 # Convert to correct flux values\n",
    "\n",
    "# Constants\n",
    "tot_sky = 41253. # Total degrees on the sky\n",
    "masses = np.array([7.0, 7.5, 8.0, 8.5, 9.0, 9.5, 10.0, 10.5, 11.0]) # Mass bins in log(M/Msun)\n",
    "\n",
    "# TO DO: Modify cosmic variance values from the tables such that masses <= 8 use the same cosmic variance values as 8.5\n",
    "# Currently the CV values are incorrectly extrapolated to lower masses from a mass of 8.5\n",
    "# The code used to calculated the CV values is called \"getcv\" and is included with the CV value files\n",
    "#Done\n",
    "\n",
    "trials = 10000 # Number of trials for calculating median from gamma function\n",
    "mmin = 9 # Minimum halo mass for HMF\n",
    "mmax = 13.5 # Maximum halo mass for HMF"
   ]
  },
  {
   "cell_type": "code",
   "execution_count": 3,
   "metadata": {
    "ExecuteTime": {
     "end_time": "2020-10-06T13:18:55.363802Z",
     "start_time": "2020-10-06T13:18:55.360808Z"
    }
   },
   "outputs": [],
   "source": [
    "# Function to find closest wavelength in measured galaxy spectrum compared to given value\n",
    "def nearest_wavelength(x, val):\n",
    "    i = (np.abs(x - val)).argmin()\n",
    "    return x[i]"
   ]
  },
  {
   "cell_type": "code",
   "execution_count": 4,
   "metadata": {
    "ExecuteTime": {
     "end_time": "2020-10-06T13:18:55.370812Z",
     "start_time": "2020-10-06T13:18:55.365794Z"
    }
   },
   "outputs": [],
   "source": [
    "# Define a class for different survey designs\n",
    "class survey:\n",
    "    def __init__(self, ABmax, area, cv_file, wavelength = 0, num_pointings = 1):\n",
    "        self.ABmax = ABmax # Limiting AB magnitude of the survey\n",
    "        self.area = area # Survey area\n",
    "        self.file = cv_file # Name of cosmic variance table file\n",
    "        self.point = num_pointings # Number of independent pointings\n",
    "        self.wavelength = wavelength # Center wavelength for the chosen filter"
   ]
  },
  {
   "cell_type": "code",
   "execution_count": 5,
   "metadata": {
    "ExecuteTime": {
     "end_time": "2020-10-06T13:18:55.377768Z",
     "start_time": "2020-10-06T13:18:55.371777Z"
    }
   },
   "outputs": [],
   "source": [
    "# Method to take one trial of a gamma distribution with a given variance and mean\n",
    "def trial(sig_v, mean, trials=10000):\n",
    "    var = sig_v**2*mean**2\n",
    "    k = mean**2/var\n",
    "    t = var/mean\n",
    "    rand = np.rint(np.random.gamma(k, scale=t, size=trials))\n",
    "    return rand"
   ]
  },
  {
   "cell_type": "code",
   "execution_count": 6,
   "metadata": {
    "ExecuteTime": {
     "end_time": "2020-10-06T13:18:55.393765Z",
     "start_time": "2020-10-06T13:18:55.379756Z"
    }
   },
   "outputs": [],
   "source": [
    "dfz = pandas.read_csv(path+\"cv_mashian.csv\")\n",
    "z_vals=dfz[\"z\"]\n",
    "z_vals = z_vals[::-1]"
   ]
  },
  {
   "cell_type": "code",
   "execution_count": 7,
   "metadata": {
    "ExecuteTime": {
     "end_time": "2020-10-06T13:18:55.412669Z",
     "start_time": "2020-10-06T13:18:55.395715Z"
    }
   },
   "outputs": [],
   "source": [
    "# Find mean, median number of galaxies found for a given survey design\n",
    "def mean_median(survey, correction = True, random=True):\n",
    "    # Get survey information\n",
    "    point = survey.point\n",
    "    survey_area = survey.area * point\n",
    "    ABmax = survey.ABmax \n",
    "    \n",
    "    # Absolute magnitude range over which to integrate\n",
    "    # Range is larger than necessary to include all galaxies\n",
    "    \n",
    "    # Redshift values from CV calculations \n",
    "    df = pandas.read_csv(path+survey.file)\n",
    "    if random:\n",
    "        z_vals = df[\"z\"].values*np.random.uniform(0.98,1.02,size=1)\n",
    "    else:\n",
    "        z_vals = df[\"z\"].values\n",
    "    df.drop(columns=[\"z\"])\n",
    "    df[\"z\"]=z_vals\n",
    "    z_vals = z_vals[::-1]\n",
    "\n",
    "    all_mean = []\n",
    "    all_sig_v = []\n",
    "    \n",
    "    # Loop over z values\n",
    "    for z in z_vals:\n",
    "        # Get observed wavelength for a rest frame of 1600 Angstroms\n",
    "        # Find closest wavelength to this value in the observed galaxy spectrum\n",
    "        wl_obs = nearest_wavelength(x, 1600 * (1 + z))\n",
    "        # Account for difference in observed magnitude due to difference in wavelength \n",
    "        # of the survey and the wavelength of the \n",
    "        shift=2.5 * np.log10(y[x==survey.wavelength]/y[x==wl_obs])\n",
    "        ABmax_new = ABmax + shift\n",
    "        masses = np.array([7.0, 7.5, 8.0, 8.5, 9.0, 9.5, 10.0, 10.5, 11.0])    \n",
    "        mf = MassFunction(cosmo_model=cosmo,z=z,Mmin=mmin,Mmax=mmax, hmf_model=\"SMT\")\n",
    "        # Find volume of space within redshift bin\n",
    "        dz = df.loc[df['z'] == z][[\"dz\"]].values[0][0]\n",
    "        vol = cosmo.comoving_volume(z + dz/2).value - cosmo.comoving_volume(z - dz/2).value\n",
    "        little_h=mf.cosmo_model.h\n",
    "        mass=mf.m*little_h\n",
    "        dndm=mf.dndm/little_h**3 #check when to multiply\n",
    "        sbf=0.018\n",
    "        stellar_mass=mass*sbf\n",
    "        # Extrapolation of M*-MUV relation from Song 2016 to z = z\n",
    "        M_vals=-2.*(1.78 + np.log10(stellar_mass))\n",
    "        m = np.array(M_vals + cosmo.distmod(z).value)+shift\n",
    "        u_lim = max(m)\n",
    "        l_lim = min(m)\n",
    "        u_lim = min(u_lim, ABmax_new) # Compare dimmest object to telescope limit\n",
    "\n",
    "        index= m<=u_lim\n",
    "        stellar_mass=stellar_mass[index]\n",
    "        cum_n=hmf.integrate_hmf.hmf_integral_gtm(stellar_mass, dndm[index])\n",
    "        means=[]\n",
    "        sigs=[]\n",
    "        for i in range(len(masses)):\n",
    "            index=np.abs(stellar_mass - 10**masses[i]).argmin()\n",
    "            integral=cum_n[index]\n",
    "            means.append(integral * vol * survey_area / tot_sky)\n",
    "            \n",
    "            # Get cosmic variance value for this z value and mass bin\n",
    "            # CV values calculated as in Moster et al. 2010\n",
    "            sig_v = float(df.loc[df['z'] == z][[str(masses[i])]].values[0][0]) / np.sqrt(int(point))\n",
    "            sigs.append(sig_v)\n",
    "\n",
    "        # Append mean and variance values of all masses for this redshift \n",
    "        all_mean.append(means)\n",
    "        all_sig_v.append(sigs)\n",
    "        \n",
    "    all_tot_mean = []\n",
    "    all_med = []\n",
    "    \n",
    "    # Loop over all z values (high to low)\n",
    "    for i in range(len(z_vals)):\n",
    "        tot_mean = 0\n",
    "        tot_trials = np.zeros(trials)\n",
    "        # Find cumulative mean and median number of observed galaxies up to z\n",
    "        for j in range(i+1):\n",
    "            means = all_mean[j]\n",
    "            sigs = all_sig_v[j]\n",
    "            # Run trials of gamma distribution to find median\n",
    "            for k in range(len(masses)):\n",
    "                if means[k] != 0:\n",
    "                    one_trial = trial(sigs[k], means[k])\n",
    "                    tot_trials = tot_trials + one_trial\n",
    "                    tot_mean += means[k]\n",
    "        all_tot_mean.append(tot_mean)\n",
    "        med = np.median(tot_trials)\n",
    "        all_med.append(med)\n",
    "    return np.array(all_tot_mean), np.array(all_med), z_vals"
   ]
  },
  {
   "cell_type": "markdown",
   "metadata": {},
   "source": [
    "# Plots"
   ]
  },
  {
   "cell_type": "code",
   "execution_count": 8,
   "metadata": {
    "ExecuteTime": {
     "end_time": "2020-10-06T13:19:50.445306Z",
     "start_time": "2020-10-06T13:18:55.415662Z"
    }
   },
   "outputs": [
    {
     "name": "stderr",
     "output_type": "stream",
     "text": [
      "  0%|                                                                                           | 0/20 [00:54<?, ?it/s]\n"
     ]
    },
    {
     "ename": "KeyboardInterrupt",
     "evalue": "",
     "output_type": "error",
     "traceback": [
      "\u001b[1;31m---------------------------------------------------------------------------\u001b[0m",
      "\u001b[1;31mKeyboardInterrupt\u001b[0m                         Traceback (most recent call last)",
      "\u001b[1;32m<ipython-input-8-e9f611cf9dca>\u001b[0m in \u001b[0;36m<module>\u001b[1;34m\u001b[0m\n\u001b[0;32m      7\u001b[0m     \u001b[1;31m# Survey design matching the idealized survey from Mashian et al. 2015\u001b[0m\u001b[1;33m\u001b[0m\u001b[1;33m\u001b[0m\u001b[1;33m\u001b[0m\u001b[0m\n\u001b[0;32m      8\u001b[0m     \u001b[0mmashian\u001b[0m \u001b[1;33m=\u001b[0m \u001b[0msurvey\u001b[0m\u001b[1;33m(\u001b[0m\u001b[1;36m31.5\u001b[0m\u001b[1;33m,\u001b[0m \u001b[1;36m200.\u001b[0m\u001b[1;33m/\u001b[0m\u001b[1;36m3600\u001b[0m\u001b[1;33m,\u001b[0m \u001b[1;34m\"cv_mashian.csv\"\u001b[0m\u001b[1;33m,\u001b[0m \u001b[0mnearest_wavelength\u001b[0m\u001b[1;33m(\u001b[0m\u001b[0mx\u001b[0m\u001b[1;33m,\u001b[0m\u001b[1;36m14873.4\u001b[0m\u001b[1;33m)\u001b[0m\u001b[1;33m)\u001b[0m\u001b[1;33m\u001b[0m\u001b[1;33m\u001b[0m\u001b[0m\n\u001b[1;32m----> 9\u001b[1;33m     \u001b[0mmean_mashian\u001b[0m\u001b[1;33m,\u001b[0m \u001b[0mmed_mashian\u001b[0m\u001b[1;33m,\u001b[0m \u001b[0mz_vals_mashian\u001b[0m \u001b[1;33m=\u001b[0m \u001b[0mmean_median\u001b[0m\u001b[1;33m(\u001b[0m\u001b[0mmashian\u001b[0m\u001b[1;33m)\u001b[0m\u001b[1;33m\u001b[0m\u001b[1;33m\u001b[0m\u001b[0m\n\u001b[0m\u001b[0;32m     10\u001b[0m     \u001b[0msummed\u001b[0m\u001b[1;33m+=\u001b[0m\u001b[0mmed_mashian\u001b[0m\u001b[1;33m\u001b[0m\u001b[1;33m\u001b[0m\u001b[0m\n\u001b[0;32m     11\u001b[0m     \u001b[0msummean\u001b[0m\u001b[1;33m+=\u001b[0m\u001b[0mmean_mashian\u001b[0m\u001b[1;33m\u001b[0m\u001b[1;33m\u001b[0m\u001b[0m\n",
      "\u001b[1;32m<ipython-input-7-8790f846c3b9>\u001b[0m in \u001b[0;36mmean_median\u001b[1;34m(survey, correction, random)\u001b[0m\n\u001b[0;32m     81\u001b[0m             \u001b[1;32mfor\u001b[0m \u001b[0mk\u001b[0m \u001b[1;32min\u001b[0m \u001b[0mrange\u001b[0m\u001b[1;33m(\u001b[0m\u001b[0mlen\u001b[0m\u001b[1;33m(\u001b[0m\u001b[0mmasses\u001b[0m\u001b[1;33m)\u001b[0m\u001b[1;33m)\u001b[0m\u001b[1;33m:\u001b[0m\u001b[1;33m\u001b[0m\u001b[1;33m\u001b[0m\u001b[0m\n\u001b[0;32m     82\u001b[0m                 \u001b[1;32mif\u001b[0m \u001b[0mmeans\u001b[0m\u001b[1;33m[\u001b[0m\u001b[0mk\u001b[0m\u001b[1;33m]\u001b[0m \u001b[1;33m!=\u001b[0m \u001b[1;36m0\u001b[0m\u001b[1;33m:\u001b[0m\u001b[1;33m\u001b[0m\u001b[1;33m\u001b[0m\u001b[0m\n\u001b[1;32m---> 83\u001b[1;33m                     \u001b[0mone_trial\u001b[0m \u001b[1;33m=\u001b[0m \u001b[0mtrial\u001b[0m\u001b[1;33m(\u001b[0m\u001b[0msigs\u001b[0m\u001b[1;33m[\u001b[0m\u001b[0mk\u001b[0m\u001b[1;33m]\u001b[0m\u001b[1;33m,\u001b[0m \u001b[0mmeans\u001b[0m\u001b[1;33m[\u001b[0m\u001b[0mk\u001b[0m\u001b[1;33m]\u001b[0m\u001b[1;33m)\u001b[0m\u001b[1;33m\u001b[0m\u001b[1;33m\u001b[0m\u001b[0m\n\u001b[0m\u001b[0;32m     84\u001b[0m                     \u001b[0mtot_trials\u001b[0m \u001b[1;33m=\u001b[0m \u001b[0mtot_trials\u001b[0m \u001b[1;33m+\u001b[0m \u001b[0mone_trial\u001b[0m\u001b[1;33m\u001b[0m\u001b[1;33m\u001b[0m\u001b[0m\n\u001b[0;32m     85\u001b[0m                     \u001b[0mtot_mean\u001b[0m \u001b[1;33m+=\u001b[0m \u001b[0mmeans\u001b[0m\u001b[1;33m[\u001b[0m\u001b[0mk\u001b[0m\u001b[1;33m]\u001b[0m\u001b[1;33m\u001b[0m\u001b[1;33m\u001b[0m\u001b[0m\n",
      "\u001b[1;32m<ipython-input-5-683e530bbf22>\u001b[0m in \u001b[0;36mtrial\u001b[1;34m(sig_v, mean, trials)\u001b[0m\n\u001b[0;32m      4\u001b[0m     \u001b[0mk\u001b[0m \u001b[1;33m=\u001b[0m \u001b[0mmean\u001b[0m\u001b[1;33m**\u001b[0m\u001b[1;36m2\u001b[0m\u001b[1;33m/\u001b[0m\u001b[0mvar\u001b[0m\u001b[1;33m\u001b[0m\u001b[1;33m\u001b[0m\u001b[0m\n\u001b[0;32m      5\u001b[0m     \u001b[0mt\u001b[0m \u001b[1;33m=\u001b[0m \u001b[0mvar\u001b[0m\u001b[1;33m/\u001b[0m\u001b[0mmean\u001b[0m\u001b[1;33m\u001b[0m\u001b[1;33m\u001b[0m\u001b[0m\n\u001b[1;32m----> 6\u001b[1;33m     \u001b[0mrand\u001b[0m \u001b[1;33m=\u001b[0m \u001b[0mnp\u001b[0m\u001b[1;33m.\u001b[0m\u001b[0mrint\u001b[0m\u001b[1;33m(\u001b[0m\u001b[0mnp\u001b[0m\u001b[1;33m.\u001b[0m\u001b[0mrandom\u001b[0m\u001b[1;33m.\u001b[0m\u001b[0mgamma\u001b[0m\u001b[1;33m(\u001b[0m\u001b[0mk\u001b[0m\u001b[1;33m,\u001b[0m \u001b[0mscale\u001b[0m\u001b[1;33m=\u001b[0m\u001b[0mt\u001b[0m\u001b[1;33m,\u001b[0m \u001b[0msize\u001b[0m\u001b[1;33m=\u001b[0m\u001b[0mtrials\u001b[0m\u001b[1;33m)\u001b[0m\u001b[1;33m)\u001b[0m\u001b[1;33m\u001b[0m\u001b[1;33m\u001b[0m\u001b[0m\n\u001b[0m\u001b[0;32m      7\u001b[0m     \u001b[1;32mreturn\u001b[0m \u001b[0mrand\u001b[0m\u001b[1;33m\u001b[0m\u001b[1;33m\u001b[0m\u001b[0m\n",
      "\u001b[1;31mKeyboardInterrupt\u001b[0m: "
     ]
    },
    {
     "data": {
      "image/png": "[encoded data removed]",
      "text/plain": [
       "<Figure size 864x648 with 1 Axes>"
      ]
     },
     "metadata": {
      "needs_background": "light"
     },
     "output_type": "display_data"
    }
   ],
   "source": [
    "from tqdm import tqdm\n",
    "N=20\n",
    "fig, ax = plt.subplots(figsize=(12,9))\n",
    "summed=np.zeros(len(z_vals))\n",
    "summean=np.zeros(len(z_vals))\n",
    "for _ in tqdm(range(N)):   \n",
    "    # Survey design matching the idealized survey from Mashian et al. 2015\n",
    "    mashian = survey(31.5, 200./3600, \"cv_mashian.csv\", nearest_wavelength(x,14873.4))\n",
    "    mean_mashian, med_mashian, z_vals_mashian = mean_median(mashian)\n",
    "    summed+=med_mashian\n",
    "    summean+=mean_mashian\n",
    "    plt.rcParams.update({'font.size': 20})\n",
    "    plt.rc('font', family='serif')\n",
    "    plt.rc('text', usetex=True)\n",
    "\n",
    "    ax.plot(z_vals_mashian, mean_mashian, alpha=0.4, label = \"Mean\")\n",
    "    ax.plot(z_vals_mashian, med_mashian, alpha=0.4,label = \"Median\")\n",
    "\n",
    "    ax.set(xlabel=\"z\", ylabel=\"Number of Galaxies\"r\" ($>$z)\", yscale=\"log\", ylim=(0.9,2e4), xlim=(8,16), title='Mashian')\n",
    "    if save==1:\n",
    "        plt.savefig(\"figs/\"+file+\"/mashian.pdf\")\n",
    "winsound.Beep(400,300)"
   ]
  },
  {
   "cell_type": "code",
   "execution_count": null,
   "metadata": {
    "ExecuteTime": {
     "end_time": "2020-10-06T13:19:50.448296Z",
     "start_time": "2020-10-06T13:18:52.749Z"
    }
   },
   "outputs": [],
   "source": [
    "fig, ax =plt.subplots(figsize=(12,9))\n",
    "plt.rcParams.update({'font.size': 20})\n",
    "plt.rc('font', family='serif')\n",
    "plt.rc('text', usetex=True)\n",
    "\n",
    "ax.plot(z_vals, summean/N,label = \"Mean\")\n",
    "ax.plot(z_vals, summed/N,label = \"Median\")\n",
    "\n",
    "ax.set(xlabel=\"z\", ylabel=\"Number of Galaxies\"r\" ($>$z)\", yscale=\"log\", ylim=(0.9,2e4), xlim=(8,16), title='Mashian')\n",
    "if save==1:\n",
    "    plt.savefig(\"figs/\"+file+\"/mashian.pdf\")"
   ]
  },
  {
   "cell_type": "code",
   "execution_count": null,
   "metadata": {
    "ExecuteTime": {
     "end_time": "2020-10-06T13:19:50.449294Z",
     "start_time": "2020-10-06T13:18:52.752Z"
    }
   },
   "outputs": [],
   "source": [
    "from scipy.interpolate import interp1d\n",
    "fmed = interp1d(z_vals, summed/N, 'cubic')\n",
    "fmean = interp1d(z_vals, summean/N, \"cubic\")\n",
    "def find_min(f):\n",
    "    x=8\n",
    "    while f(x)>1:\n",
    "        x+=0.001\n",
    "    print(f(x))\n",
    "    return x\n",
    "\n",
    "z_med, z_mean = find_min(fmed), find_min(fmean)\n",
    "z_med, z_vals[73-max(np.argwhere(np.isnan(np.log(summed)+np.inf)).flatten())], z_mean"
   ]
  },
  {
   "cell_type": "code",
   "execution_count": null,
   "metadata": {
    "ExecuteTime": {
     "end_time": "2020-10-06T13:19:50.450293Z",
     "start_time": "2020-10-06T13:18:52.755Z"
    }
   },
   "outputs": [],
   "source": [
    "fig, ax = plt.subplots(figsize=(12,9))\n",
    "meds, means = [],[]\n",
    "summed=np.zeros(len(z_vals))\n",
    "summean=np.zeros(len(z_vals))\n",
    "for _ in tqdm(range(N)):   \n",
    "    # Survey design matching the JADES Deep survey from Williams et al. 2018 (pg. 36)\n",
    "    deep = survey(30.7, 46./3600, \"cv_jades_deep.csv\", nearest_wavelength(x,14873.4))\n",
    "    mean_deep, med_deep, z_vals_deep = mean_median(deep)\n",
    "    summed+=med_deep\n",
    "    summean+=mean_deep\n",
    "    meds.append(med_deep)\n",
    "    means.append(mean_deep)\n",
    "    ax.plot(z_vals_deep, mean_deep, alpha=0.4, label = \"Mean\")\n",
    "    ax.plot(z_vals_deep, med_deep, alpha=0.4,label = \"Median\")\n",
    "\n",
    "    ax.set(xlabel=\"z\", ylabel=\"Number of Galaxies\"r\" ($>$z)\", yscale=\"log\", ylim=(0.9,2e3), xlim=(8,14), title='Jades Deep')\n",
    "winsound.Beep(400,300)"
   ]
  },
  {
   "cell_type": "code",
   "execution_count": null,
   "metadata": {
    "ExecuteTime": {
     "end_time": "2020-10-06T13:19:50.451287Z",
     "start_time": "2020-10-06T13:18:52.758Z"
    }
   },
   "outputs": [],
   "source": [
    "fig, ax =plt.subplots(figsize=(12,9))\n",
    "\n",
    "ax.plot(z_vals, summean/N,label = \"Mean\")\n",
    "ax.plot(z_vals, summed/N,label = \"Median\")\n",
    "ax.legend()\n",
    "ax.set(xlabel=\"z\", ylabel=\"Number of Galaxies\"r\" ($>$z)\", yscale=\"log\", ylim=(0.9,2e3), xlim=(8,14), title='Jades Deep')\n",
    "if save==1:\n",
    "    plt.savefig(\"figs/\"+file+\"/jadesdeep.pdf\")"
   ]
  },
  {
   "cell_type": "code",
   "execution_count": null,
   "metadata": {
    "ExecuteTime": {
     "end_time": "2020-10-06T13:19:50.452285Z",
     "start_time": "2020-10-06T13:18:52.761Z"
    }
   },
   "outputs": [],
   "source": [
    "fmed = interp1d(z_vals, summed/N, 'cubic')\n",
    "fmean = interp1d(z_vals, summean/N, \"cubic\")\n",
    "z_med, z_mean = find_min(fmed), find_min(fmean)\n",
    "z_med, z_vals[73-max(np.argwhere(np.isnan(np.log(summed)+np.inf)).flatten())], z_mean"
   ]
  },
  {
   "cell_type": "code",
   "execution_count": null,
   "metadata": {
    "ExecuteTime": {
     "end_time": "2020-10-06T13:19:50.453282Z",
     "start_time": "2020-10-06T13:18:52.764Z"
    }
   },
   "outputs": [],
   "source": [
    "fig, ax = plt.subplots(figsize=(12,9))\n",
    "summed=np.zeros(len(z_vals))\n",
    "summean=np.zeros(len(z_vals))\n",
    "for _ in tqdm(range(N)):   \n",
    "    # Survey design matching the JADES Wide survey from Williams et al. 2018 (pg. 36)\n",
    "\n",
    "    wide = survey(29.8, 190./3600, \"cv_jades_wide.csv\", nearest_wavelength(x,14873.4))\n",
    "    mean_wide, med_wide, z_vals_wide = mean_median(wide)\n",
    "    summed+=med_wide\n",
    "    summean+=mean_wide\n",
    "\n",
    "    ax.plot(z_vals_wide, mean_wide, alpha=0.4, label = \"Mean\")\n",
    "    ax.plot(z_vals_wide, med_wide, alpha=0.4,label = \"Median\")\n",
    "\n",
    "    ax.set(xlabel=\"z\", ylabel=\"Number of Galaxies\"r\" ($>$z)\", yscale=\"log\", ylim=(0.9,2e3), xlim=(8,14), title='Jades Medium')\n",
    "winsound.Beep(400,300)"
   ]
  },
  {
   "cell_type": "code",
   "execution_count": null,
   "metadata": {
    "ExecuteTime": {
     "end_time": "2020-10-06T13:19:50.455278Z",
     "start_time": "2020-10-06T13:18:52.769Z"
    }
   },
   "outputs": [],
   "source": [
    "fig, ax =plt.subplots(figsize=(12,9))\n",
    "\n",
    "ax.plot(z_vals, summean/N,label = \"Mean\")\n",
    "ax.plot(z_vals, summed/N,label = \"Median\")\n",
    "\n",
    "ax.set(xlabel=\"z\", ylabel=\"Number of Galaxies\"r\" ($>$z)\", yscale=\"log\", ylim=(0.9,2e3), xlim=(8,14), title='Jades Medium')\n",
    "if save==1:\n",
    "    plt.savefig(\"figs/\"+file+\"/jadesmedium.pdf\")"
   ]
  },
  {
   "cell_type": "code",
   "execution_count": null,
   "metadata": {
    "ExecuteTime": {
     "end_time": "2020-10-06T13:19:50.456274Z",
     "start_time": "2020-10-06T13:18:52.773Z"
    }
   },
   "outputs": [],
   "source": [
    "fmed = interp1d(z_vals, summed/N, 'cubic')\n",
    "fmean = interp1d(z_vals, summean/N, \"cubic\")\n",
    "z_med, z_mean = find_min(fmed), find_min(fmean)\n",
    "z_med, z_vals[73-max(np.argwhere(np.isnan(np.log(summed)+np.inf)).flatten())], z_mean"
   ]
  },
  {
   "cell_type": "code",
   "execution_count": null,
   "metadata": {
    "ExecuteTime": {
     "end_time": "2020-10-06T13:19:50.457271Z",
     "start_time": "2020-10-06T13:18:52.777Z"
    }
   },
   "outputs": [],
   "source": [
    "fig, ax = plt.subplots(figsize=(12,9))\n",
    "summed=np.zeros(len(z_vals))\n",
    "summean=np.zeros(len(z_vals))\n",
    "for _ in tqdm(range(N)):   \n",
    "    # Survey design assuming 35 parallel pointings of JWST\n",
    "    # Uses limiting magnitude from JADES Deep, area of one JWST pointing\n",
    "\n",
    "    parallel_35 = survey(30.6, 2*4.84/3600, \"cv_one_pointing.csv\", nearest_wavelength(x,14873.4), 20)\n",
    "    mean_35, med_35, z_vals_35 = mean_median(parallel_35)\n",
    "    summed+=med_35\n",
    "    summean+=mean_35\n",
    "\n",
    "    ax.plot(z_vals_35, mean_35, alpha=0.4, label = \"Mean\")\n",
    "    ax.plot(z_vals_35, med_35, alpha=0.4,label = \"Median\")\n",
    "\n",
    "    ax.set(xlabel=\"z\", ylabel=\"Number of Galaxies\"r\" ($>$z)\", yscale=\"log\", ylim=(0.9,1e4), xlim=(8,14), title='20 pointings')\n",
    "winsound.Beep(400,300)"
   ]
  },
  {
   "cell_type": "code",
   "execution_count": null,
   "metadata": {
    "ExecuteTime": {
     "end_time": "2020-10-06T13:19:50.457271Z",
     "start_time": "2020-10-06T13:18:52.779Z"
    }
   },
   "outputs": [],
   "source": [
    "fig, ax =plt.subplots(figsize=(12,9))\n",
    "\n",
    "ax.plot(z_vals, summean/N,label = \"Mean\")\n",
    "ax.plot(z_vals, summed/N,label = \"Median\")\n",
    "\n",
    "ax.set(xlabel=\"z\", ylabel=\"Number of Galaxies\"r\" ($>$z)\", yscale=\"log\", ylim=(0.9,2e3), xlim=(8,14), title='20 pointings')\n",
    "if save==1:\n",
    "    plt.savefig(\"figs/\"+file+\"/20.pdf\")"
   ]
  },
  {
   "cell_type": "code",
   "execution_count": null,
   "metadata": {
    "ExecuteTime": {
     "end_time": "2020-10-06T13:19:50.458272Z",
     "start_time": "2020-10-06T13:18:52.781Z"
    }
   },
   "outputs": [],
   "source": [
    "fmed = interp1d(z_vals, summed/N, 'cubic')\n",
    "fmean = interp1d(z_vals, summean/N, \"cubic\")\n",
    "z_med, z_mean = find_min(fmed), find_min(fmean)\n",
    "z_med, z_vals[73-max(np.argwhere(np.isnan(np.log(summed)+np.inf)).flatten())], z_mean"
   ]
  },
  {
   "cell_type": "code",
   "execution_count": null,
   "metadata": {
    "ExecuteTime": {
     "end_time": "2020-10-06T13:19:50.459272Z",
     "start_time": "2020-10-06T13:18:52.784Z"
    }
   },
   "outputs": [],
   "source": [
    "fig, ax = plt.subplots(figsize=(12,9))\n",
    "summed=np.zeros(len(z_vals))\n",
    "summean=np.zeros(len(z_vals))\n",
    "for _ in tqdm(range(N)):   \n",
    "    # Survey design assuming 100 parallel pointings of JWST\n",
    "\n",
    "    parallel_200 = survey(29.7, 2*4.84/3600, \"cv_one_pointing.csv\", nearest_wavelength(x,14873.4), 100)\n",
    "    mean_200, med_200, z_vals_200 = mean_median(parallel_200)\n",
    "    summed+=med_200\n",
    "    summean+=mean_200\n",
    "\n",
    "    ax.plot(z_vals_200, mean_200, alpha=0.4, label = \"Mean\")\n",
    "    ax.plot(z_vals_200, med_200, alpha=0.4,label = \"Median\")\n",
    "\n",
    "    ax.set(xlabel=\"z\", ylabel=\"Number of Galaxies\"r\" ($>$z)\", yscale=\"log\", ylim=(0.9,2e4), xlim=(8,16), title='100 pointings')\n",
    "winsound.Beep(400,300)"
   ]
  },
  {
   "cell_type": "code",
   "execution_count": null,
   "metadata": {
    "ExecuteTime": {
     "end_time": "2020-10-06T13:19:50.460263Z",
     "start_time": "2020-10-06T13:18:52.788Z"
    }
   },
   "outputs": [],
   "source": [
    "fig, ax =plt.subplots(figsize=(12,9))\n",
    "\n",
    "ax.plot(z_vals, summean/N,label = \"Mean\")\n",
    "ax.plot(z_vals, summed/N,label = \"Median\")\n",
    "\n",
    "ax.set(xlabel=\"z\", ylabel=\"Number of Galaxies\"r\" ($>$z)\", yscale=\"log\", ylim=(0.9,1e4), xlim=(8,16), title='100 pointigs')\n",
    "if save==1:\n",
    "    plt.savefig(\"figs/\"+file+\"/100.pdf\")"
   ]
  },
  {
   "cell_type": "code",
   "execution_count": null,
   "metadata": {
    "ExecuteTime": {
     "end_time": "2020-10-06T13:19:50.461261Z",
     "start_time": "2020-10-06T13:18:52.790Z"
    }
   },
   "outputs": [],
   "source": [
    "fmed = interp1d(z_vals, summed/N, 'cubic')\n",
    "fmean = interp1d(z_vals, summean/N, \"cubic\")\n",
    "z_med, z_mean = find_min(fmed), find_min(fmean)\n",
    "z_med, z_vals[73-max(np.argwhere(np.isnan(np.log(summed)+np.inf)).flatten())], z_mean"
   ]
  },
  {
   "cell_type": "code",
   "execution_count": null,
   "metadata": {
    "ExecuteTime": {
     "end_time": "2020-10-06T13:19:50.463255Z",
     "start_time": "2020-10-06T13:18:52.793Z"
    }
   },
   "outputs": [],
   "source": [
    "fig, ax = plt.subplots(figsize=(12,9))\n",
    "summed=np.zeros(len(z_vals))\n",
    "summean=np.zeros(len(z_vals))\n",
    "for _ in tqdm(range(N)):   \n",
    "    # Survey design assuming 200 parallel pointings of JWST\n",
    "\n",
    "    parallel_2000 = survey(28.5, 2*4.84/3600, \"cv_one_pointing.csv\", nearest_wavelength(x,14873.4), 1000)\n",
    "    mean_2000, med_2000, z_vals_2000 = mean_median(parallel_2000)\n",
    "    summed+=med_2000\n",
    "    summean+=mean_2000\n",
    "\n",
    "    ax.plot(z_vals_2000, mean_2000, alpha=0.4, label = \"Mean\")\n",
    "    ax.plot(z_vals_2000, med_2000, alpha=0.4,label = \"Median\")\n",
    "\n",
    "    ax.set(xlabel=\"z\", ylabel=\"Number of Galaxies\"r\" ($>$z)\", yscale=\"log\", ylim=(0.9,2e4), xlim=(8,16), title='1000 pointings')\n",
    "winsound.Beep(400,300)"
   ]
  },
  {
   "cell_type": "code",
   "execution_count": null,
   "metadata": {
    "ExecuteTime": {
     "end_time": "2020-10-06T13:19:50.464253Z",
     "start_time": "2020-10-06T13:18:52.796Z"
    }
   },
   "outputs": [],
   "source": [
    "fig, ax =plt.subplots(figsize=(12,9))\n",
    "\n",
    "ax.plot(z_vals, summean/N,label = \"Mean\")\n",
    "ax.plot(z_vals, summed/N,label = \"Median\")\n",
    "\n",
    "ax.set(xlabel=\"z\", ylabel=\"Number of Galaxies\"r\" ($>$z)\", yscale=\"log\", ylim=(0.9,1e4), xlim=(8,16), title='1000 pointigs')\n",
    "if save==1:\n",
    "    plt.savefig(\"figs/\"+file+\"/1000.pdf\")"
   ]
  },
  {
   "cell_type": "code",
   "execution_count": null,
   "metadata": {
    "ExecuteTime": {
     "end_time": "2020-10-06T13:19:50.465250Z",
     "start_time": "2020-10-06T13:18:52.798Z"
    }
   },
   "outputs": [],
   "source": [
    "fmed = interp1d(z_vals, summed/N, 'cubic')\n",
    "fmean = interp1d(z_vals, summean/N, \"cubic\")\n",
    "z_med, z_mean = find_min(fmed), find_min(fmean)\n",
    "z_med, z_vals[73-max(np.argwhere(np.isnan(np.log(summed)+np.inf)).flatten())], z_mean"
   ]
  },
  {
   "cell_type": "code",
   "execution_count": null,
   "metadata": {
    "ExecuteTime": {
     "end_time": "2020-10-06T13:19:50.466247Z",
     "start_time": "2020-10-06T13:18:52.801Z"
    }
   },
   "outputs": [],
   "source": [
    "# Survey design modeling the effect of lensing by increasing limiting magnitude of JADES Deep survey by 2\n",
    "# Assumes this is over one JWST pointing\n",
    "\n",
    "lensing_2 = survey(30.7 + 2, 2*4.84/3600, \"cv_jades_deep.csv\", nearest_wavelength(x,14873.4), 1)\n",
    "mean_lens, med_lens, z_vals_lens = mean_median(lensing_2)"
   ]
  },
  {
   "cell_type": "code",
   "execution_count": null,
   "metadata": {
    "ExecuteTime": {
     "end_time": "2020-10-06T13:19:50.467244Z",
     "start_time": "2020-10-06T13:18:52.803Z"
    }
   },
   "outputs": [],
   "source": [
    "fig, ax = plt.subplots(figsize=(12,9))\n",
    "summed=np.zeros(len(z_vals))\n",
    "summean=np.zeros(len(z_vals))\n",
    "for _ in tqdm(range(N)):   \n",
    "# Survey design modeling the effect of lensing by increasing limiting magnitude of JADES Deep survey by 2\n",
    "# Assumes this is over one JWST pointing\n",
    "\n",
    "    lensing_2 = survey(30.7 + 2, 2*4.84/3600, \"cv_jades_deep.csv\", nearest_wavelength(x,14873.4), 1)\n",
    "    mean_lens, med_lens, z_vals_lens = mean_median(lensing_2)\n",
    "    summed+=med_lens\n",
    "    summean+=mean_lens\n",
    "\n",
    "    ax.plot(z_vals_lens, mean_lens, alpha=0.4, label = \"Mean\")\n",
    "    ax.plot(z_vals_lens, med_lens, alpha=0.4,label = \"Median\")\n",
    "\n",
    "    ax.set(xlabel=\"z\", ylabel=\"Number of Galaxies\"r\" ($>$z)\", yscale=\"log\", ylim=(0.9,2e4), xlim=(8,16), title='Lensing +2 Mag')\n",
    "winsound.Beep(400,300)"
   ]
  },
  {
   "cell_type": "code",
   "execution_count": null,
   "metadata": {
    "ExecuteTime": {
     "end_time": "2020-10-06T13:19:50.469240Z",
     "start_time": "2020-10-06T13:18:52.806Z"
    }
   },
   "outputs": [],
   "source": [
    "fig, ax =plt.subplots(figsize=(12,9))\n",
    "\n",
    "ax.plot(z_vals, summean/N,label = \"Mean\")\n",
    "ax.plot(z_vals, summed/N,label = \"Median\")\n",
    "\n",
    "ax.set(xlabel=\"z\", ylabel=\"Number of Galaxies\"r\" ($>$z)\", yscale=\"log\", ylim=(0.9,1e4), xlim=(8,16), title='Lensing +2 Mag')\n",
    "if save==1:\n",
    "    plt.savefig(\"figs/\"+file+\"/lensfull+2.pdf\")"
   ]
  },
  {
   "cell_type": "code",
   "execution_count": null,
   "metadata": {
    "ExecuteTime": {
     "end_time": "2020-10-06T13:19:50.472242Z",
     "start_time": "2020-10-06T13:18:52.809Z"
    }
   },
   "outputs": [],
   "source": [
    "fmed = interp1d(z_vals, summed/N, 'cubic')\n",
    "fmean = interp1d(z_vals, summean/N, \"cubic\")\n",
    "z_med, z_mean = find_min(fmed), find_min(fmean)\n",
    "z_med, z_vals[73-max(np.argwhere(np.isnan(np.log(summed)+np.inf)).flatten())], z_mean"
   ]
  },
  {
   "cell_type": "code",
   "execution_count": null,
   "metadata": {
    "ExecuteTime": {
     "end_time": "2020-10-06T13:19:50.472242Z",
     "start_time": "2020-10-06T13:18:52.815Z"
    }
   },
   "outputs": [],
   "source": [
    "fig, ax = plt.subplots(figsize=(12,9))\n",
    "summed=np.zeros(len(z_vals))\n",
    "summean=np.zeros(len(z_vals))\n",
    "for _ in tqdm(range(N)):   \n",
    "    # Survey design modeling the effect of lensing by increasing limiting magnitude of JADES Deep survey by 2\n",
    "    # Assumes this is over one square arcsecond\n",
    "    lensing_2 = survey(30.7 + 2, 1/3600, \"cv_jades_deep.csv\", nearest_wavelength(x,14873.4), 0.5)\n",
    "    mean_lens, med_lens, z_vals_lens = mean_median(lensing_2)\n",
    "    lensing_rest = survey(30.7, 8/3600, \"cv_jades_deep.csv\", nearest_wavelength(x,14873.4), 1)\n",
    "    mean_lens1, med_lens1, zvals1  += mean_median(lensing_rest)\n",
    "    mean_lens+=meanlens1\n",
    "    med_lens+=medlens1\n",
    "    summed+=med_lens\n",
    "    summean+=mean_lens\n",
    "\n",
    "    ax.plot(z_vals_lens, mean_lens, alpha=0.4, label = \"Mean\")\n",
    "    ax.plot(z_vals_lens, med_lens, alpha=0.4,label = \"Median\")\n",
    "\n",
    "    ax.set(xlabel=\"z\", ylabel=\"Number of Galaxies\"r\" ($>$z)\", yscale=\"log\", ylim=(0.9,2e4), xlim=(8,16), title='Lensing +2 Mag point')\n",
    "winsound.Beep(400,300)"
   ]
  },
  {
   "cell_type": "code",
   "execution_count": null,
   "metadata": {
    "ExecuteTime": {
     "end_time": "2020-10-06T13:19:50.473230Z",
     "start_time": "2020-10-06T13:18:52.818Z"
    }
   },
   "outputs": [],
   "source": [
    "fig, ax =plt.subplots(figsize=(12,9))\n",
    "\n",
    "ax.plot(z_vals, summean/N,label = \"Mean\")\n",
    "ax.plot(z_vals, summed/N,label = \"Median\")\n",
    "\n",
    "ax.set(xlabel=\"z\", ylabel=\"Number of Galaxies\"r\" ($>$z)\", yscale=\"log\", ylim=(0.9,1e4), xlim=(8,16), title='Lensing +2 Mag')\n",
    "if save==1:\n",
    "    plt.savefig(\"figs/\"+file+\"/lenspoint+2.pdf\")"
   ]
  },
  {
   "cell_type": "code",
   "execution_count": null,
   "metadata": {
    "ExecuteTime": {
     "end_time": "2020-10-06T13:19:50.475224Z",
     "start_time": "2020-10-06T13:18:52.820Z"
    }
   },
   "outputs": [],
   "source": [
    "fmed = interp1d(z_vals, summed/N, 'cubic')\n",
    "fmean = interp1d(z_vals, summean/N, \"cubic\")\n",
    "z_med, z_mean = find_min(fmed), find_min(fmean)\n",
    "z_med, z_vals[73-max(np.argwhere(np.isnan(np.log(summed)+np.inf)).flatten())], z_mean"
   ]
  }
 ],
 "metadata": {
  "hide_input": false,
  "kernelspec": {
   "display_name": "Python 3",
   "language": "python",
   "name": "python3"
  },
  "language_info": {
   "codemirror_mode": {
    "name": "ipython",
    "version": 3
   },
   "file_extension": ".py",
   "mimetype": "text/x-python",
   "name": "python",
   "nbconvert_exporter": "python",
   "pygments_lexer": "ipython3",
   "version": "3.7.4"
  }
 },
 "nbformat": 4,
 "nbformat_minor": 2
}
