{
 "cells": [
  {
   "cell_type": "code",
   "execution_count": 1,
   "metadata": {},
   "outputs": [],
   "source": [
    "import numpy as np\n",
    "import matplotlib.pyplot as plt\n",
    "from iminuit import Minuit\n",
    "from scipy import stats, optimize\n",
    "import os\n",
    "# import atpy\n",
    "def nice_string_output(d, extra_spacing=5, decimals=3):\n",
    "    \"\"\" \n",
    "    Takes a dictionary d consisting of names and values to be properly formatted.\n",
    "    Makes sure that the distance between the names and the values in the printed\n",
    "    output has a minimum distance of 'extra_spacing'. One can change the number\n",
    "    of decimals using the 'decimals' keyword.  \n",
    "    \"\"\"\n",
    "    \n",
    "    names = d.keys()\n",
    "    max_names = len_of_longest_string(names)\n",
    "    \n",
    "    values = values_to_string(d.values(), decimals=decimals)\n",
    "    max_values = len_of_longest_string(values)\n",
    "    \n",
    "    string = \"\"\n",
    "    for name, value in zip(names, values):\n",
    "        spacing = extra_spacing + max_values + max_names - len(name) - 1 \n",
    "        string += \"{name:s} {value:>{spacing}} \\n\".format(name=name, value=value, spacing=spacing)\n",
    "    return string[:-2]"
   ]
  },
  {
   "cell_type": "code",
   "execution_count": 2,
   "metadata": {},
   "outputs": [],
   "source": [
    "from astropy import units as u\n",
    "from astropy.coordinates import SkyCoord, Distance\n",
    "from astropy.cosmology import Planck15\n",
    "\n",
    "# dist1 = Distance(unit=u.pc, z = z1, cosmology = Planck15)"
   ]
  },
  {
   "cell_type": "code",
   "execution_count": null,
   "metadata": {},
   "outputs": [],
   "source": [
    "def lin(x, k, a):\n",
    "    return k*x+a"
   ]
  }
 ],
 "metadata": {
  "hide_input": false,
  "kernelspec": {
   "display_name": "Python 3",
   "language": "python",
   "name": "python3"
  },
  "language_info": {
   "codemirror_mode": {
    "name": "ipython",
    "version": 3
   },
   "file_extension": ".py",
   "mimetype": "text/x-python",
   "name": "python",
   "nbconvert_exporter": "python",
   "pygments_lexer": "ipython3",
   "version": "3.7.4"
  }
 },
 "nbformat": 4,
 "nbformat_minor": 2
}
