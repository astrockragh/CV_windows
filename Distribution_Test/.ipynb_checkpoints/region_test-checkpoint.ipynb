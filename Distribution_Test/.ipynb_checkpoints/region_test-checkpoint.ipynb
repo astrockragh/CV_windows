{
 "cells": [
  {
   "cell_type": "code",
   "execution_count": 2,
   "metadata": {
    "ExecuteTime": {
     "end_time": "2020-07-28T13:53:52.331491Z",
     "start_time": "2020-07-28T13:53:51.558481Z"
    }
   },
   "outputs": [],
   "source": [
    "import astropy\n",
    "import pyregion\n",
    "import matplotlib.pyplot as plt"
   ]
  },
  {
   "cell_type": "code",
   "execution_count": null,
   "metadata": {
    "ExecuteTime": {
     "start_time": "2020-07-28T13:55:09.403Z"
    }
   },
   "outputs": [],
   "source": [
    "region_name = \"reg/COSMOS.Peter2.reg\"\n",
    "r = pyregion.open(region_name)"
   ]
  },
  {
   "cell_type": "code",
   "execution_count": null,
   "metadata": {},
   "outputs": [],
   "source": []
  }
 ],
 "metadata": {
  "hide_input": false,
  "kernelspec": {
   "display_name": "Python 3",
   "language": "python",
   "name": "python3"
  },
  "language_info": {
   "codemirror_mode": {
    "name": "ipython",
    "version": 3
   },
   "file_extension": ".py",
   "mimetype": "text/x-python",
   "name": "python",
   "nbconvert_exporter": "python",
   "pygments_lexer": "ipython3",
   "version": "3.7.4"
  }
 },
 "nbformat": 4,
 "nbformat_minor": 4
}
