{
 "cells": [
  {
   "cell_type": "code",
   "execution_count": 40,
   "id": "a685c0c9",
   "metadata": {
    "ExecuteTime": {
     "end_time": "2021-10-08T13:54:25.342513Z",
     "start_time": "2021-10-08T13:54:24.130127Z"
    }
   },
   "outputs": [],
   "source": [
    "import numpy as np\n",
    "from scipy.stats import gamma\n",
    "import scipy.integrate\n",
    "import pandas\n",
    "# TO DO: Update to most recent Planck results\n",
    "from astropy.cosmology import Planck18_arXiv_v2 as cosmo\n",
    "from tqdm import tqdm\n",
    "import matplotlib.pyplot as plt\n",
    "\n",
    "tot_sky = 41253.\n",
    "file='extrapolate'\n",
    "area_dict={'JADES Deep':46./3600/tot_sky, \n",
    "           'JADES Medium':190./3600/tot_sky, \n",
    "           'JADES Deep Extended':190./3600/tot_sky, \n",
    "           'JADES Medium Extended':5*190./3600/tot_sky,\n",
    "           '1 pointing':  2*4.84/3600/tot_sky, \n",
    "           '20 pointings':  20*2*4.84/3600/tot_sky, \n",
    "           '100 pointings':  2*4.84/3600*100/tot_sky, \n",
    "           '1000 pointings':  2*4.84/3600*1000/tot_sky}\n",
    "\n",
    "data = np.loadtxt(\"../erb2010_continuum.dat\")\n",
    "x = data[:,0]\n",
    "y = data[:,1] * x**2 / 3.e18 # Convert to correct flux values\n",
    "\n",
    "# Constants # Total degrees on the sky\n",
    "masses = np.array([8.0, 8.5, 9.0, 9.5, 10.0, 10.5, 11.0]) # Mass bins in log(M/Msun)\n",
    "masses = np.arange(8,12,0.25) # Mass bins in log(M/Msun)\n",
    "\n",
    "trials = 10000 # Number of trials for calculating median from gamma function\n",
    "mmin = 9 # Minimum halo mass for HMF\n",
    "mmax = 13.5 # Maximum halo mass for HMF\n",
    "\n",
    "# Function to find closest wavelength in measured galaxy spectrum compared to given value\n",
    "def nearest_wavelength(x, val):\n",
    "    i = (np.abs(x - val)).argmin()\n",
    "    return x[i]\n",
    "\n",
    "# Define a class for different survey designs\n",
    "class survey:\n",
    "    def __init__(self, ABmax, area, cv_file, wavelength = 0, num_pointings = 1):\n",
    "        self.ABmax = ABmax # Limiting AB magnitude of the survey\n",
    "        self.area = area # Survey area\n",
    "        self.file = cv_file # Name of cosmic variance table file\n",
    "        self.point = num_pointings # Number of independent pointings\n",
    "        self.wavelength = wavelength # Center wavelength for the chosen filter\n",
    "\n",
    "# Method to take one trial of a gamma distribution with a given variance and mean\n",
    "def trial(sig_v, mean, trials=10000):\n",
    "    var = sig_v**2*mean**2\n",
    "    k = mean**2/var\n",
    "    t = var/mean\n",
    "    rand = np.rint(np.random.gamma(k, scale=t, size=trials))\n",
    "    return rand\n"
   ]
  },
  {
   "cell_type": "code",
   "execution_count": 104,
   "id": "37fe3b8d",
   "metadata": {
    "ExecuteTime": {
     "end_time": "2021-10-08T15:19:56.250585Z",
     "start_time": "2021-10-08T15:19:54.830144Z"
    }
   },
   "outputs": [
    {
     "name": "stdout",
     "output_type": "stream",
     "text": [
      "0.4499686274969179 0.43209 0.45\n",
      "0.06674184009200006\n"
     ]
    },
    {
     "data": {
      "text/plain": [
       "<matplotlib.collections.LineCollection at 0x7f8803019be0>"
      ]
     },
     "execution_count": 104,
     "metadata": {},
     "output_type": "execute_result"
    },
    {
     "data": {
      "image/png": "[encoded data removed]",
      "text/plain": [
       "<Figure size 432x288 with 1 Axes>"
      ]
     },
     "metadata": {
      "needs_background": "light"
     },
     "output_type": "display_data"
    }
   ],
   "source": [
    "s, m=0.45,100000\n",
    "t=trial(s,m, int(1e7))\n",
    "print(np.std(t)/m, (np.quantile(t, (50+34)/100)-np.quantile(t, (50-34)/100))/m/2, s)\n",
    "print((np.mean(t)-np.median(t))/m)\n",
    "plt.hist(t, bins=100);\n",
    "plt.vlines(m-np.std(t),0,1e6, 'k')\n",
    "plt.vlines(m+np.std(t),0,1e6, 'k')\n",
    "plt.vlines((np.quantile(t, (50+34)/100)),0,1e6, 'k', linestyle='dashed')\n",
    "plt.vlines((np.quantile(t, (50-34)/100)),0,1e6, 'k',  linestyle='dashed')"
   ]
  },
  {
   "cell_type": "code",
   "execution_count": 98,
   "id": "8e553620",
   "metadata": {
    "ExecuteTime": {
     "end_time": "2021-10-08T15:07:51.643644Z",
     "start_time": "2021-10-08T15:07:51.531538Z"
    }
   },
   "outputs": [
    {
     "data": {
      "text/plain": [
       "109927.0"
      ]
     },
     "execution_count": 98,
     "metadata": {},
     "output_type": "execute_result"
    }
   ],
   "source": [
    "(np.quantile(t, (50+34)/100))"
   ]
  },
  {
   "cell_type": "code",
   "execution_count": null,
   "id": "0899c393",
   "metadata": {},
   "outputs": [],
   "source": []
  }
 ],
 "metadata": {
  "hide_input": false,
  "kernelspec": {
   "display_name": "Python 3",
   "language": "python",
   "name": "python3"
  },
  "language_info": {
   "codemirror_mode": {
    "name": "ipython",
    "version": 3
   },
   "file_extension": ".py",
   "mimetype": "text/x-python",
   "name": "python",
   "nbconvert_exporter": "python",
   "pygments_lexer": "ipython3",
   "version": "3.8.8"
  }
 },
 "nbformat": 4,
 "nbformat_minor": 5
}
