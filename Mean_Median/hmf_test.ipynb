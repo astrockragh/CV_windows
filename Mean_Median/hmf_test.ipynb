{
 "cells": [
  {
   "cell_type": "code",
   "execution_count": 1,
   "metadata": {
    "ExecuteTime": {
     "end_time": "2020-08-07T17:09:56.749559Z",
     "start_time": "2020-08-07T17:09:55.810671Z"
    }
   },
   "outputs": [],
   "source": [
    "from hmf import MassFunction     # The main hmf class\n",
    "import matplotlib.pyplot as plt  # The necessary plotting library\n",
    "import numpy as np               # Numerical array library\n",
    "from astropy.cosmology import Planck18_arXiv_v2 as cosmo\n",
    "\n",
    "# This just serves to render plots inline in the notebook. Do not use in a script.\n",
    "%matplotlib inline"
   ]
  },
  {
   "cell_type": "code",
   "execution_count": 2,
   "metadata": {
    "ExecuteTime": {
     "end_time": "2020-08-07T17:09:56.757518Z",
     "start_time": "2020-08-07T17:09:56.751533Z"
    }
   },
   "outputs": [],
   "source": [
    "import hmf\n",
    "from hmf import functional\n",
    "import matplotlib.pyplot as plt\n",
    "%matplotlib inline\n",
    "plt.rc('text', usetex=True)\n",
    "import numpy as np\n",
    "import scipy.integrate\n",
    "import astropy\n",
    "from astropy.cosmology import LambdaCDM, Planck18_arXiv_v2"
   ]
  },
  {
   "cell_type": "code",
   "execution_count": 3,
   "metadata": {
    "ExecuteTime": {
     "end_time": "2020-08-07T17:09:56.775733Z",
     "start_time": "2020-08-07T17:09:56.759511Z"
    }
   },
   "outputs": [
    {
     "data": {
      "text/plain": [
       "{'cosmo_model': FlatLambdaCDM(name=\"Planck15\", H0=67.7 km / (Mpc s), Om0=0.307, Tcmb0=2.725 K, Neff=3.05, m_nu=[0.   0.   0.06] eV, Ob0=0.0486),\n",
       " 'cosmo_params': {},\n",
       " 'n': 0.9667,\n",
       " 'sigma_8': 0.8159,\n",
       " 'growth_params': {},\n",
       " 'lnk_min': -18.420680743952367,\n",
       " 'lnk_max': 9.903487552536127,\n",
       " 'dlnk': 0.05,\n",
       " 'z': 0.0,\n",
       " 'transfer_model': hmf.density_field.transfer_models.CAMB,\n",
       " 'transfer_params': {},\n",
       " 'takahashi': True,\n",
       " 'growth_model': hmf.cosmology.growth_factor.GrowthFactor,\n",
       " 'hmf_model': hmf.mass_function.fitting_functions.Tinker08,\n",
       " 'Mmin': 10,\n",
       " 'Mmax': 15,\n",
       " 'dlog10m': 0.01,\n",
       " 'mdef_model': None,\n",
       " 'mdef_params': {},\n",
       " 'delta_c': 1.686,\n",
       " 'hmf_params': {},\n",
       " 'filter_model': hmf.density_field.filters.TopHat,\n",
       " 'filter_params': {},\n",
       " 'disable_mass_conversion': True}"
      ]
     },
     "execution_count": 3,
     "metadata": {},
     "output_type": "execute_result"
    }
   ],
   "source": [
    "MassFunction.get_all_parameter_defaults(recursive=False)"
   ]
  },
  {
   "cell_type": "code",
   "execution_count": 11,
   "metadata": {
    "ExecuteTime": {
     "end_time": "2020-08-07T17:10:28.143551Z",
     "start_time": "2020-08-07T17:10:28.110579Z"
    }
   },
   "outputs": [
    {
     "name": "stdout",
     "output_type": "stream",
     "text": [
      "['_dlnsdlnm', '_growth_factor_fn', '_gtm', '_normalisation', '_power0', '_sigma_0', '_unn_sig8', '_unn_sigma0', '_unnormalised_lnT', '_unnormalised_power', 'cosmo', 'delta_k', 'dndlnm', 'dndlog10m', 'dndm', 'filter', 'fsigma', 'growth', 'growth_factor', 'halo_overdensity_crit', 'halo_overdensity_mean', 'hmf', 'how_big', 'k', 'lnsigma', 'm', 'mass_nonlinear', 'mdef', 'mean_density', 'mean_density0', 'n_eff', 'ngtm', 'nonlinear_delta_k', 'nonlinear_power', 'normalised_filter', 'nu', 'power', 'radii', 'rho_gtm', 'rho_ltm', 'sigma', 'transfer', 'transfer_function']\n"
     ]
    }
   ],
   "source": [
    "print(mf.quantities_available())"
   ]
  },
  {
   "cell_type": "code",
   "execution_count": 8,
   "metadata": {
    "ExecuteTime": {
     "end_time": "2020-08-07T17:10:19.723435Z",
     "start_time": "2020-08-07T17:10:19.566780Z"
    }
   },
   "outputs": [
    {
     "data": {
      "text/plain": [
       "15.311"
      ]
     },
     "execution_count": 8,
     "metadata": {},
     "output_type": "execute_result"
    }
   ],
   "source": [
    "import pandas\n",
    "df = pandas.read_csv('../CV_Vals/cv_mashian.csv')\n",
    "z_vals = df[\"z\"].values\n",
    "z_vals = z_vals[::-1]\n",
    "dz_vals = df[\"dz\"].values\n",
    "dz_vals = dz_vals[::-1]\n",
    "\n",
    "all_mean = []\n",
    "all_sig_v = []\n",
    "    \n",
    "# Loop over z values\n",
    "for z in z_vals:\n",
    "    masses = np.array([7.0, 7.5, 8.0, 8.5, 9.0, 9.5, 10.0, 10.5, 11.0])    \n",
    "    mf = MassFunction(cosmo_model=cosmo,z=z,Mmin=mmin,Mmax=mmax, hmf_model=\"SMT\")\n",
    "    # Find volume of space within redshift bin\n",
    "    dz = df.loc[df['z'] == z][[\"dz\"]].values[0][0]\n",
    "    vol = cosmo.comoving_volume(z + dz/2).value - cosmo.comoving_volume(z - dz/2).value\n",
    "#     print(vol* survey_area / tot_sky)\n",
    "z_vals[5]"
   ]
  },
  {
   "cell_type": "code",
   "execution_count": 9,
   "metadata": {
    "ExecuteTime": {
     "end_time": "2020-08-07T17:10:24.163505Z",
     "start_time": "2020-08-07T17:10:24.145553Z"
    }
   },
   "outputs": [],
   "source": [
    "z = z_vals[5] # Redshift value to plot\n",
    "mmin = 9 # Minimum halo mass for HMF\n",
    "mmax = 13.5 # Maximum halo mass for HMF\n",
    "ABmax = 31.5 # Max magnitude JWST can see\n",
    "\n",
    "cosmo = Planck18_arXiv_v2 # Define temporary cosmology for volume calculation\n",
    "vol = cosmo.comoving_volume(z + 0.5*dz_vals[5]).value - cosmo.comoving_volume(z - dz_vals[5]*0.5).value\n",
    "side1=10/60\n",
    "side2=19/60\n",
    "tot_sky = 41253. # Total square degrees in the sky\n",
    "survey_area = side1*side2 # Survey area in square degrees\n",
    "num_gal = 1 # Minimum number of galaxies needed within the survey area\n",
    "\n",
    "# Find number density that would be visible to JWST\n",
    "nmin = tot_sky / vol / survey_area\n",
    "\n",
    "# Values for the stellar baryon fraction\n",
    "# Rough estimate of 1/70 and extrapolation from Finkelstein\n",
    "# sbf_vals = [1./70, 0.051 + 0.024 * (z - 4)]\n",
    "sbf_vals = [0.018, 0.051 + 0.024 * (z - 4), 0.051 + 0.031 * (z - 4), 0.051 + 0.017 * (z - 4)]\n",
    "\n",
    "# Calculating change in magnitude due to wavelength\n",
    "# Uses 1505 and 1605 because values at 1500 and 1600 Å are not in the continuum data\n",
    "w_original = 1500 + 5 # From the Song 2016 M*-MUV relation\n",
    "w_new = 1600 + 5\n",
    "\n",
    "# Load spectrum\n",
    "data = np.loadtxt(\"erb2010_continuum.dat\")\n",
    "x = data[:,0]\n",
    "y = data[:,1] * x**2 / 3.e18\n",
    "\n",
    "# Shift luminosity using spectrum assumption\n",
    "shift = 2.5 * np.log10(y[x==w_original]/y[x==w_new])"
   ]
  },
  {
   "cell_type": "code",
   "execution_count": 10,
   "metadata": {
    "ExecuteTime": {
     "end_time": "2020-08-07T17:10:25.151222Z",
     "start_time": "2020-08-07T17:10:25.146235Z"
    }
   },
   "outputs": [],
   "source": [
    "mf = MassFunction(cosmo_model=cosmo,z=z,Mmin=mmin,Mmax=mmax, hmf_model=\"PS\")"
   ]
  },
  {
   "cell_type": "code",
   "execution_count": 137,
   "metadata": {
    "ExecuteTime": {
     "end_time": "2020-08-06T15:49:25.622897Z",
     "start_time": "2020-08-06T15:49:25.617909Z"
    }
   },
   "outputs": [],
   "source": [
    "little_h=mf.cosmo_model.h\n",
    "lnmass=np.log10(mf.m)\n",
    "dndm=mf.dndm\n",
    "dndm=dndm/little_h**3\n",
    "mass=mass*little_h\n",
    "stellar_mass=mass*0.018"
   ]
  },
  {
   "cell_type": "code",
   "execution_count": 141,
   "metadata": {
    "ExecuteTime": {
     "end_time": "2020-08-06T16:10:39.378423Z",
     "start_time": "2020-08-06T16:10:36.612275Z"
    }
   },
   "outputs": [
    {
     "data": {
      "image/png": "[encoded data removed]",
      "text/plain": [
       "<Figure size 432x288 with 1 Axes>"
      ]
     },
     "metadata": {
      "needs_background": "light"
     },
     "output_type": "display_data"
    }
   ],
   "source": [
    "plt.plot(np.log10(mf.m),mf.dndlnm)\n",
    "# plt.xscale('log')\n",
    "plt.yscale('log')\n",
    "\n",
    "plt.xlabel(r\"Mass, $[h^{-1}M_\\odot]$\")\n",
    "plt.ylabel(r\"$dn/dm$, $[h^{4}{\\rm Mpc}^{-3}M_\\odot^{-1}]$\");"
   ]
  },
  {
   "cell_type": "code",
   "execution_count": 56,
   "metadata": {
    "ExecuteTime": {
     "end_time": "2020-08-06T14:33:11.973119Z",
     "start_time": "2020-08-06T14:33:11.970094Z"
    }
   },
   "outputs": [],
   "source": [
    "hmf = functional.get_hmf(['dndm','m'],z=z,Mmin=mmin,Mmax=mmax, hmf_model='SMT')"
   ]
  },
  {
   "cell_type": "code",
   "execution_count": 7,
   "metadata": {
    "ExecuteTime": {
     "end_time": "2020-08-07T17:10:15.812882Z",
     "start_time": "2020-08-07T17:10:15.804878Z"
    }
   },
   "outputs": [],
   "source": [
    "k=50\n",
    "z = z_vals[k] # Redshift value to plot\n",
    "mmin = 8.5 # Minimum halo mass for HMF\n",
    "mmax = 13.5 # Maximum halo mass for HMF\n",
    "ABmax = 31.5 # Max magnitude JWST can see\n",
    "\n",
    "cosmo = Planck18_arXiv_v2 # Define temporary cosmology for volume calculation\n",
    "vol = cosmo.comoving_volume(z + 0.5*dz_vals[k]).value - cosmo.comoving_volume(z - dz_vals[k]*0.5).value\n",
    "side1=10/60\n",
    "side2=19/60\n",
    "tot_sky = 41253. # Total square degrees in the sky\n",
    "survey_area = side1*side2 # Survey area in square degrees\n",
    "num_gal = 1 # Minimum number of galaxies needed within the survey area"
   ]
  },
  {
   "cell_type": "code",
   "execution_count": 155,
   "metadata": {
    "ExecuteTime": {
     "end_time": "2020-08-06T17:36:42.708573Z",
     "start_time": "2020-08-06T17:36:42.182998Z"
    }
   },
   "outputs": [],
   "source": [
    "import hmf\n",
    "from hmf import functional\n",
    "for quants, h, l in functional.get_hmf(['dndm','m'],z=z,Mmin=mmin,Mmax=mmax, hmf_model='SMT'):\n",
    "    dndm = h.dndm\n",
    "    mass = h.m\n",
    "\n",
    "    little_h = h.cosmo_model.h\n",
    "    mass = mass * little_h\n",
    "    stellar_mass = mass * 0.018\n",
    "    \n",
    "M_vals=-2.*(1.56 + np.log10(stellar_mass))\n",
    "m = M_vals + cosmo.distmod(z).value+shift[0]\n",
    "u_lim = max(m)\n",
    "l_lim = min(m)\n",
    "u_lim = min(u_lim, ABmax) # Compare dimmest object to telescope limit \n",
    "index= m<=u_lim\n",
    "stellar_mass=stellar_mass[index]\n",
    "mass_bin=[]\n",
    "masks=[]\n",
    "masses = np.array([7.0, 7.5, 8.0, 8.5, 9.0, 9.5, 10.0, 10.5, 11.0]) \n",
    "for i in range(len(masses)):\n",
    "    mask=np.log10(stellar_mass)<masses[i]\n",
    "    masks.append(mask)\n",
    "    mass_bin.append(stellar_mass[mask])\n",
    "integral=np.zeros(len(masses))\n",
    "for i in range(len(masses)):\n",
    "    if i==0:\n",
    "        integral[i]=np.trapz(dndm[:len(mass_bin[i])],mass_bin[i])\n",
    "    else:\n",
    "        integral[i]=np.trapz(dndm[:len(mass_bin[i])],mass_bin[i])-sum(integral)"
   ]
  },
  {
   "cell_type": "code",
   "execution_count": 45,
   "metadata": {
    "ExecuteTime": {
     "end_time": "2020-08-07T17:30:26.357879Z",
     "start_time": "2020-08-07T17:30:25.787168Z"
    }
   },
   "outputs": [],
   "source": [
    "import hmf\n",
    "from hmf import functional\n",
    "for quants, h, l in functional.get_hmf(['dndm','m'],z=z,Mmin=mmin,Mmax=mmax, hmf_model='SMT'):\n",
    "    dndm = h.dndm\n",
    "    mass = h.m\n",
    "\n",
    "    little_h = h.cosmo_model.h\n",
    "    mass = mass * little_h\n",
    "    stellar_mass = mass * 0.018\n",
    "    \n",
    "M_vals=-2.*(1.56 + np.log10(stellar_mass))\n",
    "m = M_vals + cosmo.distmod(z).value+shift[0]\n",
    "u_lim = max(m)\n",
    "l_lim = min(m)\n",
    "u_lim = min(u_lim, ABmax) # Compare dimmest object to telescope limit \n",
    "index= m<=u_lim\n",
    "stellar_mass=stellar_mass[index]\n",
    "mass_bin=[]\n",
    "masks=[]\n",
    "integral=np.zeros(len(stellar_mass))\n",
    "for i in range(len(stellar_mass)):\n",
    "    integral[i]=np.trapz(dndm[index][::-1][:i]*little_h**3,stellar_mass[::-1][:i])"
   ]
  },
  {
   "cell_type": "code",
   "execution_count": 46,
   "metadata": {
    "ExecuteTime": {
     "end_time": "2020-08-07T17:30:26.659779Z",
     "start_time": "2020-08-07T17:30:26.358846Z"
    }
   },
   "outputs": [
    {
     "data": {
      "text/plain": [
       "Text(0, 0.5, 'n, $[{\\\\rm Mpc}^{-3}]$')"
      ]
     },
     "execution_count": 46,
     "metadata": {},
     "output_type": "execute_result"
    },
    {
     "data": {
      "image/png": "[encoded data removed]",
      "text/plain": [
       "<Figure size 864x648 with 1 Axes>"
      ]
     },
     "metadata": {
      "needs_background": "light"
     },
     "output_type": "display_data"
    }
   ],
   "source": [
    "fig = plt.figure(figsize = (12, 9))\n",
    "plt.plot(stellar_mass[2:],-integral[2:][::-1])\n",
    "# plt.plot(stellar_mass,mass_func)\n",
    "plt.xscale('log')\n",
    "plt.yscale('log')\n",
    "\n",
    "plt.xlabel(r\"Stellar Mass, $[M_\\odot]$\")\n",
    "plt.ylabel(r\"n, $[{\\rm Mpc}^{-3}]$\")\n",
    "# plt.ylabel(r\"$dn/dm$, $[h^{4}{\\rm Mpc}^{-3}M_\\odot^{-1}]$\")"
   ]
  },
  {
   "cell_type": "code",
   "execution_count": 47,
   "metadata": {
    "ExecuteTime": {
     "end_time": "2020-08-07T17:30:27.490196Z",
     "start_time": "2020-08-07T17:30:27.411437Z"
    }
   },
   "outputs": [],
   "source": [
    "from scipy.interpolate import InterpolatedUnivariateSpline as _spline\n",
    "import scipy.integrate as intg\n",
    "def inte(dndm,M):\n",
    "#     Eliminate NaN's\n",
    "    m = M[np.logical_not(np.isnan(dndm))]\n",
    "    dndm = dndm[np.logical_not(np.isnan(dndm))]\n",
    "    dndlnm = m * dndm\n",
    "\n",
    "    if len(m) < 4:\n",
    "        raise NaNException(\n",
    "            \"There are too few real numbers in dndm: len(dndm) = %s, #NaN's = %s\"\n",
    "            % (len(M), len(M) - len(dndm))\n",
    "        )\n",
    "\n",
    "    # Calculate the mass function (and its integral) from the highest M up to 10**18\n",
    "    if m[-1] < m[0] * 10 ** 18 / m[3]:\n",
    "        m_upper = np.arange(\n",
    "            np.log(m[-1]), np.log(10 ** 18), np.log(m[1]) - np.log(m[0])\n",
    "        )\n",
    "        mf_func = _spline(np.log(m), np.log(dndlnm), k=1)\n",
    "        mf = mf_func(m_upper)\n",
    "\n",
    "        int_upper = intg.simps(np.exp(mf), dx=m_upper[2] - m_upper[1], even=\"first\")\n",
    "\n",
    "\n",
    "    # Calculate the cumulative integral (backwards) of [m*]dndlnm\n",
    "        ngtm = np.concatenate((intg.cumtrapz(dndlnm[::-1], dx=np.log(m[1]) - np.log(m[0]))[::-1],np.zeros(1),))\n",
    "\n",
    "    return ngtm + int_upper"
   ]
  },
  {
   "cell_type": "code",
   "execution_count": 48,
   "metadata": {
    "ExecuteTime": {
     "end_time": "2020-08-07T17:30:28.121012Z",
     "start_time": "2020-08-07T17:30:27.829101Z"
    }
   },
   "outputs": [
    {
     "data": {
      "text/plain": [
       "Text(0, 0.5, 'n, $[{\\\\rm Mpc}^{-3}]$')"
      ]
     },
     "execution_count": 48,
     "metadata": {},
     "output_type": "execute_result"
    },
    {
     "data": {
      "image/png": "[encoded data removed]",
      "text/plain": [
       "<Figure size 864x648 with 1 Axes>"
      ]
     },
     "metadata": {
      "needs_background": "light"
     },
     "output_type": "display_data"
    }
   ],
   "source": [
    "n=inte(dndm[index]*little_h**3,stellar_mass)\n",
    "fig = plt.figure(figsize = (12, 9))\n",
    "plt.plot(stellar_mass,n)\n",
    "plt.plot(stellar_mass[2:],-integral[2:][::-1])\n",
    "# plt.plot(stellar_mass,mass_func)\n",
    "plt.xscale('log')\n",
    "plt.yscale('log')\n",
    "\n",
    "plt.xlabel(r\"Stellar Mass, $[M_\\odot]$\")\n",
    "plt.ylabel(r\"n, $[{\\rm Mpc}^{-3}]$\")\n",
    "# plt.ylabel(r\"$dn/dm$, $[h^{4}{\\rm Mpc}^{-3}M_\\odot^{-1}]$\")"
   ]
  },
  {
   "cell_type": "code",
   "execution_count": 125,
   "metadata": {
    "ExecuteTime": {
     "end_time": "2020-08-06T14:59:25.152276Z",
     "start_time": "2020-08-06T14:59:25.142301Z"
    }
   },
   "outputs": [],
   "source": [
    "M_vals=-2.*(1.56 + np.log10(stellar_mass))\n",
    "m = M_vals + cosmo.distmod(z).value+shift[0]\n",
    "u_lim = max(m)\n",
    "l_lim = min(m)\n",
    "u_lim = min(u_lim, ABmax) # Compare dimmest object to telescope limit \n",
    "index= m<=u_lim\n",
    "stellar_mass=stellar_mass[index]\n",
    "mass_bin=[]\n",
    "masks=[]\n",
    "masses = np.array([7.0, 7.5, 8.0, 8.5, 9.0, 9.5, 10.0, 10.5, 11.0]) \n",
    "for i in range(len(masses)):\n",
    "    mask=np.log10(stellar_mass)<masses[i]\n",
    "    masks.append(mask)\n",
    "    mass_bin.append(stellar_mass[mask])\n",
    "integral=np.zeros(len(masses))\n",
    "for i in range(len(masses)):\n",
    "    if i==0:\n",
    "        integral[i]=np.trapz(dndm[:len(mass_bin[i])],mass_bin[i])\n",
    "    else:\n",
    "        integral[i]=np.trapz(dndm[:len(mass_bin[i])],mass_bin[i])-sum(integral)"
   ]
  },
  {
   "cell_type": "code",
   "execution_count": 126,
   "metadata": {
    "ExecuteTime": {
     "end_time": "2020-08-06T14:59:25.162249Z",
     "start_time": "2020-08-06T14:59:25.154269Z"
    }
   },
   "outputs": [],
   "source": [
    "inte=np.trapz(dndm[:len(stellar_mass)],stellar_mass)"
   ]
  },
  {
   "cell_type": "code",
   "execution_count": 127,
   "metadata": {
    "ExecuteTime": {
     "end_time": "2020-08-06T14:59:25.535475Z",
     "start_time": "2020-08-06T14:59:25.528458Z"
    }
   },
   "outputs": [
    {
     "data": {
      "text/plain": [
       "(0.0005765612758498375, 0.0005765612758498376)"
      ]
     },
     "execution_count": 127,
     "metadata": {},
     "output_type": "execute_result"
    }
   ],
   "source": [
    "sum(integral), inte"
   ]
  },
  {
   "cell_type": "code",
   "execution_count": 129,
   "metadata": {
    "ExecuteTime": {
     "end_time": "2020-08-06T14:59:26.133325Z",
     "start_time": "2020-08-06T14:59:26.127370Z"
    }
   },
   "outputs": [],
   "source": [
    "means=[]\n",
    "for i in range(len(masses)):\n",
    "    means.append(integral[i] * vol * survey_area / tot_sky)"
   ]
  },
  {
   "cell_type": "code",
   "execution_count": 130,
   "metadata": {
    "ExecuteTime": {
     "end_time": "2020-08-06T14:59:26.543397Z",
     "start_time": "2020-08-06T14:59:26.535450Z"
    }
   },
   "outputs": [
    {
     "data": {
      "text/plain": [
       "[6.635682713763919,\n",
       " 12.350440829250074,\n",
       " 0.45256157020821436,\n",
       " 0.007707448261856404,\n",
       " 4.576525033522542e-05,\n",
       " 6.180808456227905e-08,\n",
       " 9.814934068222152e-12,\n",
       " 3.65683087489648e-15,\n",
       " 0.0]"
      ]
     },
     "execution_count": 130,
     "metadata": {},
     "output_type": "execute_result"
    }
   ],
   "source": [
    "means"
   ]
  }
 ],
 "metadata": {
  "hide_input": false,
  "kernelspec": {
   "display_name": "Python 3",
   "language": "python",
   "name": "python3"
  },
  "language_info": {
   "codemirror_mode": {
    "name": "ipython",
    "version": 3
   },
   "file_extension": ".py",
   "mimetype": "text/x-python",
   "name": "python",
   "nbconvert_exporter": "python",
   "pygments_lexer": "ipython3",
   "version": "3.7.4"
  }
 },
 "nbformat": 4,
 "nbformat_minor": 4
}
