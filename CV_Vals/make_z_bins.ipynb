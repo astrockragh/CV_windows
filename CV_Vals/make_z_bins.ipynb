{
 "cells": [
  {
   "cell_type": "code",
   "execution_count": 2,
   "metadata": {
    "ExecuteTime": {
     "end_time": "2020-10-24T18:13:47.207628Z",
     "start_time": "2020-10-24T18:13:43.441415Z"
    }
   },
   "outputs": [
    {
     "name": "stdout",
     "output_type": "stream",
     "text": [
      "[0, 0.035, 0.07, 0.106, 0.142, 0.179, 0.217, 0.256, 0.296, 0.337, 0.379, 0.422, 0.466, 0.511, 0.557, 0.604, 0.653, 0.703, 0.755, 0.808, 0.863, 0.92, 0.979, 1.04, 1.103, 1.169, 1.237, 1.308, 1.382, 1.459, 1.539, 1.623, 1.71, 1.801, 1.897, 1.997, 2.102, 2.212, 2.328, 2.45, 2.578, 2.713, 2.855, 3.005, 3.164, 3.332, 3.51, 3.699, 3.9, 4.114, 4.342, 4.585, 4.845, 5.123, 5.422, 5.743, 6.088, 6.46, 6.862, 7.297, 7.769, 8.283, 8.843, 9.455, 10.126, 10.863, 11.676, 12.576, 13.575, 14.688, 15.934, 17.335, 18.917, 20.714]\n"
     ]
    }
   ],
   "source": [
    "import numpy as np\n",
    "import astropy\n",
    "from astropy.cosmology import LambdaCDM\n",
    "from astropy.cosmology import Planck18_arXiv_v2 as cosmo\n",
    "import scipy\n",
    "# Import a cosmology from astropy\n",
    "# Although this should not make a significant difference, this could be updated to the most recent Planck values (planck_2018)\n",
    "# In this case, the cosmic variance values would have to be recalculated using the getcv code\n",
    "\n",
    "# Generate the values of z for bins of depth 150 Mpc\n",
    "\n",
    "low_z = 0\n",
    "high_z = 0\n",
    "dist = 0\n",
    "\n",
    "bins = []\n",
    "\n",
    "while high_z < 25:\n",
    "    high_z += 0.001\n",
    "    dist = cosmo.comoving_distance(high_z)-cosmo.comoving_distance(low_z)\n",
    "    if dist.value > 150:\n",
    "        bins.append(round(low_z,4))\n",
    "        low_z = high_z\n",
    "        \n",
    "        \n",
    "print(bins)"
   ]
  },
  {
   "cell_type": "code",
   "execution_count": 3,
   "metadata": {
    "ExecuteTime": {
     "end_time": "2020-10-24T18:13:47.216605Z",
     "start_time": "2020-10-24T18:13:47.210621Z"
    }
   },
   "outputs": [
    {
     "name": "stdout",
     "output_type": "stream",
     "text": [
      "Help on method comoving_volume in module astropy.cosmology.core:\n",
      "\n",
      "comoving_volume(z) method of astropy.cosmology.core.FlatLambdaCDM instance\n",
      "    Comoving volume in cubic Mpc at redshift ``z``.\n",
      "    \n",
      "    This is the volume of the universe encompassed by redshifts less\n",
      "    than ``z``. For the case of omega_k = 0 it is a sphere of radius\n",
      "    `comoving_distance` but it is less intuitive\n",
      "    if omega_k is not 0.\n",
      "    \n",
      "    Parameters\n",
      "    ----------\n",
      "    z : array_like\n",
      "      Input redshifts.  Must be 1D or scalar.\n",
      "    \n",
      "    Returns\n",
      "    -------\n",
      "    V : `~astropy.units.Quantity`\n",
      "      Comoving volume in :math:`Mpc^3` at each input redshift.\n",
      "\n"
     ]
    }
   ],
   "source": [
    "help(cosmo.comoving_volume)"
   ]
  },
  {
   "cell_type": "code",
   "execution_count": null,
   "metadata": {},
   "outputs": [],
   "source": [
    "norm="
   ]
  }
 ],
 "metadata": {
  "hide_input": false,
  "kernelspec": {
   "display_name": "Python 3",
   "language": "python",
   "name": "python3"
  },
  "language_info": {
   "codemirror_mode": {
    "name": "ipython",
    "version": 3
   },
   "file_extension": ".py",
   "mimetype": "text/x-python",
   "name": "python",
   "nbconvert_exporter": "python",
   "pygments_lexer": "ipython3",
   "version": "3.7.4"
  }
 },
 "nbformat": 4,
 "nbformat_minor": 2
}
